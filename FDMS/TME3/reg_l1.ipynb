{
 "cells": [
  {
   "cell_type": "markdown",
   "metadata": {
    "deletable": true,
    "editable": true
   },
   "source": [
    "# TME 3 - Régularisation L1"
   ]
  },
  {
   "cell_type": "code",
   "execution_count": 1,
   "metadata": {
    "collapsed": false,
    "deletable": true,
    "editable": true
   },
   "outputs": [
    {
     "name": "stdout",
     "output_type": "stream",
     "text": [
      "shape of X: (569, 30)\n",
      "shape of Y: (569,)\n",
      "classes in Y:  [0 1]\n"
     ]
    }
   ],
   "source": [
    "import numpy as np\n",
    "from sklearn import datasets\n",
    "from sklearn import metrics\n",
    "from sklearn.utils import shuffle\n",
    "import matplotlib.pyplot as plt\n",
    "%matplotlib inline\n",
    "\n",
    "cancer = datasets.load_breast_cancer()\n",
    "X = cancer.data\n",
    "print(\"shape of X:\", X.shape)\n",
    "y = cancer.target\n",
    "print(\"shape of Y:\", y.shape)\n",
    "print(\"classes in Y: \", np.unique(y))\n",
    "X, y = shuffle(X, y)\n",
    "\n",
    "# Restricting data\n",
    "X = X[:100,:10]\n",
    "y = y[:100]\n"
   ]
  },
  {
   "cell_type": "code",
   "execution_count": 24,
   "metadata": {
    "collapsed": false,
    "deletable": true,
    "editable": true
   },
   "outputs": [
    {
     "name": "stdout",
     "output_type": "stream",
     "text": [
      "########### Gradient printing: ###########\n",
      "=== Iteration 0 ===\n",
      "Theta init:    [-0.45  0.49 -0.22 ..., -0.46  0.08 -0.14]\n",
      "Gradient:      [ 0.    0.01  0.01 ...,  0.    0.01  0.01]\n",
      "=== Iteration 1 ===\n",
      "Theta init:    [-0.32 -0.45  0.42 ..., -0.25 -0.42  0.49]\n",
      "Gradient:      [ 0.    0.    0.01 ...,  0.01  0.    0.01]\n",
      "=== Iteration 2 ===\n",
      "Theta init:    [-0.34  0.14  0.18 ...,  0.02 -0.25 -0.15]\n",
      "Gradient:      [ 0.    0.01  0.01 ...,  0.01  0.    0.01]\n",
      "=== Iteration 3 ===\n",
      "Theta init:    [-0.44 -0.37  0.2  ..., -0.39  0.01  0.3 ]\n",
      "Gradient:      [ 0.    0.   -0.47 ...,  0.    0.01  0.01]\n",
      "=== Iteration 4 ===\n",
      "Theta init:    [ 0.42  0.26  0.24 ...,  0.26  0.31 -0.12]\n",
      "Gradient:      [ 0.01  0.01  0.01 ...,  0.01  0.01  0.01]\n",
      "=== Iteration 5 ===\n",
      "Theta init:    [-0.47  0.45  0.33 ...,  0.35  0.38 -0.03]\n",
      "Gradient:      [ 0.    0.01 -0.05 ...,  0.01  0.01  0.01]\n",
      "=== Iteration 6 ===\n",
      "Theta init:    [ 0.29 -0.17  0.36 ..., -0.33 -0.17  0.27]\n",
      "Gradient:      [ 0.01  0.01  0.01 ...,  0.    0.01  0.01]\n",
      "=== Iteration 7 ===\n",
      "Theta init:    [-0.42  0.05 -0.34 ..., -0.37 -0.42 -0.28]\n",
      "Gradient:      [ 0.    0.01  0.   ...,  0.    0.    0.  ]\n",
      "=== Iteration 8 ===\n",
      "Theta init:    [ 0.28 -0.41 -0.06 ...,  0.02 -0.04 -0.03]\n",
      "Gradient:      [ 0.01  0.    0.01 ...,  0.01  0.01  0.01]\n",
      "=== Iteration 9 ===\n",
      "Theta init:    [-0.11  0.02  0.03 ..., -0.3   0.5   0.21]\n",
      "Gradient:      [ 0.01  0.01 -0.48 ...,  0.    0.01  0.01]\n"
     ]
    }
   ],
   "source": [
    "from scipy.optimize import approx_fprime, check_grad, minimize\n",
    "\n",
    "def decision(theta, X):\n",
    "    return np.sign(X.dot(theta)) / 2 + 0.5\n",
    "\n",
    "def loss(theta, X, y, pen):\n",
    "    mse = ((y - decision(theta, X))**2).mean()\n",
    "    return mse + pen * np.linalg.norm(theta, 1)\n",
    "\n",
    "print(\"########### Gradient printing: ###########\")\n",
    "for i in range(10):\n",
    "    print(\"=== Iteration %d ===\" % i)\n",
    "    theta_init = np.random.random(X[0].shape) - 0.5\n",
    "    func = lambda t: loss(t, X, y, pen)\n",
    "    grad = approx_fprime(theta_init, func, epsilon=1)\n",
    "    print(\"Theta init:   \", theta_init)\n",
    "    print(\"Gradient:     \",grad)\n",
    "\n",
    "    \n",
    "def gradient_l1(theta, X, y, max_iter=100, step=1e-1, pen=0.1, verbose=0, plot=False):\n",
    "    \"\"\" Performs gradient clipping to find the best theta\n",
    "    :param:\n",
    "    \n",
    "    :return:\"\"\"\n",
    "    \n",
    "    (l, n) = X.shape\n",
    "    losses = []\n",
    "    for it in range(max_iter):\n",
    "        if verbose >= 1:\n",
    "            print(\"###########  Step\", it, \": #################\")\n",
    "        for i in range(l):\n",
    "            idx = np.random.randint(0, l)\n",
    "            if verbose >= 2:\n",
    "                print(\"========= i = %d, idx = %d ===========\" % (i, idx))\n",
    "            local_loss = lambda t: loss(t, np.array([X[idx]]), np.array([y[idx]]), pen)\n",
    "            grad = approx_fprime(theta, local_loss, epsilon=step)\n",
    "            theta_prime = theta - step * grad\n",
    "            \n",
    "            if verbose >= 2:\n",
    "                print(\"Random sample:\", X[idx])\n",
    "                print(\"Gradient:     \",grad)\n",
    "                print(\"Theta before: \", theta)\n",
    "            theta_prime[theta * theta_prime < 0] = 0\n",
    "            theta = theta_prime\n",
    "            if verbose >= 2:\n",
    "                print(\"Theta after:  \", theta)\n",
    "                \n",
    "        general_loss = loss(theta, X, y, pen)\n",
    "        losses.append(general_loss)\n",
    "        if verbose >= 1:\n",
    "            print(\"L = %f\" % (general_loss))\n",
    "    \n",
    "    if plot:\n",
    "        plt.plot(losses)\n",
    "        plt.title(\"Evolution of loss\")\n",
    "        plt.xlabel(\"Iterations\")\n",
    "        plt.ylabel(\"Loss\")\n",
    "    return theta"
   ]
  },
  {
   "cell_type": "code",
   "execution_count": 32,
   "metadata": {
    "collapsed": false,
    "deletable": true,
    "editable": true,
    "scrolled": true
   },
   "outputs": [
    {
     "name": "stdout",
     "output_type": "stream",
     "text": [
      "theta found with gradient descent: [-0.   -0.   -0.01 ..., -0.01 -0.   -0.  ]\n",
      "Decision function: [ 0.  0.  0. ...,  0.  0.  0.]\n",
      "Real labels: [0 0 1 ..., 0 0 1]\n"
     ]
    },
    {
     "data": {
      "image/png": "[encoded data removed]",
      "text/plain": [
       "<matplotlib.figure.Figure at 0x7fc3254d5f98>"
      ]
     },
     "metadata": {},
     "output_type": "display_data"
    }
   ],
   "source": [
    "# Optimization parameters\n",
    "theta_init = np.random.random(X[0].shape)\n",
    "max_iter = 1000\n",
    "step     = 1e-2\n",
    "pen      = 1e-2\n",
    "\n",
    "# Find theta \n",
    "np.set_printoptions(precision=2, threshold=5)\n",
    "theta = gradient_l1(theta_init, X, y, max_iter=max_iter, step=step, pen=pen, verbose=0, plot=True)\n",
    "print(\"theta found with gradient descent:\", theta)\n",
    "# theta_minimize = minimize(lambda t:loss(t, X, y, pen), theta_init).x\n",
    "# print(\"theta with minimize():            \", theta_minimize)\n",
    "print(\"Decision function:\", decision(theta, X))\n",
    "print(\"Real labels:\", y)"
   ]
  },
  {
   "cell_type": "code",
   "execution_count": 8,
   "metadata": {
    "collapsed": true,
    "deletable": true,
    "editable": true
   },
   "outputs": [],
   "source": [
    "from sklearn.base import BaseEstimator\n",
    "\n",
    "class LinearClassifier(BaseEstimator):\n",
    "    \"\"\" Custom linear classifier \"\"\"\n",
    "    \n",
    "    def __init__(self, max_iter=1000, step=1e-2, pen=1e-2, verbose=0):\n",
    "        self.theta= 0\n",
    "        self.max_iter = max_iter\n",
    "        self.step = step\n",
    "        self.pen = pen\n",
    "        self.verbose = verbose\n",
    "    \n",
    "    def fit(self, X, y):\n",
    "        self.theta = gradient_l1(np.ones_like(X[0]), X, y, \n",
    "                                 max_iter=self.max_iter, \n",
    "                                 step=self.step, \n",
    "                                 pen=self.pen,\n",
    "                                 verbose=self.verbose)\n",
    "        \n",
    "    def predict(self, X):\n",
    "        return decision(theta, X)\n",
    "\n",
    "    def get_theta(self):\n",
    "        return self.theta"
   ]
  },
  {
   "cell_type": "code",
   "execution_count": 10,
   "metadata": {
    "collapsed": false,
    "deletable": true,
    "editable": true,
    "scrolled": true
   },
   "outputs": [
    {
     "name": "stdout",
     "output_type": "stream",
     "text": [
      "Theta found: [-0.2508 -0.2508 -0.2508 -0.2508 -0.005  -0.005  -0.005  -0.005  -0.005\n",
      " -0.005 ]\n",
      "KFold:\n",
      "theta :  [-0.2508 -0.2508 -0.2508 -0.2508 -0.005  -0.005  -0.005  -0.005  -0.005\n",
      " -0.005 ]\n",
      "Y_Pred:  [ 1.  1.  1.  1.  1.  1.  1.  1.  1.  1.  1.  1.  1.  1.  1.  1.  1.  1.\n",
      "  1.  1.  1.  1.  1.  1.  1.]\n",
      "Y_reel:  [1 1 1 0 1 1 1 1 1 1 1 1 0 1 1 1 1 0 0 0 1 0 0 1 1]\n",
      "Score:  0.72\n",
      "Errors:  [0 0 0 0 0 0 0]\n",
      "Theta found: [-0.005      -0.005      -0.005      -0.25117647 -0.005      -0.005      -0.005\n",
      " -0.005      -0.005      -0.005     ]\n",
      "KFold:\n",
      "theta :  [-0.005      -0.005      -0.005      -0.25117647 -0.005      -0.005      -0.005\n",
      " -0.005      -0.005      -0.005     ]\n",
      "Y_Pred:  [ 1.  1.  1.  1.  1.  1.  1.  1.  1.  1.  1.  1.  1.  1.  1.  1.  1.  1.\n",
      "  1.  1.  1.  1.  1.  1.  1.]\n",
      "Y_reel:  [0 1 1 0 0 1 1 1 0 1 1 1 0 1 1 1 1 1 1 1 1 0 0 1 1]\n",
      "Score:  0.72\n",
      "Errors:  [0 0 0 0 0 0 0]\n",
      "Theta found: [-0.005      -0.005      -0.005      -0.49293746 -0.005      -0.005      -0.005\n",
      " -0.005      -0.005      -0.005     ]\n",
      "KFold:\n",
      "theta :  [-0.005      -0.005      -0.005      -0.49293746 -0.005      -0.005      -0.005\n",
      " -0.005      -0.005      -0.005     ]\n",
      "Y_Pred:  [ 1.  1.  1.  1.  1.  1.  1.  1.  1.  1.  1.  1.  1.  1.  1.  1.  1.  1.\n",
      "  1.  1.  1.  1.  1.  1.  1.]\n",
      "Y_reel:  [1 1 1 0 1 1 1 1 1 1 1 1 1 1 1 0 1 1 1 1 1 1 1 1 1]\n",
      "Score:  0.92\n",
      "Errors:  [0 0]\n",
      "Theta found: [-0.005  -0.005  -0.005   0.4924 -0.005  -0.005  -0.005  -0.005  -0.005\n",
      " -0.005 ]\n",
      "KFold:\n",
      "theta :  [-0.005  -0.005  -0.005   0.4924 -0.005  -0.005  -0.005  -0.005  -0.005\n",
      " -0.005 ]\n",
      "Y_Pred:  [ 1.  1.  1.  1.  1.  1.  1.  1.  1.  1.  1.  1.  1.  1.  1.  1.  1.  1.\n",
      "  1.  1.  1.  1.  1.  1.  1.]\n",
      "Y_reel:  [0 0 0 0 1 1 1 0 1 1 1 0 1 1 0 0 0 1 0 0 1 0 1 1 0]\n",
      "Score:  0.48\n",
      "Errors:  [0 0 0 0 0 0 0 0 0 0 0 0 0]\n"
     ]
    }
   ],
   "source": [
    "from sklearn.model_selection import train_test_split\n",
    "from sklearn.metrics import accuracy_score\n",
    "from sklearn.cross_validation import cross_val_score\n",
    "from sklearn.model_selection import KFold\n",
    "\n",
    "\n",
    "\n",
    "kf = KFold(n_splits=4)\n",
    "\n",
    "\n",
    "for train_index, test_index in kf.split(X):\n",
    "    X_train, X_test = X[train_index], X[test_index]\n",
    "    Y_train, Y_test = y[train_index], y[test_index]\n",
    "    clf = LinearClassifier(max_iter=max_iter, step=step, pen=pen, verbose=0)\n",
    "    clf.fit(X_train, Y_train)\n",
    "    print(\"Theta found:\", clf.get_theta())\n",
    "    pred = clf.predict(X_test)\n",
    "    \n",
    "    print(\"KFold:\")\n",
    "    print(\"Y_Pred: \", pred)\n",
    "    print(\"Y_reel: \", Y_test)\n",
    "    print(\"Score: \", accuracy_score(pred, Y_test))\n",
    "    print(\"Errors: \", Y_test[pred != Y_test])\n"
   ]
  },
  {
   "cell_type": "code",
   "execution_count": null,
   "metadata": {
    "collapsed": true,
    "deletable": true,
    "editable": true
   },
   "outputs": [],
   "source": []
  }
 ],
 "metadata": {
  "kernelspec": {
   "display_name": "Python 3",
   "language": "python",
   "name": "python3"
  },
  "language_info": {
   "codemirror_mode": {
    "name": "ipython",
    "version": 3
   },
   "file_extension": ".py",
   "mimetype": "text/x-python",
   "name": "python",
   "nbconvert_exporter": "python",
   "pygments_lexer": "ipython3",
   "version": "3.5.2"
  }
 },
 "nbformat": 4,
 "nbformat_minor": 0
}
