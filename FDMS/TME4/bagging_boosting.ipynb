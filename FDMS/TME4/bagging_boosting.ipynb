{
 "cells": [
  {
   "cell_type": "markdown",
   "metadata": {
    "deletable": true,
    "editable": true
   },
   "source": [
    "# Fouille de données et medias sociaux\n",
    "# TP4 : Bagging et Boosting\n",
    "\n",
    "## Exercice 1 Bagging\n",
    "### Question 1\n",
    "Écrivez une fonction (ou une classe) implémentant la méthode Bagging."
   ]
  },
  {
   "cell_type": "code",
   "execution_count": 233,
   "metadata": {
    "collapsed": false,
    "deletable": true,
    "editable": true
   },
   "outputs": [],
   "source": [
    "import numpy as np\n",
    "from sklearn.base import ClassifierMixin\n",
    "from sklearn.tree import DecisionTreeClassifier\n",
    "from collections import Counter\n",
    "from sklearn.metrics import accuracy_score\n",
    "from sklearn.utils import shuffle\n",
    "\n",
    "# TODO: Parallelization\n",
    "# TODO: Bootstrap on features\n",
    "\n",
    "class BaggingClassifier(ClassifierMixin):\n",
    "    def __init__(self, base_estimator=None, n_estimators=5, \n",
    "                 max_samples=1.0, bootstrap=True, verbose=0,\n",
    "                oob_score=False):\n",
    "        if base_estimator is None:\n",
    "            self.base_estimator = DecisionTreeClassifier\n",
    "        else:\n",
    "            self.base_estimator = base_estimator\n",
    "            \n",
    "        self.n_estimators = n_estimators\n",
    "        self.max_samples = max_samples\n",
    "        self.bootstrap = bootstrap\n",
    "        self.verbose = verbose\n",
    "        self.oob_score = oob_score\n",
    "        \n",
    "        \n",
    "        self.estimators = None\n",
    "        self.oob_score_ = None\n",
    "        \n",
    "    def fit(self, X, y):\n",
    "        self.estimators = []\n",
    "        if self.oob_score:\n",
    "            self.oob_counters = [Counter() for elt in X]\n",
    "            # self.oob_counters[i] = predictions for sample i\n",
    "        if self.verbose >= 1:\n",
    "            print(\"##### Fitting the classifiers #####\")\n",
    "        for i in range(self.n_estimators):\n",
    "            if self.verbose >= 1:\n",
    "                print(\"Fitting classifier n°%d...\" % i)\n",
    "            clf = self.base_estimator()\n",
    "            sample_idx = np.random.choice(X.shape[0], \n",
    "                                          int(X.shape[0]*self.max_samples), \n",
    "                                          replace=self.bootstrap)\n",
    "            if self.verbose >= 2:\n",
    "                print(\"Random indexes:\", sample_idx)\n",
    "            clf.fit(X[sample_idx], y[sample_idx])\n",
    "            if self.verbose >= 1:\n",
    "                print(\"Done.\")\n",
    "            \n",
    "            if self.oob_score:\n",
    "                oob_samples = np.setdiff1d(np.arange(X.shape[0]), sample_idx)\n",
    "                preds = clf.predict(X)\n",
    "                for i in oob_samples:\n",
    "                    self.oob_counters[i].update([preds[i]])\n",
    "                    \n",
    "            self.estimators.append(clf)\n",
    "          \n",
    "        if self.oob_score:\n",
    "            if Counter() in self.oob_counters:\n",
    "                print(\"Warning, some samples don't have OOB estimations, \\\n",
    "                        the number of estimators seems to be too low.\")\n",
    "            else:\n",
    "                self.oob_predictions = [c.most_common(1)[0][0] for c in self.oob_counters]\n",
    "                errors = np.count_nonzero(self.oob_predictions != y)\n",
    "                self.oob_score_ = errors / X.shape[0]\n",
    "        \n",
    "        if self.verbose >= 1:\n",
    "            print(\"##### Fitting is over #####\")\n",
    "        \n",
    "    def predict(self, X):\n",
    "        predictions = np.empty((X.shape[0], len(self.estimators)))\n",
    "        # predictions[i][j] = self.estimators[j].predict(X[i])\n",
    "        # TODO: More efficient method: only store new class and counters\n",
    "        for j, clf in enumerate(self.estimators):\n",
    "            predictions[:, j] = clf.predict(X)\n",
    "        \n",
    "        most_common = [Counter(line).most_common(1)[0][0] for line in predictions]\n",
    "        return most_common\n",
    "        \n",
    "    def score(self, X, y):\n",
    "        return accuracy_score(self.predict(X), y)\n",
    "    \n",
    "    \n",
    "    "
   ]
  },
  {
   "cell_type": "markdown",
   "metadata": {
    "deletable": true,
    "editable": true
   },
   "source": [
    "### Question 2\n",
    "Appliquez cette méthode sur des arbres de décisions."
   ]
  },
  {
   "cell_type": "code",
   "execution_count": 234,
   "metadata": {
    "collapsed": false,
    "deletable": true,
    "editable": true
   },
   "outputs": [
    {
     "name": "stdout",
     "output_type": "stream",
     "text": [
      "Shape of X: (150, 4)\n",
      "Shape of y: (150,)\n",
      "Classes in y: (array([0, 1, 2]), array([50, 50, 50]))\n",
      "Scores with bag_clf: 0.977777777778\n"
     ]
    }
   ],
   "source": [
    "from sklearn import datasets\n",
    "from sklearn.model_selection import train_test_split, GridSearchCV\n",
    "\n",
    "iris = datasets.load_iris()\n",
    "X, y = iris.data, iris.target\n",
    "\n",
    "print(\"Shape of X:\", X.shape)\n",
    "print(\"Shape of y:\", y.shape)\n",
    "print(\"Classes in y:\", np.unique(y, return_counts=True))\n",
    "\n",
    "X_train, X_test, y_train, y_test = train_test_split(X, y, test_size=0.3)\n",
    "\n",
    "bag_clf = BaggingClassifier(base_estimator=DecisionTreeClassifier, oob_score=True,\n",
    "                            n_estimators=100, verbose=0)\n",
    "bag_clf.fit(X_train, y_train)\n",
    "print(\"Scores with bag_clf:\", bag_clf.score(X_test, y_test))\n",
    "\n"
   ]
  },
  {
   "cell_type": "markdown",
   "metadata": {
    "deletable": true,
    "editable": true
   },
   "source": [
    "### Question 3\n",
    "Évaluez et commentez l’erreur en généralisation par rapport à un arbre unique."
   ]
  },
  {
   "cell_type": "code",
   "execution_count": 235,
   "metadata": {
    "collapsed": false,
    "deletable": true,
    "editable": true
   },
   "outputs": [
    {
     "name": "stdout",
     "output_type": "stream",
     "text": [
      "For the BaggingClassifier, OOB error: 0.0761904761904762\n",
      "For the DecisionTreeClassifier, OOB error: 0.0222222222222\n",
      "Best parameters found for the DecisionTreeClassifier: {'splitter': 'random', 'criterion': 'gini', 'min_samples_split': 0.25074999999999997, 'max_depth': 50}\n"
     ]
    }
   ],
   "source": [
    "print(\"For the BaggingClassifier, OOB error:\", bag_clf.oob_score_)\n",
    "\n",
    "# Evaluating the OOB error on a decision tree:\n",
    "\n",
    "# Parameters for the Grid Search:\n",
    "params = {\"criterion\":(\"gini\", \"entropy\"),\n",
    "          \"splitter\":(\"best\", \"random\"),\n",
    "          \"max_depth\":np.arange(5, 51, 5),\n",
    "          \"min_samples_split\":np.linspace(1e-3, 1., 5)\n",
    "            }\n",
    "\n",
    "gridsearch = GridSearchCV(DecisionTreeClassifier(), params)\n",
    "gridsearch.fit(X_train, y_train)\n",
    "\n",
    "print(\"For the DecisionTreeClassifier, OOB error:\", 1 - gridsearch.score(X_test, y_test))\n",
    "print(\"Best parameters found for the DecisionTreeClassifier:\", gridsearch.best_params_)"
   ]
  },
  {
   "cell_type": "markdown",
   "metadata": {
    "deletable": true,
    "editable": true
   },
   "source": [
    "## Exercice 2 Boosting\n",
    "### Question 1\n",
    "**Montrer que le coefficient de pondération des hypothèses vaut bien ce qu’il vaut.**\n",
    "\n",
    "Soit un problème d'apprentissage avec $((x_i, y_i)_{i \\in \\{1..n\\}}$, $x_i \\in X$, $y_i \\in \\{-1, +1\\}$\n",
    "\n",
    "Après l'itération n° $m-1$, notre classifieur Boost est une combinaison linéaire de classifieurs faibles $h_i:X \\rightarrow \\{-1, +1\\}$ pondéré par les coefficients $a_i$:\n",
    "\n",
    "$C_{m-1}(x) = \\sum_{i=1}^{m-1}{a_i ⋅ h_i(x)}$.\n",
    "\n",
    "On veut trouver un nouvel estimateur faible $h_m$ pour avoir l'estimateur Boost à l'itération $m$.\n",
    "\n",
    "Soit l'erreur totale de $C_m$ : $E = \\sum_{i=1}^n{e^{-y_i ⋅ C_m(x_i)}}$, \n",
    "\n",
    "posons $w_i^1 = 1$ et $w_i^m = e^{-y_i ⋅ C_{m-1}(x_i)}$ pour $1 < m$, \n",
    "on a alors :\n",
    "\n",
    "$E = \\sum_{i=1}^n{e^{-y_i ⋅ C_m(x_i)}} \\\\\n",
    "E = \\sum_{y_i = h_m(x_i)}{w_i^m⋅e^{-a_m}} + \\sum_{y_i \\neq h_m(x_i)}{w_i^m⋅e^{a_m}} \\\\\n",
    "E = \\sum_{i=1}^n{w_i^m ⋅ e^{-a_m}} + \\sum_{y_i \\neq h_m(x_i)}{w_i^m⋅(e^{a_m} - e^{-a_m})} $\n",
    "\n",
    "Ainsi l'estimateur faible $h_m$ qui minimise $E$ est celui qui minimise $\\sum_{y_i \\neq h_m(x_i)}{w_i^m}$, c'est-à-dire le classifieur qui fait le moins d'erreurs de classification, avec la pondération $w_i^m$.\n",
    "\n",
    "Après avoir trouvé ce classifieur $h_m$, il faut trouver le coefficient $a_m$, c'est le coefficient qui minimise $E$ :\n",
    "\n",
    "$\\frac {dE}{da_m} = \\sum_{y_i \\neq h_m(x_i)}{w_i^m⋅e^{a_m}} - \\sum_{y_i = h_m(x_i)}{w_i^m⋅e^{-a_m}}$\n",
    "\n",
    "$\\frac {dE}{da_m} = 0 \\Leftrightarrow \\sum_{y_i \\neq h_m(x_i)}{w_i^m⋅e^{a_m}} - \\sum_{y_i = h_m(x_i)}{w_i^m⋅e^{-a_m}} = 0 \\\\\n",
    "\\Leftrightarrow \\sum_{y_i \\neq h_m(x_i)}{w_i^m⋅e^{a_m}}  = \\sum_{y_i = h_m(x_i)}{w_i^m⋅e^{-a_m}}\\\\\n",
    "\\Leftrightarrow e^{2⋅a_m}⋅\\sum_{y_i \\neq h_m(x_i)}{w_i^m}  = \\sum_{y_i = h_m(x_i)}{w_i^m}\\\\\n",
    "\\Leftrightarrow 2⋅a_m = ln(\\frac {\\sum_{y_i = h_m(x_i)}{w_i^m}}{\\sum_{y_i \\neq h_m(x_i)}{w_i^m} })\\\\\n",
    "\\Leftrightarrow a_m = \\frac 1 2 ln(\\frac {\\sum_{y_i = h_m(x_i)}{w_i^m}}{\\sum_{y_i \\neq h_m(x_i)}{w_i^m} })$\n",
    "\n",
    "Ainsi on peut écrire l'erreur pondérée : \n",
    "\n",
    "$\\epsilon_m = \\frac {\\sum_{y_i \\neq h_m(x_i)}{w_i^m}} {\\sum_{i=1}^n{w_i^m}}$\n",
    "\n",
    "Et donc $a_m = \\frac 1 2 ln(\\frac {1-\\epsilon_m} {\\epsilon_m})$\n",
    "\n",
    "### Question 2\n",
    "Écrivez une fonction (ou une classe) implémentant la méthode AdaBoost."
   ]
  },
  {
   "cell_type": "code",
   "execution_count": 258,
   "metadata": {
    "collapsed": false,
    "deletable": true,
    "editable": true
   },
   "outputs": [],
   "source": [
    "from sklearn.base import clone\n",
    "\n",
    "class AdaBoostClassifier(ClassifierMixin):\n",
    "    \n",
    "    def __init__(self, base_estimator=None, n_estimators=50, learning_rate=1, verbose=False):\n",
    "        \"\"\" Create an AdaBoostClassifier.\n",
    "        :param base_estimator: The estimator used to fit the data. \n",
    "            Support for sample weighting is required\n",
    "        :param n_estimators: Number of used estimators\"\"\"\n",
    "        if base_estimator is None:\n",
    "            self.base_estimator = DecisionTreeClassifier()\n",
    "        else:\n",
    "            self.base_estimator = base_estimator\n",
    "        self.n_estimators = n_estimators\n",
    "        self.learning_rate = learning_rate\n",
    "        self.verbose = verbose\n",
    "\n",
    "    def fit(self, X, y):\n",
    "        self.sample_weight = np.array([1/y.shape[0]] * y.shape[0])\n",
    "        self.estimators = []\n",
    "        self.alphas = []\n",
    "        for it in range(self.n_estimators):\n",
    "            clf = clone(self.base_estimator)\n",
    "            clf.fit(X, y, sample_weight=self.sample_weight)\n",
    "            prediction = clf.predict(X)\n",
    "            misclass = np.arange(y.shape[0])[prediction != y]\n",
    "            error = sum(self.sample_weight[misclass])\n",
    "            \n",
    "            if error == 0:\n",
    "                error = 1/y.shape[0]\n",
    "            alpha = 1/2 * np.log((1-error)/error)\n",
    "            if self.verbose:\n",
    "                print(20*'-')\n",
    "                print(\"Weights:\", self.sample_weight[:20])\n",
    "                print(\"Misclassified:\", misclass[:10])\n",
    "                print(\"Summed error: %f, score: %f (%d misclassified)\" %(error, 1-error, len(misclass)))\n",
    "                print(\"Alpha:\", alpha)\n",
    "#                 print(\"Feature importance:\", clf.feature_importances_)\n",
    "                print(20*'-')\n",
    "            self.sample_weight = self.sample_weight * np.exp(-y * prediction * alpha)\n",
    "            self.sample_weight /= sum(self.sample_weight)\n",
    "            self.estimators.append(clf)\n",
    "            self.alphas.append(alpha)\n",
    "            \n",
    "    def predict(self, X):\n",
    "        predictions = np.zeros(X.shape[0])\n",
    "        for clf, alpha in zip(self.estimators, self.alphas):\n",
    "            if self.verbose:\n",
    "                print(clf.predict(X)[:10])\n",
    "            predictions += alpha * self.learning_rate * clf.predict(X)\n",
    "            \n",
    "        return (np.sign(predictions))\n",
    "    \n",
    "    def get_sample_weight(self):\n",
    "        return self.sample_weight\n"
   ]
  },
  {
   "cell_type": "markdown",
   "metadata": {
    "deletable": true,
    "editable": true
   },
   "source": [
    "### Question 3\n",
    "**Comment adapter un classifieur qui ne gère pas naturellement des pondérations pour qu’il puisse en tenir\n",
    "compte ?**\n",
    "\n",
    "Si un classifieur ne gère pas les pondérations, on peut dupliquer certains exemples afin que la proportion de ces exemples reflète leur poids.\n",
    "Par exemple si les poids sont les suivants :\n",
    "* Exemple 1 : 1/3\n",
    "* Exemple 2 : 1/3\n",
    "* Exemple 3 : 1/2\n",
    "\n",
    "Alors on peut créer un nouveau ensemble de données d'entraînement qui contiendra : {ex1, ex1, ex2, ex2, ex3, ex3, ex3}, et les proportions seront respectées.\n",
    "\n",
    "Plus formellement, il faudrait approcher les poids par des fractions rationnelles, puis tout mettre au même dénominateur, et le numérateur de chaque fraction donne le nombre d'échantillons à avoir pour cet exemple.\n",
    "\n",
    "\n",
    "\n",
    "### Question 4\n",
    "**Appliquez cette méthode sur des stumps (arbres de décision à un nœud).**"
   ]
  },
  {
   "cell_type": "code",
   "execution_count": 259,
   "metadata": {
    "collapsed": false,
    "deletable": true,
    "editable": true
   },
   "outputs": [
    {
     "name": "stdout",
     "output_type": "stream",
     "text": [
      "##### Extracting the data #####\n",
      "Shape of X: (569, 30)\n",
      "Shape of y: (569,)\n",
      "Classes in y: (array([-1,  1]), array([212, 357]))\n",
      "##### Testing AdaBoost: #####\n",
      "Score on the test set: 0.953216374269\n",
      "Score on the train set: 0.994974874372\n"
     ]
    }
   ],
   "source": [
    "# Testing with stumps:\n",
    "print(\"##### Extracting the data #####\")\n",
    "breast_cancer = datasets.load_breast_cancer()\n",
    "X, y = breast_cancer.data, breast_cancer.target\n",
    "\n",
    "y = (y*2) - 1 # To bring y into {-1, +1}\n",
    "print(\"Shape of X:\", X.shape)\n",
    "print(\"Shape of y:\", y.shape)\n",
    "print(\"Classes in y:\", np.unique(y, return_counts=True))\n",
    "\n",
    "X_train, X_test, y_train, y_test = train_test_split(X, y, test_size=0.3)\n",
    "\n",
    "        \n",
    "print(\"##### Testing AdaBoost: #####\")\n",
    "np.set_printoptions(precision=4)\n",
    "adaboost = AdaBoostClassifier(base_estimator=DecisionTreeClassifier(max_depth=1), \n",
    "                              n_estimators=20, verbose=False)\n",
    "adaboost.fit(X_train, y_train)\n",
    "print(\"Score on the test set:\", accuracy_score(adaboost.predict(X_test), y_test))\n",
    "print(\"Score on the train set:\", accuracy_score(adaboost.predict(X_train), y_train))\n"
   ]
  },
  {
   "cell_type": "markdown",
   "metadata": {
    "deletable": true,
    "editable": true
   },
   "source": [
    "### Question 5\n",
    "Tracez les courbes de l’erreur d’apprentissage et de l’erreur de test en fonction du nombre de classifieurs."
   ]
  },
  {
   "cell_type": "code",
   "execution_count": 295,
   "metadata": {
    "collapsed": false,
    "deletable": true,
    "editable": true
   },
   "outputs": [
    {
     "name": "stdout",
     "output_type": "stream",
     "text": [
      "##### Finding the error of one stump #####\n",
      "Stump test error: 0.111111111111\n",
      "##### Finding the error of a tree #####\n",
      "Tree test error: 0.0701754385965\n",
      "##### Computing the errors for AdaBoost #####\n"
     ]
    },
    {
     "data": {
      "image/png": "[encoded data removed]",
      "text/plain": [
       "<matplotlib.figure.Figure at 0x7feb99858e48>"
      ]
     },
     "metadata": {},
     "output_type": "display_data"
    },
    {
     "data": {
      "image/png": "[encoded data removed]",
      "text/plain": [
       "<matplotlib.figure.Figure at 0x7feb99786f98>"
      ]
     },
     "metadata": {},
     "output_type": "display_data"
    }
   ],
   "source": [
    "import matplotlib.pyplot as plt\n",
    "\n",
    "print(\"##### Finding the error of one stump #####\")\n",
    "stump = DecisionTreeClassifier(max_depth=1)\n",
    "stump.fit(X_train, y_train)\n",
    "stump_test_error  = 1 - stump.score(X_test, y_test)\n",
    "stump_train_error = 1 - stump.score(X_train, y_train)\n",
    "print(\"Stump test error:\", stump_test_error)\n",
    "\n",
    "print(\"##### Finding the error of a tree #####\")\n",
    "gridsearch = GridSearchCV(DecisionTreeClassifier(), \n",
    "                          param_grid={'max_depth':np.logspace(0.1, 2, 10, dtype=int),\n",
    "                                     'splitter':(\"best\", \"random\")})\n",
    "gridsearch.fit(X_train, y_train)\n",
    "tree_test_error  = 1 - gridsearch.score(X_test, y_test)\n",
    "tree_train_error = 1 - gridsearch.score(X_train, y_train)\n",
    "print(\"Tree test error:\", tree_test_error)\n",
    "\n",
    "\n",
    "print(\"##### Computing the errors for AdaBoost #####\")\n",
    "max_estimators = 500\n",
    "n_estimators_list = range(1, max_estimators, 10)\n",
    "errors_test = []\n",
    "errors_train = []\n",
    "for n_estimators in n_estimators_list:\n",
    "    adaboost = AdaBoostClassifier(base_estimator=DecisionTreeClassifier(max_depth=1),\n",
    "                                  learning_rate=1,\n",
    "                                  n_estimators=n_estimators)\n",
    "    adaboost.fit(X_train, y_train)\n",
    "    errors_test.append( 1 - accuracy_score(adaboost.predict(X_test), y_test))\n",
    "    errors_train.append(1 - accuracy_score(adaboost.predict(X_train), y_train))\n",
    "\n",
    "# print(n_estimators_list)\n",
    "# print(errors_list)\n",
    "plt.hlines(stump_train_error, xmin=0, xmax=max_estimators, label=\"Stump\", colors=\"r\")\n",
    "plt.hlines(tree_train_error, xmin=0, xmax=max_estimators, label=\"Single tree\", colors=\"black\")\n",
    "plt.plot(n_estimators_list, errors_train, label=\"AdaBoost\")\n",
    "plt.title(\"Performance of AdaBoost on the training set\")\n",
    "plt.xlabel(\"Number of stumps\")\n",
    "plt.ylabel(\"Error rate\")\n",
    "plt.legend()\n",
    "plt.show()\n",
    "\n",
    "plt.hlines(stump_test_error, xmin=0, xmax=max_estimators, label=\"Stump\", colors=\"r\")\n",
    "plt.hlines(tree_test_error, xmin=0, xmax=max_estimators, label=\"Single tree\", colors=\"black\")\n",
    "plt.plot(n_estimators_list, errors_test, label=\"AdaBoost\")\n",
    "plt.title(\"Performance of AdaBoost on the testing set\")\n",
    "plt.xlabel(\"Number of stumps\")\n",
    "plt.ylabel(\"Error rate\")\n",
    "plt.legend()\n",
    "plt.show()"
   ]
  },
  {
   "cell_type": "markdown",
   "metadata": {},
   "source": [
    "### Question 6\n",
    "Affichez les points associés aux poids les plus élevés (donc les plus difficiles à classer). Sont-ils bien classés\n",
    "désormais ? Étaient-ils bien classé avec un seul arbre de décision ? Avec le Bagging ?"
   ]
  },
  {
   "cell_type": "code",
   "execution_count": 296,
   "metadata": {
    "collapsed": false
   },
   "outputs": [
    {
     "name": "stdout",
     "output_type": "stream",
     "text": [
      "Comparing accuracy on hard examples:\n",
      "- Accuracy of AdaBoost on hard examples: 56/56 right guesses\n",
      "- Accuracy of a stump on hard examples:  27/56 right guesses\n",
      "- Accuracy of a tree on hard examples:   26/56 right guesses\n",
      "- Accuracy of Bagging on hard examples:   31/56 right guesses\n"
     ]
    }
   ],
   "source": [
    "from collections import Counter\n",
    "\n",
    "print(\"Comparing accuracy on hard examples:\")\n",
    "sample_weight = adaboost.get_sample_weight()\n",
    "# Indexes of hard examples (weight above the mean)\n",
    "idx_hard = np.arange(sample_weight.shape[0])[sample_weight > sample_weight.mean()]\n",
    "adaboost_predict = adaboost.predict(X_train[idx_hard])\n",
    "trues = Counter(adaboost_predict * y_train[idx_hard])[1]\n",
    "print(\"- Accuracy of AdaBoost on hard examples: %d/%d right guesses\" % (trues, len(y[idx_hard])))\n",
    "\n",
    "stump_predict = stump.predict(X_train[idx_hard])\n",
    "print(\"- Accuracy of a stump on hard examples:  %d/%d right guesses\" % (Counter(stump_predict * y[idx_hard])[1],\n",
    "                                                                      len(y[idx_hard])))\n",
    "\n",
    "tree_predict = gridsearch.predict(X_train[idx_hard])\n",
    "print(\"- Accuracy of a tree on hard examples:   %d/%d right guesses\" % (Counter(tree_predict * y[idx_hard])[1],\n",
    "                                                                      len(y[idx_hard])))\n",
    "\n",
    "\n",
    "bagging_clf = BaggingClassifier()\n",
    "bagging_clf.fit(X_train, y_train)\n",
    "bagging_predict = bagging_clf.predict(X_train[idx_hard])\n",
    "print(\"- Accuracy of Bagging on hard examples:  %d/%d right guesses\" % (Counter(bagging_predict * y[idx_hard])[1],\n",
    "                                                                      len(y[idx_hard])))\n",
    "\n"
   ]
  },
  {
   "cell_type": "markdown",
   "metadata": {},
   "source": [
    "### Question 7\n",
    "**Appliquez AdaBoost à des arbres de décision de profondeur plus grande.**\n",
    "\n",
    "**Comment se comporte la généralisation quand la profondeur des arbres augmente ?**\n",
    "\n",
    "On obtient un comportement de sur-apprentissage, l'erreur sur le *train set* tend vers 0, tandis que celle sur le *test set* n'est pas minimale"
   ]
  },
  {
   "cell_type": "code",
   "execution_count": 299,
   "metadata": {
    "collapsed": false
   },
   "outputs": [
    {
     "name": "stdout",
     "output_type": "stream",
     "text": [
      "##### Computing the errors for AdaBoost #####\n"
     ]
    },
    {
     "data": {
      "image/png": "[encoded data removed]",
      "text/plain": [
       "<matplotlib.figure.Figure at 0x7feb99358a90>"
      ]
     },
     "metadata": {},
     "output_type": "display_data"
    },
    {
     "data": {
      "image/png": "[encoded data removed]",
      "text/plain": [
       "<matplotlib.figure.Figure at 0x7feb99423518>"
      ]
     },
     "metadata": {},
     "output_type": "display_data"
    }
   ],
   "source": [
    "import matplotlib.pyplot as plt\n",
    "\n",
    "print(\"##### Computing the errors for AdaBoost #####\")\n",
    "max_estimators = 500\n",
    "n_estimators_list = range(1, max_estimators, 10)\n",
    "errors_test = []\n",
    "errors_train = []\n",
    "for n_estimators in n_estimators_list:\n",
    "    adaboost = AdaBoostClassifier(base_estimator=DecisionTreeClassifier(),\n",
    "                                  learning_rate=1,\n",
    "                                  n_estimators=n_estimators)\n",
    "    adaboost.fit(X_train, y_train)\n",
    "    errors_test.append( 1 - accuracy_score(adaboost.predict(X_test), y_test))\n",
    "    errors_train.append(1 - accuracy_score(adaboost.predict(X_train), y_train))\n",
    "\n",
    "# print(n_estimators_list)\n",
    "# print(errors_list)\n",
    "plt.hlines(stump_train_error, xmin=0, xmax=max_estimators, label=\"Stump\", colors=\"r\")\n",
    "plt.hlines(tree_train_error, xmin=0, xmax=max_estimators, label=\"Single tree\", colors=\"black\")\n",
    "plt.plot(n_estimators_list, errors_train, label=\"AdaBoost\")\n",
    "plt.title(\"Performance of AdaBoost on the training set\")\n",
    "plt.xlabel(\"Number of estimators\")\n",
    "plt.ylabel(\"Error rate\")\n",
    "plt.legend()\n",
    "plt.show()\n",
    "\n",
    "plt.hlines(stump_test_error, xmin=0, xmax=max_estimators, label=\"Stump\", colors=\"r\")\n",
    "plt.hlines(tree_test_error, xmin=0, xmax=max_estimators, label=\"Single tree\", colors=\"black\")\n",
    "plt.plot(n_estimators_list, errors_test, label=\"AdaBoost\")\n",
    "plt.title(\"Performance of AdaBoost on the testing set\")\n",
    "plt.xlabel(\"Number of estimators\")\n",
    "plt.ylabel(\"Error rate\")\n",
    "plt.legend()\n",
    "plt.show()"
   ]
  }
 ],
 "metadata": {
  "kernelspec": {
   "display_name": "Python 3",
   "language": "python",
   "name": "python3"
  },
  "language_info": {
   "codemirror_mode": {
    "name": "ipython",
    "version": 3
   },
   "file_extension": ".py",
   "mimetype": "text/x-python",
   "name": "python",
   "nbconvert_exporter": "python",
   "pygments_lexer": "ipython3",
   "version": "3.5.2"
  }
 },
 "nbformat": 4,
 "nbformat_minor": 2
}
