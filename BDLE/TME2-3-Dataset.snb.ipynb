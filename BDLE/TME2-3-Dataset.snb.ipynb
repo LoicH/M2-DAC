{
  "metadata" : {
    "id" : "ff8adfe4-baed-4a79-beaa-5124649cf922",
    "name" : "TME2-3-Dataset",
    "user_save_timestamp" : "1970-01-01T01:00:00.000Z",
    "auto_save_timestamp" : "1970-01-01T01:00:00.000Z",
    "language_info" : {
      "name" : "scala",
      "file_extension" : "scala",
      "codemirror_mode" : "text/x-scala"
    },
    "trusted" : true,
    "sparkNotebook" : null,
    "customLocalRepo" : null,
    "customRepos" : null,
    "customDeps" : null,
    "customImports" : null,
    "customArgs" : null,
    "customSparkConf" : null,
    "customVars" : null
  },
  "cells" : [
    {
      "metadata" : {
        "id" : "BA874E686C11424E8E8C345A3083FF04"
      },
      "cell_type" : "markdown",
      "source" : "# Exercice 1: Requêtes simples sur les données de Yago"
    },
    {
      "metadata" : {
        "trusted" : true,
        "input_collapsed" : false,
        "collapsed" : false,
        "id" : "74CC55AE2CDE452D8833B090F8C93242"
      },
      "cell_type" : "code",
      "source" : [
        "case class Triple(sujet: String, prop: String, objet: String)\n",
        "\n",
        "val yagoFile = \"/tmp/BDLE/dataset/yagoFacts5M.txt\"\n",
        "\n",
        "\n"
      ],
      "outputs" : [
        {
          "name" : "stdout",
          "output_type" : "stream",
          "text" : "defined class Triple\nyagoFile: String = /tmp/BDLE/dataset/yagoFacts5M.txt\n"
        },
        {
          "metadata" : { },
          "data" : {
            "text/html" : ""
          },
          "output_type" : "execute_result",
          "execution_count" : 1,
          "time" : "Took: 0.661s, at 2017-10-27 11:34"
        }
      ]
    },
    {
      "metadata" : {
        "trusted" : true,
        "input_collapsed" : false,
        "collapsed" : false,
        "id" : "C613D87D97D54CC083891B5EA6D081E2"
      },
      "cell_type" : "code",
      "source" : [
        "val yago = sc.textFile(yagoFile).\n",
        "  map(ligne => ligne.split(\"\\\\t\")).coalesce(8).\n",
        "  map(tab => Triple(tab(0), tab(1), tab(2))).toDS()\n",
        "\n",
        "yago.persist\n",
        "yago.count\n"
      ],
      "outputs" : [
        {
          "name" : "stdout",
          "output_type" : "stream",
          "text" : "yago: org.apache.spark.sql.Dataset[Triple] = [sujet: string, prop: string ... 1 more field]\nres4: Long = 5081764\n"
        },
        {
          "metadata" : { },
          "data" : {
            "text/html" : "5081764"
          },
          "output_type" : "execute_result",
          "execution_count" : 3,
          "time" : "Took: 4.359s, at 2017-10-27 11:39"
        }
      ]
    },
    {
      "metadata" : {
        "id" : "E6AC132556584A7A8AF86A0FAD137840"
      },
      "cell_type" : "markdown",
      "source" : "## R1: Les régions dont la capitale (régionale) est Nantes\n\n `?x <hasCapital> <Nantes> `\n\nLa requête s'écrit ainsi avec une opération de sélection where, un renommage withColumnRenamed et une projection select :\n"
    },
    {
      "metadata" : {
        "trusted" : true,
        "input_collapsed" : false,
        "collapsed" : false,
        "id" : "586F88B8EA24498DA0C2277BD9580664"
      },
      "cell_type" : "code",
      "source" : [
        "\n",
        "val r1 = yago.where(\"prop = '<hasCapital>' and objet = '<Nantes>'\").\n",
        "    withColumnRenamed(\"sujet\",\"x\").\n",
        "    select(\"x\")\n",
        "r1.show(5)"
      ],
      "outputs" : [
        {
          "name" : "stdout",
          "output_type" : "stream",
          "text" : "+-------------------+\n|                  x|\n+-------------------+\n|<Duchy_of_Brittany>|\n| <Pays_de_la_Loire>|\n+-------------------+\n\nr1: org.apache.spark.sql.DataFrame = [x: string]\n"
        },
        {
          "metadata" : { },
          "data" : {
            "text/html" : ""
          },
          "output_type" : "execute_result",
          "execution_count" : 4,
          "time" : "Took: 1.616s, at 2017-10-27 11:39"
        }
      ]
    },
    {
      "metadata" : {
        "id" : "11B9F873A240442984313727DB67ED6E"
      },
      "cell_type" : "markdown",
      "source" : "## R2: La fiche de Barack Obama\n\nAfficher toutes les paires (propriété,objet) au sujet de `<Barack_Obama>`\n\n Le résultat doit être :\n \n``\n|        p       |         o          |\n+----------------+--------------------+\n| <graduatedFrom>|<Columbia_University|\n| <graduatedFrom>|<Harvard_Law_School>|\n|     <hasGender>|              <male>|\n|   <hasWonPrize>|      <Grammy_Award>|\n|   <hasWonPrize>| <Nobel_Peace_Prize>|\n|<isAffiliatedTo>|<Democratic_Party>  |\n``\n"
    },
    {
      "metadata" : {
        "trusted" : true,
        "input_collapsed" : false,
        "collapsed" : false,
        "id" : "A946539A1A404AF6B84EDFC753A4DEAA"
      },
      "cell_type" : "code",
      "source" : [
        "val r2 = yago.where(\"sujet='<Barack_Obama>'\").\n",
        "     withColumnRenamed(\"prop\",\"p\").\n",
        "     withColumnRenamed(\"objet\", \"o\").\n",
        "     select(\"p\", \"o\")\n",
        "\n",
        "r2.show(5)"
      ],
      "outputs" : [
        {
          "name" : "stdout",
          "output_type" : "stream",
          "text" : "+---------------+--------------------+\n|              p|                   o|\n+---------------+--------------------+\n|<graduatedFrom>|<Columbia_Univers...|\n|<graduatedFrom>|<Harvard_Law_School>|\n|    <hasGender>|              <male>|\n|  <hasWonPrize>|      <Grammy_Award>|\n|  <hasWonPrize>| <Nobel_Peace_Prize>|\n+---------------+--------------------+\nonly showing top 5 rows\n\nr2: org.apache.spark.sql.DataFrame = [p: string, o: string]\n"
        },
        {
          "metadata" : { },
          "data" : {
            "text/html" : ""
          },
          "output_type" : "execute_result",
          "execution_count" : 5,
          "time" : "Took: 0.931s, at 2017-10-27 11:39"
        }
      ]
    },
    {
      "metadata" : {
        "id" : "3831C6F8FBF0471E8524790E559BC0B3"
      },
      "cell_type" : "markdown",
      "source" : "## R3: Les leaders parisiens\n\nLa requête est une étoile formée de deux triplets\n\n``\n    ?x <livesIn> <Paris> .\n    ?x <isLeaderOf> ?z\n``\n\nLe résultat doit être:\n\n``\n|         x          |          z         |\n+--------------------+--------------------+\n|       <Louis_Blanc>|<Republican_Union...|\n|<Stefano_Zacchiroli>| <Software_Heritage>|\n+--------------------+--------------------+\n``\n\n"
    },
    {
      "metadata" : {
        "trusted" : true,
        "input_collapsed" : false,
        "collapsed" : false,
        "id" : "F5EAD4A6797A4CF59DC05DBFAEC352C7"
      },
      "cell_type" : "code",
      "source" : [
        "val livesInParis = yago.where(\"prop='<livesIn>' and objet='<Paris>'\").\n",
        "    withColumnRenamed(\"sujet\", \"x\").\n",
        "    select(\"x\")\n",
        "\n",
        "//livesInParis.show(5)\n",
        "\n",
        "val leaders = yago.where(\"prop='<isLeaderOf>'\").\n",
        "    withColumnRenamed(\"sujet\", \"x\").\n",
        "    withColumnRenamed(\"objet\", \"z\").\n",
        "    select(\"x\", \"z\")\n",
        "\n",
        "//leaders.show(5)\n",
        "\n",
        "val leadersInParis = livesInParis.join(leaders, \"x\")\n",
        "\n",
        "leadersInParis.show(5)"
      ],
      "outputs" : [
        {
          "name" : "stdout",
          "output_type" : "stream",
          "text" : "+--------------------+--------------------+\n|                   x|                   z|\n+--------------------+--------------------+\n|       <Louis_Blanc>|<Republican_Union...|\n|<Stefano_Zacchiroli>| <Software_Heritage>|\n+--------------------+--------------------+\n\nlivesInParis: org.apache.spark.sql.DataFrame = [x: string]\nleaders: org.apache.spark.sql.DataFrame = [x: string, z: string]\nleadersInParis: org.apache.spark.sql.DataFrame = [x: string, z: string]\n"
        },
        {
          "metadata" : { },
          "data" : {
            "text/html" : ""
          },
          "output_type" : "execute_result",
          "execution_count" : 18,
          "time" : "Took: 1.311s, at 2017-10-27 11:49"
        }
      ]
    },
    {
      "metadata" : {
        "id" : "72669EE5959747C589AE4FF480DAF121"
      },
      "cell_type" : "markdown",
      "source" : "## R4: Les joueurs du royaume uni.\n\nLa requête est un chemin formé de deux triplets\n\n``\n?x <playsFor> ?y .\n?y <isLocatedIn> <United_Kingdom>\n``\n\nLes 5 premiers éléments du résultat sont :\n\n``\n|         y          |       x            |\n+--------------------+--------------------+\n|   <Royal_Air_Force>|      <George_Ayres>|\n|   <Royal_Air_Force>|<Jack_Jones_(foot...|\n|   <Royal_Air_Force>|<John_Hinton_(foo...|\n|<University_of_Ed...|<James_Craigen_(f...|\n|<University_of_Ed...|    <Ronald_Brebner>|\n+--------------------+--------------------+\n``\n"
    },
    {
      "metadata" : {
        "trusted" : true,
        "input_collapsed" : false,
        "collapsed" : false,
        "id" : "2F7E3393AB9C4DEAB23DAD748F2B485A"
      },
      "cell_type" : "code",
      "source" : [
        "val playsFor = yago.where(\"prop='<playsFor>'\").\n",
        "    withColumnRenamed(\"sujet\", \"x\").\n",
        "    withColumnRenamed(\"objet\", \"y\").\n",
        "    select(\"y\", \"x\")\n",
        "\n",
        "val inUK = yago.where(\"prop='<isLocatedIn>' and objet='<United_Kingdom>'\").\n",
        "    withColumnRenamed(\"sujet\", \"y\").\n",
        "    select(\"y\")\n",
        "\n",
        "val playersInUK = playsFor.join(inUK, \"y\")\n",
        "\n",
        "playersInUK.show(5)"
      ],
      "outputs" : [
        {
          "name" : "stdout",
          "output_type" : "stream",
          "text" : "+--------------------+--------------------+\n|                   y|                   x|\n+--------------------+--------------------+\n|   <Royal_Air_Force>|      <George_Ayres>|\n|   <Royal_Air_Force>|<Jack_Jones_(foot...|\n|   <Royal_Air_Force>|<John_Hinton_(foo...|\n|<University_of_Ed...|<James_Craigen_(f...|\n|<University_of_Ed...|    <Ronald_Brebner>|\n+--------------------+--------------------+\nonly showing top 5 rows\n\nplaysFor: org.apache.spark.sql.DataFrame = [y: string, x: string]\ninUK: org.apache.spark.sql.DataFrame = [y: string]\nplayersInUK: org.apache.spark.sql.DataFrame = [y: string, x: string]\n"
        },
        {
          "metadata" : { },
          "data" : {
            "text/html" : ""
          },
          "output_type" : "execute_result",
          "execution_count" : 52,
          "time" : "Took: 1.136s, at 2017-10-27 12:32"
        }
      ]
    },
    {
      "metadata" : {
        "id" : "FA56694199BA494E8E5131C2782FF2F7"
      },
      "cell_type" : "markdown",
      "source" : "\n## R5: Les acteurs qui influencent des créateurs\n\nLa requête est un flocon (ou snowflake) formé de 5 triplets :\n\n``\n   ?x <isCitizenOf> ?y .\n   ?x <actedIn> ?z .\n   ?x <influences> ?t .\n   ?t <livesIn> ?u .\n   ?t <created> ?v\n``\n\nLe résultat doit être:\n\n``\n+--------------+----------+---------+-----------------+--------------------+----------------+\n|             t|         x|        y|                z|                   u|               v|\n+--------------+----------+---------+-----------------+--------------------+----------------+\n|<Irvine_Welsh>|<Iggy_Pop>|<Germany>|       <Cry-Baby>|            <Dublin>|<Dockers_(film)>|\n|<Irvine_Welsh>|<Iggy_Pop>|<Germany>|       <Cry-Baby>|<Republic_of_Irel...|<Dockers_(film)>|\n|<Irvine_Welsh>|<Iggy_Pop>|<Germany>|    <Suck_(film)>|            <Dublin>|<Dockers_(film)>|\n|<Irvine_Welsh>|<Iggy_Pop>|<Germany>|    <Suck_(film)>|<Republic_of_Irel...|<Dockers_(film)>|\n|<Irvine_Welsh>|<Iggy_Pop>|<Germany>|<Hardware_(film)>|            <Dublin>|<Dockers_(film)>|\n|<Irvine_Welsh>|<Iggy_Pop>|<Germany>|<Hardware_(film)>|<Republic_of_Irel...|<Dockers_(film)>|\n|<Irvine_Welsh>|<Iggy_Pop>|<Germany>|       <Dead_Man>|            <Dublin>|<Dockers_(film)>|\n|<Irvine_Welsh>|<Iggy_Pop>|<Germany>|       <Dead_Man>|<Republic_of_Irel...|<Dockers_(film)>|\n|<Irvine_Welsh>|<Iggy_Pop>|<Germany>|   <Gimme_Danger>|            <Dublin>|<Dockers_(film)>|\n|<Irvine_Welsh>|<Iggy_Pop>|<Germany>|   <Gimme_Danger>|<Republic_of_Irel...|<Dockers_(film)>|\n+--------------+----------+---------+-----------------+--------------------+----------------+\n``"
    },
    {
      "metadata" : {
        "trusted" : true,
        "input_collapsed" : false,
        "collapsed" : false,
        "id" : "20D862F96B8D456695DDD02E2502B376"
      },
      "cell_type" : "code",
      "source" : [
        "val citizens = yago.where(\"prop='<isCitizenOf>'\").\n",
        "    withColumnRenamed(\"sujet\", \"x\").\n",
        "    withColumnRenamed(\"objet\", \"y\").\n",
        "    select(\"x\", \"y\")\n",
        "\n",
        "val actors = yago.where(\"prop='<actedIn>'\").\n",
        "    withColumnRenamed(\"sujet\", \"x\").\n",
        "    withColumnRenamed(\"objet\", \"z\").\n",
        "    select(\"x\", \"z\")\n",
        "\n",
        "val influences = yago.where(\"prop='<influences>'\").\n",
        "    withColumnRenamed(\"sujet\", \"x\").\n",
        "    withColumnRenamed(\"objet\", \"t\").\n",
        "    select(\"x\", \"t\")\n",
        "\n",
        "val livesIn = yago.where(\"prop='<livesIn>'\").\n",
        "    withColumnRenamed(\"sujet\", \"t\").\n",
        "    withColumnRenamed(\"objet\", \"u\").\n",
        "    select(\"t\", \"u\")\n",
        "\n",
        "val created = yago.where(\"prop='<created>'\").\n",
        "    withColumnRenamed(\"sujet\", \"t\").\n",
        "    withColumnRenamed(\"objet\", \"v\").\n",
        "    select(\"t\", \"v\")\n",
        "\n",
        "\n",
        "val r6 = citizens.join(actors, \"x\").\n",
        "    join(influences, \"x\").\n",
        "    join(livesIn, \"t\").\n",
        "    join(created, \"t\")\n",
        "\n",
        "r6.show(10)\n"
      ],
      "outputs" : [
        {
          "name" : "stdout",
          "output_type" : "stream",
          "text" : "+--------------+----------+---------+-----------------+--------------------+----------------+\n|             t|         x|        y|                z|                   u|               v|\n+--------------+----------+---------+-----------------+--------------------+----------------+\n|<Irvine_Welsh>|<Iggy_Pop>|<Germany>|       <Cry-Baby>|            <Dublin>|<Dockers_(film)>|\n|<Irvine_Welsh>|<Iggy_Pop>|<Germany>|       <Cry-Baby>|<Republic_of_Irel...|<Dockers_(film)>|\n|<Irvine_Welsh>|<Iggy_Pop>|<Germany>|    <Suck_(film)>|            <Dublin>|<Dockers_(film)>|\n|<Irvine_Welsh>|<Iggy_Pop>|<Germany>|    <Suck_(film)>|<Republic_of_Irel...|<Dockers_(film)>|\n|<Irvine_Welsh>|<Iggy_Pop>|<Germany>|<Hardware_(film)>|            <Dublin>|<Dockers_(film)>|\n|<Irvine_Welsh>|<Iggy_Pop>|<Germany>|<Hardware_(film)>|<Republic_of_Irel...|<Dockers_(film)>|\n|<Irvine_Welsh>|<Iggy_Pop>|<Germany>|       <Dead_Man>|            <Dublin>|<Dockers_(film)>|\n|<Irvine_Welsh>|<Iggy_Pop>|<Germany>|       <Dead_Man>|<Republic_of_Irel...|<Dockers_(film)>|\n|<Irvine_Welsh>|<Iggy_Pop>|<Germany>|   <Gimme_Danger>|            <Dublin>|<Dockers_(film)>|\n|<Irvine_Welsh>|<Iggy_Pop>|<Germany>|   <Gimme_Danger>|<Republic_of_Irel...|<Dockers_(film)>|\n+--------------+----------+---------+-----------------+--------------------+----------------+\nonly showing top 10 rows\n\ncitizens: org.apache.spark.sql.DataFrame = [x: string, y: string]\nactors: org.apache.spark.sql.DataFrame = [x: string, z: string]\ninfluences: org.apache.spark.sql.DataFrame = [x: string, t: string]\nlivesIn: org.apache.spark.sql.DataFrame = [t: string, u: string]\ncreated: org.apache.spark.sql.DataFrame = [t: string, v: string]\njoined: org.apache.spark.sql.DataFrame = [t: string, x: string ... 4 more fields]\n"
        },
        {
          "metadata" : { },
          "data" : {
            "text/html" : ""
          },
          "output_type" : "execute_result",
          "execution_count" : 22,
          "time" : "Took: 2.992s, at 2017-10-27 11:55"
        }
      ]
    },
    {
      "metadata" : {
        "id" : "9E73DD4AC6F143298BB2E35D021D0E3B"
      },
      "cell_type" : "markdown",
      "source" : "## R6: Les paires de personnes mariées et nées dans le même pays\n\n``\n?x <isMarriedTo> ?y\n?x <wasBornIn> ?n\n?y <wasBornIn> ?n\n``\n\nProblème de la relation `?x <wasBornIn> ?n` avec `?n` qui peut être une ville, un pays..."
    },
    {
      "metadata" : {
        "trusted" : true,
        "input_collapsed" : false,
        "collapsed" : false,
        "id" : "AB1AD3816EC247A6971D7E6A57C3E509"
      },
      "cell_type" : "code",
      "source" : [
        "val marriages = yago.where(\"prop='<isMarriedTo>'\").\n",
        "    withColumnRenamed(\"sujet\", \"x\").\n",
        "    withColumnRenamed(\"objet\", \"y\").\n",
        "    select(\"x\", \"y\")\n",
        "\n",
        "val bornCity = yago.where(\"prop='<wasBornIn>'\").\n",
        "    withColumnRenamed(\"sujet\", \"x\").\n",
        "    withColumnRenamed(\"objet\", \"c\").\n",
        "    select(\"x\", \"c\")\n",
        "\n",
        "val nation = yago.where(\"prop='<hasCapital>'\").\n",
        "    withColumnRenamed(\"sujet\", \"n\").\n",
        "    select(\"n\")\n",
        "\n",
        "val locations = yago.where(\"prop='<isLocatedIn>'\").\n",
        "    withColumnRenamed(\"sujet\", \"c\").\n",
        "    withColumnRenamed(\"objet\", \"n\").\n",
        "    select(\"c\", \"n\")\n",
        "\n",
        "val cities = locations.join(nation, \"n\")\n",
        "cities.show(5)\n",
        "\n",
        "val bornNation = bornCity.join(cities, \"c\").\n",
        "    select(\"x\", \"n\")\n",
        "bornNation.show(5)\n",
        "\n",
        "/* val bornIn = yago.where(\"prop='<isCitizenOf>'\").\n",
        "    withColumnRenamed(\"sujet\", \"x\").\n",
        "    withColumnRenamed(\"objet\", \"n\").\n",
        "    select(\"x\", \"n\")\n",
        "*/\n",
        "\n",
        "val r6 = marriages.join(bornNation, \"x\").\n",
        "    join(bornNation.toDF(\"y\", \"n2\"), \"y\").\n",
        "    filter($\"n\" === $\"n2\").\n",
        "    select(\"y\", \"x\", \"n\")\n",
        "\n",
        "r6.show(10)\n",
        "    \n",
        "//TODO: Select only countries in bornNation"
      ],
      "outputs" : [
        {
          "name" : "stdout",
          "output_type" : "stream",
          "text" : "+--------+------------------+\n|       n|                 c|\n+--------+------------------+\n|<Aargau>|            <Aare>|\n|<Aargau>|<Bruno_Weber_Park>|\n|<Aargau>|    <Lake_Hallwil>|\n|<Aargau>|          <Limmat>|\n|<Aargau>|          <Lägern>|\n+--------+------------------+\nonly showing top 5 rows\n\n+--------------------+-----------------+\n|                   x|                n|\n+--------------------+-----------------+\n|    <Edwin_Retamoso>|           <Peru>|\n|    <Edwin_Retamoso>|<Apurímac_Region>|\n|    <Edwin_Retamoso>|<Apurímac_Region>|\n|<James_Connolly_(...|     <Queensland>|\n|<James_Connolly_(...|      <Australia>|\n+--------------------+-----------------+\nonly showing top 5 rows\n\n+--------------------+--------------------+---------------+\n|                   y|                   x|              n|\n+--------------------+--------------------+---------------+\n|   <Caterina_Sforza>|<Giovanni_il_Popo...|        <Italy>|\n|<Cornelius_Vander...|<Marie_Norton_Har...|     <New_York>|\n|           <Murad_V>|       <Resan_Hanım>|       <Turkey>|\n|          <Muhammad>|             <Aisha>| <Saudi_Arabia>|\n|          <Muhammad>|        <Umm_Salama>| <Saudi_Arabia>|\n|          <Muhammad>|<Khadija_bint_Khu...| <Saudi_Arabia>|\n|<Lisa_Marie_Presley>|   <Michael_Jackson>|<United_States>|\n|    <Ingmar_Bergman>|  <Ingrid_von_Rosen>|       <Sweden>|\n|    <Robin_Williams>|<Marsha_Garces_Wi...|<United_States>|\n|<Cosimo_I_de'_Med...|  <Camilla_Martelli>|      <Tuscany>|\n+--------------------+--------------------+---------------+\nonly showing top 10 rows\n\nmarriages: org.apache.spark.sql.DataFrame = [x: string, y: string]\nbornCity: org.apache.spark.sql.DataFrame = [x: string, c: string]\nnation: org.apache.spark.sql.DataFrame = [n: string]\nlocations: org.apache.spark.sql.DataFrame = [c: string, n: string]\ncities: org.apache.spark.sql.DataFrame = [n: string, c: string]\nbornNation: org.apache.spark.sql.DataFrame = [x: string, n: string]\nr6: org.apache.spark.sql.DataFrame = [y: string, x: string ... 1 more field]\n"
        },
        {
          "metadata" : { },
          "data" : {
            "text/html" : ""
          },
          "output_type" : "execute_result",
          "execution_count" : 53,
          "time" : "Took: 8.113s, at 2017-10-27 12:35"
        }
      ]
    },
    {
      "metadata" : {
        "id" : "CA5CC458490149BA9D2716D83CFC3EB2"
      },
      "cell_type" : "markdown",
      "source" : "## R7: Les personnes influencées par un prix nobel"
    },
    {
      "metadata" : {
        "trusted" : true,
        "input_collapsed" : false,
        "collapsed" : true,
        "id" : "0E9AF54923554C449DFC353B58C313B4"
      },
      "cell_type" : "code",
      "source" : [
        ""
      ],
      "outputs" : [ ]
    },
    {
      "metadata" : {
        "id" : "A7A8D98B8E874BF2B06A0C23E5E895DB"
      },
      "cell_type" : "markdown",
      "source" : "## R8: L'acteur ayant joué dans le plus grand nombre de films"
    },
    {
      "metadata" : {
        "trusted" : true,
        "input_collapsed" : false,
        "collapsed" : true,
        "id" : "57430C87468B4D7E8E24A4257F7A129A"
      },
      "cell_type" : "code",
      "source" : [
        ""
      ],
      "outputs" : [ ]
    }
  ],
  "nbformat" : 4
}