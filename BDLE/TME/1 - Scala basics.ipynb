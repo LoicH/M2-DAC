{
 "cells": [
  {
   "cell_type": "markdown",
   "metadata": {},
   "source": [
    "### Question 1\n",
    "\n",
    "Write a function to compute the max of an integer list."
   ]
  },
  {
   "cell_type": "code",
   "execution_count": null,
   "metadata": {},
   "outputs": [],
   "source": [
    "val listInt = List(1, 3, 4, 2, 9, 5, 0, 6, 7, 8)\n",
    "\n",
    "def max(l: List[Int]): Int = l reduce((a, b) => if (a>b) a else b)\n",
    "\n",
    "max(listInt)"
   ]
  },
  {
   "cell_type": "markdown",
   "metadata": {},
   "source": [
    "Write a function that computes the sum of squares of an int list"
   ]
  },
  {
   "cell_type": "code",
   "execution_count": null,
   "metadata": {},
   "outputs": [],
   "source": [
    "def sumSquares(l: List[Int]): Int = l map(x => x*x) reduce(_ + _)\n",
    "\n",
    "sumSquares(listInt)"
   ]
  },
  {
   "cell_type": "markdown",
   "metadata": {},
   "source": [
    "Write a function that computes the mean of an int list"
   ]
  },
  {
   "cell_type": "code",
   "execution_count": null,
   "metadata": {},
   "outputs": [],
   "source": [
    "def mean(l: List[Int]): Float = {\n",
    "    def aux(l: List[Int], sum: Int, len: Int): Float =\n",
    "        l match {\n",
    "            case h::t => aux(t, sum+h, len+1)\n",
    "            case Nil => (sum.toFloat)/len\n",
    "        }\n",
    "    aux(l, 0, 0)\n",
    "}\n",
    "\n",
    "mean(listInt)"
   ]
  },
  {
   "cell_type": "markdown",
   "metadata": {},
   "source": [
    "### Question 2\n",
    "\n",
    "Given a list of strings with the format \"location,year,month,temperature,zipcode\", compute the max and mean of 2009 temperatures."
   ]
  },
  {
   "cell_type": "code",
   "execution_count": null,
   "metadata": {},
   "outputs": [],
   "source": [
    "val listTemp = List(\"7,2010,04,27,75\", \"12,2009,01,31,78\", \"41,2009,03,25,95\", \"2,2008,04,28,76\", \"7,2010,02,32,91\")\n",
    "\n",
    "val filterRecords = listTemp map(_.split(',')) filter(_(1) == \"2009\") map(_(3).toInt)\n",
    "\n",
    "val maxTemp = max(filterRecords)\n",
    "\n",
    "val meanTemp = mean(filterRecords)"
   ]
  },
  {
   "cell_type": "markdown",
   "metadata": {},
   "source": [
    "### Question 3\n",
    "\n",
    "Given a list of strings that contains two kinds of elements:\n",
    "- \"userID,movieID,rating,timestamp\"\n",
    "- \"movieID,title,genre\"\n",
    "\n",
    "Construct two different lists:\n",
    "- `ratings` that contains (userID: Int, movieID: Int, rating: Int, timestamp: Int)\n",
    "- `movies` that contains (movieID: Int, title: String, genre: String)"
   ]
  },
  {
   "cell_type": "code",
   "execution_count": null,
   "metadata": {},
   "outputs": [],
   "source": [
    "val scrambled = List(\"1233,100,3,20171010\", \"1224,22,4,20171009\",\n",
    "                     \"100,buddies,comedy\", \"22,wolves,documentary\")\n",
    "\n",
    "var (r, m) = scrambled map(_.split(',')) partition(_.length == 4)\n",
    "\n",
    "val ratings = r map(s => (s(0).toInt, s(1).toInt, s(2).toInt, s(3).toInt))\n",
    "\n",
    "val movies = m map(s => (s(0).toInt, s(1), s(2)))"
   ]
  },
  {
   "cell_type": "markdown",
   "metadata": {},
   "source": [
    " ### Question 4\n",
    "\n",
    "Given `people`, a list of triplets describing people, each triplet is `(name, type, year)` where\n",
    "- `type` is \"stu\" for students, \"tea\" for teachers, or \"nan\".\n",
    "- `year` is the year of registration for students, or the number of years of seniority for teachers.\n",
    "\n",
    "\n",
    "- Define classes  `Student(name: String, registration: Int)` and `Teacher(name: String, seniority: Int)`\n",
    "- Transform `people` into a list of `Student` and `Teacher` objects. Don't include type `nan`.\n"
   ]
  },
  {
   "cell_type": "code",
   "execution_count": null,
   "metadata": {},
   "outputs": [],
   "source": [
    "val people = List((\"Joe\", \"stu\", 3), (\"Lee\", \"stu\", 4), (\"Sara\", \"tea\", 10), (\"John\", \"tea\", 5), (\"Bill\", \"nan\",20))\n",
    "\n",
    "case class Student(name: String, registration: Int)\n",
    "case class Teacher(name: String, seniority: Int)\n",
    "\n",
    "people map(x => x._2 match {\n",
    "    case \"stu\" => Some(Student(x._1, x._3))\n",
    "    case \"tea\" => Some(Teacher(x._1, x._3))\n",
    "    case \"nan\" => None\n",
    "}) flatten"
   ]
  }
 ],
 "metadata": {
  "kernelspec": {
   "display_name": "Scala",
   "language": "scala",
   "name": "scala"
  },
  "language_info": {
   "codemirror_mode": "text/x-scala",
   "file_extension": ".scala",
   "mimetype": "text/x-scala",
   "name": "scala",
   "nbconvert_exporter": "script",
   "version": "2.12.9"
  }
 },
 "nbformat": 4,
 "nbformat_minor": 2
}
