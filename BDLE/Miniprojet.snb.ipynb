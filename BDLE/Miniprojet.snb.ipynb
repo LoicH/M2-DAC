{
  "metadata" : {
    "id" : "b3014f52-d363-4eb2-85ac-858b8b9d92bc",
    "name" : "Miniprojet",
    "user_save_timestamp" : "1970-01-01T01:00:00.000Z",
    "auto_save_timestamp" : "1970-01-01T01:00:00.000Z",
    "language_info" : {
      "name" : "scala",
      "file_extension" : "scala",
      "codemirror_mode" : "text/x-scala"
    },
    "trusted" : true,
    "sparkNotebook" : null,
    "customLocalRepo" : null,
    "customRepos" : null,
    "customDeps" : null,
    "customImports" : null,
    "customArgs" : null,
    "customSparkConf" : null,
    "customVars" : null
  },
  "cells" : [
    {
      "metadata" : {
        "id" : "4530ADB7AE50422F8329BDDF5E8F1D89"
      },
      "cell_type" : "markdown",
      "source" : "# Partie principale   \n\nDatasets à utiliser : Yago\n\n## Statistiques de base\n\n* Retourner la liste des 10 propriétés les plus fréquentes. La sortie doit être une liste de couples (prop, freq) triée de manière décroissante.\n"
    },
    {
      "metadata" : {
        "trusted" : true,
        "input_collapsed" : false,
        "collapsed" : false,
        "id" : "02E0EF8038DF4EC599208DB19F9F40A0"
      },
      "cell_type" : "code",
      "source" : [
        "case class Triple(sujet: String, prop: String, objet: String)\n",
        "\n",
        "val yagoFile = \"/tmp/BDLE/dataset/yagoFacts5M.txt\""
      ],
      "outputs" : [
        {
          "name" : "stdout",
          "output_type" : "stream",
          "text" : "defined class Triple\nyagoFile: String = /tmp/BDLE/dataset/yagoFacts5M.txt\n"
        },
        {
          "metadata" : { },
          "data" : {
            "text/html" : ""
          },
          "output_type" : "execute_result",
          "execution_count" : 5,
          "time" : "Took: 0.606s, at 2017-10-30 11:10"
        }
      ]
    },
    {
      "metadata" : {
        "trusted" : true,
        "input_collapsed" : false,
        "collapsed" : false,
        "id" : "DBFB5BEC81E1453887B0F7B309E0B5DD"
      },
      "cell_type" : "code",
      "source" : [
        "val yago = sc.textFile(yagoFile).\n",
        "  map(ligne => ligne.split(\"\\\\t\")).coalesce(8).\n",
        "  map(tab => Triple(tab(0), tab(1), tab(2))).toDS()\n",
        "\n",
        "yago.persist\n",
        "yago.count\n",
        "yago.show(5)"
      ],
      "outputs" : [
        {
          "name" : "stdout",
          "output_type" : "stream",
          "text" : "+------------+----------------+--------------------+\n|       sujet|            prop|               objet|\n+------------+----------------+--------------------+\n|    <!PAUS3>|     <hasGender>|              <male>|\n|    <!PAUS3>|<hasMusicalRole>|<wordnet_bass_104...|\n|    <!PAUS3>|   <isCitizenOf>|           <Ukraine>|\n|    <!PAUS3>|     <wasBornIn>|      <Philadelphia>|\n|<!T.O.O.H.!>|     <hasGender>|              <male>|\n+------------+----------------+--------------------+\nonly showing top 5 rows\n\nyago: org.apache.spark.sql.Dataset[Triple] = [sujet: string, prop: string ... 1 more field]\n"
        },
        {
          "metadata" : { },
          "data" : {
            "text/html" : ""
          },
          "output_type" : "execute_result",
          "execution_count" : 9,
          "time" : "Took: 4.084s, at 2017-10-30 11:20"
        }
      ]
    },
    {
      "metadata" : {
        "trusted" : true,
        "input_collapsed" : false,
        "collapsed" : false,
        "id" : "E8E056A00D4945E7A000B824FE72BD6A"
      },
      "cell_type" : "code",
      "source" : [
        "val props = yago.groupBy(\"prop\").count.sort($\"count\".desc).limit(10)\n",
        "\n",
        "props"
      ],
      "outputs" : [
        {
          "name" : "stdout",
          "output_type" : "stream",
          "text" : "props: org.apache.spark.sql.Dataset[org.apache.spark.sql.Row] = [prop: string, count: bigint]\nres44: org.apache.spark.sql.Dataset[org.apache.spark.sql.Row] = [prop: string, count: bigint]\n"
        },
        {
          "metadata" : { },
          "data" : {
            "text/html" : "<div class=\"df-canvas\">\n      <script data-this=\"{&quot;dataId&quot;:&quot;anon2c4617fd827a9589bd5a89d72a2d2889&quot;,&quot;partitionIndexId&quot;:&quot;anon5f89eff435c218a0996f54dbb5798ed4&quot;,&quot;numPartitions&quot;:1,&quot;dfSchema&quot;:{&quot;type&quot;:&quot;struct&quot;,&quot;fields&quot;:[{&quot;name&quot;:&quot;prop&quot;,&quot;type&quot;:&quot;string&quot;,&quot;nullable&quot;:true,&quot;metadata&quot;:{}},{&quot;name&quot;:&quot;count&quot;,&quot;type&quot;:&quot;long&quot;,&quot;nullable&quot;:false,&quot;metadata&quot;:{}}]}}\" type=\"text/x-scoped-javascript\">/*<![CDATA[*/req(['../javascripts/notebook/dataframe','../javascripts/notebook/consoleDir'], \n      function(dataframe, extension) {\n        dataframe.call(data, this, extension);\n      }\n    );/*]]>*/</script>\n      <link rel=\"stylesheet\" href=\"/assets/stylesheets/ipython/css/dataframe.css\" type=\"text/css\"/>\n    </div>"
          },
          "output_type" : "execute_result",
          "execution_count" : 25,
          "time" : "Took: 1.329s, at 2017-10-30 11:32"
        }
      ]
    },
    {
      "metadata" : {
        "id" : "EE5C93BB363849E99789813498DB7438"
      },
      "cell_type" : "markdown",
      "source" : "* Retourner la liste des 10 noeuds ayant le plus grand degré sortant. Rappel Le degré sortant d'un noeud n est le nombre de triplets où n est le sujet. La sortie doit être une liste de couples (sujet, degré) triée de manière décroissante."
    },
    {
      "metadata" : {
        "trusted" : true,
        "input_collapsed" : false,
        "collapsed" : false,
        "presentation" : {
          "tabs_state" : "{\n  \"tab_id\": \"#tab1507470001-0\"\n}",
          "pivot_chart_state" : "{\n  \"hiddenAttributes\": [],\n  \"menuLimit\": 200,\n  \"cols\": [],\n  \"rows\": [],\n  \"vals\": [],\n  \"exclusions\": {},\n  \"inclusions\": {},\n  \"unusedAttrsVertical\": 85,\n  \"autoSortUnusedAttrs\": false,\n  \"inclusionsInfo\": {},\n  \"aggregatorName\": \"Count\",\n  \"rendererName\": \"Table\"\n}"
        },
        "id" : "1EFA0C13C21248B0853A462BBD28ED2A"
      },
      "cell_type" : "code",
      "source" : [
        "val noeudsDegres = yago.groupBy(\"sujet\").count.sort($\"count\".desc).limit(10)\n",
        "noeudsDegres"
      ],
      "outputs" : [
        {
          "name" : "stdout",
          "output_type" : "stream",
          "text" : "noeudsDegres: org.apache.spark.sql.Dataset[org.apache.spark.sql.Row] = [sujet: string, count: bigint]\nres56: org.apache.spark.sql.Dataset[org.apache.spark.sql.Row] = [sujet: string, count: bigint]\n"
        },
        {
          "metadata" : { },
          "data" : {
            "text/html" : "<div class=\"df-canvas\">\n      <script data-this=\"{&quot;dataId&quot;:&quot;anon2f2a2c63c4c50b1c2ec6c98a2a5ffd11&quot;,&quot;partitionIndexId&quot;:&quot;anon58fceb2a2d3561d48e22ea5d6e3f7ffe&quot;,&quot;numPartitions&quot;:1,&quot;dfSchema&quot;:{&quot;type&quot;:&quot;struct&quot;,&quot;fields&quot;:[{&quot;name&quot;:&quot;sujet&quot;,&quot;type&quot;:&quot;string&quot;,&quot;nullable&quot;:true,&quot;metadata&quot;:{}},{&quot;name&quot;:&quot;count&quot;,&quot;type&quot;:&quot;long&quot;,&quot;nullable&quot;:false,&quot;metadata&quot;:{}}]}}\" type=\"text/x-scoped-javascript\">/*<![CDATA[*/req(['../javascripts/notebook/dataframe','../javascripts/notebook/consoleDir'], \n      function(dataframe, extension) {\n        dataframe.call(data, this, extension);\n      }\n    );/*]]>*/</script>\n      <link rel=\"stylesheet\" href=\"/assets/stylesheets/ipython/css/dataframe.css\" type=\"text/css\"/>\n    </div>"
          },
          "output_type" : "execute_result",
          "execution_count" : 31,
          "time" : "Took: 1.286s, at 2017-10-30 11:41"
        }
      ]
    },
    {
      "metadata" : {
        "id" : "D9A791E89A3E419182F69CAE87E4F03F"
      },
      "cell_type" : "markdown",
      "source" : "* Pour chaque propriété, retourner le nombre de sujets distincts d'où elle démarre ainsi que le nombre d'objets distincts où elle arrive. La sortie doit être une liste de tuples (pro, nb-sujets, nb-objets). Attention Un objet (sujet) peut avoir plusieurs fois la même propriété."
    },
    {
      "metadata" : {
        "trusted" : true,
        "input_collapsed" : false,
        "collapsed" : false,
        "id" : "F3C334067D7D48B8922B070ABC14E7B5"
      },
      "cell_type" : "code",
      "source" : [
        "val propSujets = yago.groupBy(\"prop\", \"sujet\")\n",
        "\n",
        "propSujets"
      ],
      "outputs" : [
        {
          "name" : "stdout",
          "output_type" : "stream",
          "text" : "propSujets: org.apache.spark.sql.RelationalGroupedDataset = org.apache.spark.sql.RelationalGroupedDataset@6b60db18\nres77: org.apache.spark.sql.RelationalGroupedDataset = org.apache.spark.sql.RelationalGroupedDataset@6b60db18\n"
        },
        {
          "metadata" : { },
          "data" : {
            "text/html" : "org.apache.spark.sql.RelationalGroupedDataset@6b60db18"
          },
          "output_type" : "execute_result",
          "execution_count" : 42,
          "time" : "Took: 0.414s, at 2017-10-30 11:47"
        }
      ]
    },
    {
      "metadata" : {
        "id" : "662E245C23AB44E09A347292BF52AC19"
      },
      "cell_type" : "markdown",
      "source" : "* Encoder la fonction noeudDegre(d:entier) qui retourne les noeuds de degrée d. Le degré d'un noeud = degré sortant + degré entrant."
    },
    {
      "metadata" : {
        "trusted" : true,
        "input_collapsed" : false,
        "collapsed" : true,
        "id" : "6462CDBBA003410C87F17B3DFA776F59"
      },
      "cell_type" : "code",
      "source" : [
        ""
      ],
      "outputs" : [ ]
    }
  ],
  "nbformat" : 4
}