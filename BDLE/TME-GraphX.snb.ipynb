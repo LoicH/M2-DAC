{
  "metadata" : {
    "id" : "11b7ebcc-0719-40f8-bc74-78906f92960f",
    "name" : "TME-GraphX",
    "user_save_timestamp" : "1970-01-01T01:00:00.000Z",
    "auto_save_timestamp" : "1970-01-01T01:00:00.000Z",
    "language_info" : {
      "name" : "scala",
      "file_extension" : "scala",
      "codemirror_mode" : "text/x-scala"
    },
    "trusted" : true,
    "sparkNotebook" : null,
    "customLocalRepo" : null,
    "customRepos" : null,
    "customDeps" : null,
    "customImports" : null,
    "customArgs" : null,
    "customSparkConf" : null,
    "customVars" : null
  },
  "cells" : [
    {
      "metadata" : {
        "id" : "BAC58EEA1E56446B8230213A7AAE5455"
      },
      "cell_type" : "markdown",
      "source" : "# Préparation dataset\n\n``\nmkdir -p /tmp/3774877/dataset\ncp /Infos/bd/spark/dataset/facebook/*csv /tmp/3774877/dataset/\n``\n\n* `facebook_users_prop.csv` : `utilisateur, prénom, nom, âge`\n* `facebook_edges_prop.csv` : `source, destination, type_relation, nombre_messages_échangés`"
    },
    {
      "metadata" : {
        "trusted" : true,
        "input_collapsed" : false,
        "collapsed" : false,
        "id" : "263CC4CA65764C548836D0D4C8068F80"
      },
      "cell_type" : "code",
      "source" : [
        "import org.apache.spark.graphx._\n",
        "import org.apache.spark.rdd.RDD\n",
        "\n",
        "val dataset = \"/tmp/3774877/dataset/\""
      ],
      "outputs" : [
        {
          "name" : "stdout",
          "output_type" : "stream",
          "text" : "import org.apache.spark.graphx._\nimport org.apache.spark.rdd.RDD\ndataset: String = /tmp/3774877/dataset/\n"
        },
        {
          "metadata" : { },
          "data" : {
            "text/html" : ""
          },
          "output_type" : "execute_result",
          "execution_count" : 2,
          "time" : "Took: 0.651s, at 2018-01-19 11:29"
        }
      ]
    },
    {
      "metadata" : {
        "id" : "43FDA1656D874DC49C2AF2B9C79DE9A2"
      },
      "cell_type" : "markdown",
      "source" : "# Exercice 1\nConstruction du graphe dirigé"
    },
    {
      "metadata" : {
        "trusted" : true,
        "input_collapsed" : false,
        "collapsed" : false,
        "presentation" : {
          "tabs_state" : "{\n  \"tab_id\": \"#tab2058018487-0\"\n}",
          "pivot_chart_state" : "{\n  \"hiddenAttributes\": [],\n  \"menuLimit\": 200,\n  \"cols\": [],\n  \"rows\": [],\n  \"vals\": [],\n  \"exclusions\": {},\n  \"inclusions\": {},\n  \"unusedAttrsVertical\": 85,\n  \"autoSortUnusedAttrs\": false,\n  \"inclusionsInfo\": {},\n  \"aggregatorName\": \"Count\",\n  \"rendererName\": \"Table\"\n}"
        },
        "id" : "9AC74432D1BC4BF780E8CD2E8E8C7632"
      },
      "cell_type" : "code",
      "source" : [
        "val users_csv = sc.textFile(dataset + \"facebook_users_prop.csv\").map(_.split(','))\n",
        "users_csv.take(4)\n",
        "val edges_csv = sc.textFile(dataset + \"facebook_edges_prop.csv\").map(_.split(','))\n",
        "edges_csv.take(4)\n"
      ],
      "outputs" : [
        {
          "name" : "stdout",
          "output_type" : "stream",
          "text" : "users_csv: org.apache.spark.rdd.RDD[Array[String]] = MapPartitionsRDD[2] at map at <console>:73\nedges_csv: org.apache.spark.rdd.RDD[Array[String]] = MapPartitionsRDD[5] at map at <console>:75\nres4: Array[Array[String]] = Array(Array(0, 1, acquaintance, 2), Array(0, 2, colleague, 90), Array(0, 3, colleague, 45), Array(0, 4, colleague, 8))\n"
        },
        {
          "metadata" : { },
          "data" : {
            "text/html" : "<div>\n      <script data-this=\"{&quot;dataId&quot;:&quot;anondeb03aa2e30eba88e209439a9a038159&quot;,&quot;dataInit&quot;:[],&quot;genId&quot;:&quot;2058018487&quot;}\" type=\"text/x-scoped-javascript\">/*<![CDATA[*/req(['../javascripts/notebook/playground','../javascripts/notebook/magic/tabs'], \n      function(playground, _magictabs) {\n        // data ==> data-this (in observable.js's scopedEval) ==> this in JS => { dataId, dataInit, ... }\n        // this ==> scope (in observable.js's scopedEval) ==> this.parentElement ==> div.container below (toHtml)\n\n        playground.call(data,\n                        this\n                        ,\n                        {\n    \"f\": _magictabs,\n    \"o\": {}\n  }\n  \n                        \n                        \n                      );\n      }\n    );/*]]>*/</script>\n    <div>\n      <div>\n        <ul class=\"nav nav-tabs\" id=\"ul2058018487\"><li>\n              <a href=\"#tab2058018487-0\"><i class=\"fa fa-table\"/></a>\n            </li><li>\n              <a href=\"#tab2058018487-1\"><i class=\"fa fa-cubes\"/></a>\n            </li></ul>\n\n        <div class=\"tab-content\" id=\"tab2058018487\"><div class=\"tab-pane\" id=\"tab2058018487-0\">\n            <div>\n      <script data-this=\"{&quot;dataId&quot;:&quot;anon4f95ade5c48118523f533704e479e49a&quot;,&quot;dataInit&quot;:[{},{},{},{}],&quot;genId&quot;:&quot;613680105&quot;}\" type=\"text/x-scoped-javascript\">/*<![CDATA[*/req(['../javascripts/notebook/playground','../javascripts/notebook/magic/tableChart'], \n      function(playground, _magictableChart) {\n        // data ==> data-this (in observable.js's scopedEval) ==> this in JS => { dataId, dataInit, ... }\n        // this ==> scope (in observable.js's scopedEval) ==> this.parentElement ==> div.container below (toHtml)\n\n        playground.call(data,\n                        this\n                        ,\n                        {\n    \"f\": _magictableChart,\n    \"o\": {\"headers\":[],\"width\":600,\"height\":400}\n  }\n  \n                        \n                        \n                      );\n      }\n    );/*]]>*/</script>\n    <div>\n      <span class=\"chart-total-item-count\"><p data-bind=\"text: value\"><script data-this=\"{&quot;valueId&quot;:&quot;anond1acc770dfe8f49b154d34bd00ebe514&quot;,&quot;initialValue&quot;:&quot;4&quot;}\" type=\"text/x-scoped-javascript\">/*<![CDATA[*/\nreq(\n['observable', 'knockout'],\nfunction (O, ko) {\n  ko.applyBindings({\n      value: O.makeObservable(valueId, initialValue)\n    },\n    this\n  );\n});\n        /*]]>*/</script></p> entries total</span>\n      <span class=\"chart-sampling-warning\"><p data-bind=\"text: value\"><script data-this=\"{&quot;valueId&quot;:&quot;anonca53c1a185707ede819b1c9938bb3ecb&quot;,&quot;initialValue&quot;:&quot;&quot;}\" type=\"text/x-scoped-javascript\">/*<![CDATA[*/\nreq(\n['observable', 'knockout'],\nfunction (O, ko) {\n  ko.applyBindings({\n      value: O.makeObservable(valueId, initialValue)\n    },\n    this\n  );\n});\n        /*]]>*/</script></p></span>\n      <div>\n      </div>\n    </div></div>\n            </div><div class=\"tab-pane\" id=\"tab2058018487-1\">\n            <div>\n      <script data-this=\"{&quot;dataId&quot;:&quot;anonf4de84b2eb2901a2191462f667e4d4da&quot;,&quot;dataInit&quot;:[{},{},{},{}],&quot;genId&quot;:&quot;24096281&quot;}\" type=\"text/x-scoped-javascript\">/*<![CDATA[*/req(['../javascripts/notebook/playground','../javascripts/notebook/magic/pivotChart'], \n      function(playground, _magicpivotChart) {\n        // data ==> data-this (in observable.js's scopedEval) ==> this in JS => { dataId, dataInit, ... }\n        // this ==> scope (in observable.js's scopedEval) ==> this.parentElement ==> div.container below (toHtml)\n\n        playground.call(data,\n                        this\n                        ,\n                        {\n    \"f\": _magicpivotChart,\n    \"o\": {\"width\":600,\"height\":400,\"derivedAttributes\":{},\"extraOptions\":{}}\n  }\n  \n                        \n                        \n                      );\n      }\n    );/*]]>*/</script>\n    <div>\n      <span class=\"chart-total-item-count\"><p data-bind=\"text: value\"><script data-this=\"{&quot;valueId&quot;:&quot;anonca8e821812eb9378ce3429ee90664d87&quot;,&quot;initialValue&quot;:&quot;4&quot;}\" type=\"text/x-scoped-javascript\">/*<![CDATA[*/\nreq(\n['observable', 'knockout'],\nfunction (O, ko) {\n  ko.applyBindings({\n      value: O.makeObservable(valueId, initialValue)\n    },\n    this\n  );\n});\n        /*]]>*/</script></p> entries total</span>\n      <span class=\"chart-sampling-warning\"><p data-bind=\"text: value\"><script data-this=\"{&quot;valueId&quot;:&quot;anon0cb7478b13030c3584824b5ec6f90f34&quot;,&quot;initialValue&quot;:&quot;&quot;}\" type=\"text/x-scoped-javascript\">/*<![CDATA[*/\nreq(\n['observable', 'knockout'],\nfunction (O, ko) {\n  ko.applyBindings({\n      value: O.makeObservable(valueId, initialValue)\n    },\n    this\n  );\n});\n        /*]]>*/</script></p></span>\n      <div>\n      </div>\n    </div></div>\n            </div></div>\n      </div>\n    </div></div>"
          },
          "output_type" : "execute_result",
          "execution_count" : 3,
          "time" : "Took: 1.869s, at 2018-01-19 11:29"
        }
      ]
    },
    {
      "metadata" : {
        "trusted" : true,
        "input_collapsed" : false,
        "collapsed" : false,
        "id" : "538EEBE3120B42688AF4D971182A6D63"
      },
      "cell_type" : "code",
      "source" : [
        "val users: RDD[(VertexId, (String, String, Int))] = \n",
        "  users_csv.map(array => (array(0).toLong, (array(1), array(2), array(3).toInt)))\n",
        "\n",
        "val edges: RDD[Edge[(String, Int)]] = \n",
        "  edges_csv.map(array => (Edge(array(0).toLong, array(1).toLong, (array(2), array(3).toInt))))\n",
        "\n",
        "val graph = Graph.apply(users, edges)"
      ],
      "outputs" : [
        {
          "name" : "stdout",
          "output_type" : "stream",
          "text" : "users: org.apache.spark.rdd.RDD[(org.apache.spark.graphx.VertexId, (String, String, Int))] = MapPartitionsRDD[6] at map at <console>:77\nedges: org.apache.spark.rdd.RDD[org.apache.spark.graphx.Edge[(String, Int)]] = MapPartitionsRDD[7] at map at <console>:80\ngraph: org.apache.spark.graphx.Graph[(String, String, Int),(String, Int)] = org.apache.spark.graphx.impl.GraphImpl@6b3dc5fc\n"
        },
        {
          "metadata" : { },
          "data" : {
            "text/html" : ""
          },
          "output_type" : "execute_result",
          "execution_count" : 4,
          "time" : "Took: 0.795s, at 2018-01-19 11:29"
        }
      ]
    },
    {
      "metadata" : {
        "id" : "3A918166BF524DC18791945C1D0D188D"
      },
      "cell_type" : "markdown",
      "source" : "# Exercice 2"
    },
    {
      "metadata" : {
        "trusted" : true,
        "input_collapsed" : false,
        "collapsed" : false,
        "presentation" : {
          "tabs_state" : "{\n  \"tab_id\": \"#tab2005565803-0\"\n}",
          "pivot_chart_state" : "{\n  \"hiddenAttributes\": [],\n  \"menuLimit\": 200,\n  \"cols\": [],\n  \"rows\": [],\n  \"vals\": [],\n  \"exclusions\": {},\n  \"inclusions\": {},\n  \"unusedAttrsVertical\": 85,\n  \"autoSortUnusedAttrs\": false,\n  \"inclusionsInfo\": {},\n  \"aggregatorName\": \"Count\",\n  \"rendererName\": \"Table\"\n}"
        },
        "id" : "174FDB272D374A9896F095C4E3200723"
      },
      "cell_type" : "code",
      "source" : [
        "graph.vertices\n",
        "    .filter{ case(vId, (firstname, lastname, age)) => firstname == \"Kendall\"}\n",
        "    .take(5)"
      ],
      "outputs" : [
        {
          "name" : "stdout",
          "output_type" : "stream",
          "text" : "res7: Array[(org.apache.spark.graphx.VertexId, (String, String, Int))] = Array((2058,(Kendall,Brewbaker,49)))\n"
        },
        {
          "metadata" : { },
          "data" : {
            "text/html" : "<div>\n      <script data-this=\"{&quot;dataId&quot;:&quot;anonfc6ab19eb56dd26a2878192628dd3df2&quot;,&quot;dataInit&quot;:[],&quot;genId&quot;:&quot;2005565803&quot;}\" type=\"text/x-scoped-javascript\">/*<![CDATA[*/req(['../javascripts/notebook/playground','../javascripts/notebook/magic/tabs'], \n      function(playground, _magictabs) {\n        // data ==> data-this (in observable.js's scopedEval) ==> this in JS => { dataId, dataInit, ... }\n        // this ==> scope (in observable.js's scopedEval) ==> this.parentElement ==> div.container below (toHtml)\n\n        playground.call(data,\n                        this\n                        ,\n                        {\n    \"f\": _magictabs,\n    \"o\": {}\n  }\n  \n                        \n                        \n                      );\n      }\n    );/*]]>*/</script>\n    <div>\n      <div>\n        <ul class=\"nav nav-tabs\" id=\"ul2005565803\"><li>\n              <a href=\"#tab2005565803-0\"><i class=\"fa fa-table\"/></a>\n            </li><li>\n              <a href=\"#tab2005565803-1\"><i class=\"fa fa-cubes\"/></a>\n            </li></ul>\n\n        <div class=\"tab-content\" id=\"tab2005565803\"><div class=\"tab-pane\" id=\"tab2005565803-0\">\n            <div>\n      <script data-this=\"{&quot;dataId&quot;:&quot;anon37d30f987aca87cbc285d49bd0b8d42f&quot;,&quot;dataInit&quot;:[{&quot;_1&quot;:2058,&quot;_2&quot;:{&quot;_1&quot;:&quot;Kendall&quot;,&quot;_2&quot;:&quot;Brewbaker&quot;,&quot;_3&quot;:49}}],&quot;genId&quot;:&quot;1430074735&quot;}\" type=\"text/x-scoped-javascript\">/*<![CDATA[*/req(['../javascripts/notebook/playground','../javascripts/notebook/magic/tableChart'], \n      function(playground, _magictableChart) {\n        // data ==> data-this (in observable.js's scopedEval) ==> this in JS => { dataId, dataInit, ... }\n        // this ==> scope (in observable.js's scopedEval) ==> this.parentElement ==> div.container below (toHtml)\n\n        playground.call(data,\n                        this\n                        ,\n                        {\n    \"f\": _magictableChart,\n    \"o\": {\"headers\":[\"_1\",\"_2\"],\"width\":600,\"height\":400}\n  }\n  \n                        \n                        \n                      );\n      }\n    );/*]]>*/</script>\n    <div>\n      <span class=\"chart-total-item-count\"><p data-bind=\"text: value\"><script data-this=\"{&quot;valueId&quot;:&quot;anon3f01cada784b1bf60f4378e9f339af82&quot;,&quot;initialValue&quot;:&quot;1&quot;}\" type=\"text/x-scoped-javascript\">/*<![CDATA[*/\nreq(\n['observable', 'knockout'],\nfunction (O, ko) {\n  ko.applyBindings({\n      value: O.makeObservable(valueId, initialValue)\n    },\n    this\n  );\n});\n        /*]]>*/</script></p> entries total</span>\n      <span class=\"chart-sampling-warning\"><p data-bind=\"text: value\"><script data-this=\"{&quot;valueId&quot;:&quot;anon590da4a7e6c4597ed81395448997cd6a&quot;,&quot;initialValue&quot;:&quot;&quot;}\" type=\"text/x-scoped-javascript\">/*<![CDATA[*/\nreq(\n['observable', 'knockout'],\nfunction (O, ko) {\n  ko.applyBindings({\n      value: O.makeObservable(valueId, initialValue)\n    },\n    this\n  );\n});\n        /*]]>*/</script></p></span>\n      <div>\n      </div>\n    </div></div>\n            </div><div class=\"tab-pane\" id=\"tab2005565803-1\">\n            <div>\n      <script data-this=\"{&quot;dataId&quot;:&quot;anone41e279d18bb23b358bfba3b9e06cae8&quot;,&quot;dataInit&quot;:[{&quot;_1&quot;:2058,&quot;_2&quot;:{&quot;_1&quot;:&quot;Kendall&quot;,&quot;_2&quot;:&quot;Brewbaker&quot;,&quot;_3&quot;:49}}],&quot;genId&quot;:&quot;1671257278&quot;}\" type=\"text/x-scoped-javascript\">/*<![CDATA[*/req(['../javascripts/notebook/playground','../javascripts/notebook/magic/pivotChart'], \n      function(playground, _magicpivotChart) {\n        // data ==> data-this (in observable.js's scopedEval) ==> this in JS => { dataId, dataInit, ... }\n        // this ==> scope (in observable.js's scopedEval) ==> this.parentElement ==> div.container below (toHtml)\n\n        playground.call(data,\n                        this\n                        ,\n                        {\n    \"f\": _magicpivotChart,\n    \"o\": {\"width\":600,\"height\":400,\"derivedAttributes\":{},\"extraOptions\":{}}\n  }\n  \n                        \n                        \n                      );\n      }\n    );/*]]>*/</script>\n    <div>\n      <span class=\"chart-total-item-count\"><p data-bind=\"text: value\"><script data-this=\"{&quot;valueId&quot;:&quot;anon3494e0c7003ff737556673271f646054&quot;,&quot;initialValue&quot;:&quot;1&quot;}\" type=\"text/x-scoped-javascript\">/*<![CDATA[*/\nreq(\n['observable', 'knockout'],\nfunction (O, ko) {\n  ko.applyBindings({\n      value: O.makeObservable(valueId, initialValue)\n    },\n    this\n  );\n});\n        /*]]>*/</script></p> entries total</span>\n      <span class=\"chart-sampling-warning\"><p data-bind=\"text: value\"><script data-this=\"{&quot;valueId&quot;:&quot;anon9cfbfb33ff756ffd49817682e4d2c6aa&quot;,&quot;initialValue&quot;:&quot;&quot;}\" type=\"text/x-scoped-javascript\">/*<![CDATA[*/\nreq(\n['observable', 'knockout'],\nfunction (O, ko) {\n  ko.applyBindings({\n      value: O.makeObservable(valueId, initialValue)\n    },\n    this\n  );\n});\n        /*]]>*/</script></p></span>\n      <div>\n      </div>\n    </div></div>\n            </div></div>\n      </div>\n    </div></div>"
          },
          "output_type" : "execute_result",
          "execution_count" : 5,
          "time" : "Took: 1.467s, at 2018-01-19 11:29"
        }
      ]
    },
    {
      "metadata" : {
        "id" : "59FC238FF288495E9783F0A9F62FD35A"
      },
      "cell_type" : "markdown",
      "source" : "# Exercice 3"
    },
    {
      "metadata" : {
        "trusted" : true,
        "input_collapsed" : false,
        "collapsed" : false,
        "presentation" : {
          "tabs_state" : "{\n  \"tab_id\": \"#tab1840527228-0\"\n}",
          "pivot_chart_state" : "{\n  \"hiddenAttributes\": [],\n  \"menuLimit\": 200,\n  \"cols\": [],\n  \"rows\": [],\n  \"vals\": [],\n  \"exclusions\": {},\n  \"inclusions\": {},\n  \"unusedAttrsVertical\": 85,\n  \"autoSortUnusedAttrs\": false,\n  \"inclusionsInfo\": {},\n  \"aggregatorName\": \"Count\",\n  \"rendererName\": \"Table\"\n}"
        },
        "id" : "986CBAF5BD144B2689EB4F94901744FC"
      },
      "cell_type" : "code",
      "source" : [
        "graph.triplets\n",
        ".filter{triple => triple.srcAttr._1 == \"Kendall\" | triple.dstAttr._1 == \"Kendall\"}\n",
        ".map {triple => if (triple.dstAttr._1 == \"Kendall\") triple.srcAttr._1 else triple.dstAttr._1}\n",
        ".count()"
      ],
      "outputs" : [
        {
          "name" : "stdout",
          "output_type" : "stream",
          "text" : "res9: Long = 76\n"
        },
        {
          "metadata" : { },
          "data" : {
            "text/html" : "76"
          },
          "output_type" : "execute_result",
          "execution_count" : 6,
          "time" : "Took: 0.898s, at 2018-01-19 11:29"
        }
      ]
    },
    {
      "metadata" : {
        "id" : "F112B91E1F9042CC82ED0885E1D17607"
      },
      "cell_type" : "markdown",
      "source" : "# Exercice 4"
    },
    {
      "metadata" : {
        "trusted" : true,
        "input_collapsed" : false,
        "collapsed" : false,
        "presentation" : {
          "tabs_state" : "{\n  \"tab_id\": \"#tab1335313682-0\"\n}",
          "pivot_chart_state" : "{\n  \"hiddenAttributes\": [],\n  \"menuLimit\": 200,\n  \"cols\": [],\n  \"rows\": [],\n  \"vals\": [],\n  \"exclusions\": {},\n  \"inclusions\": {},\n  \"unusedAttrsVertical\": 85,\n  \"autoSortUnusedAttrs\": false,\n  \"inclusionsInfo\": {},\n  \"aggregatorName\": \"Count\",\n  \"rendererName\": \"Table\"\n}"
        },
        "id" : "8B9FC915B35E4A988EC7B444FA03B18E"
      },
      "cell_type" : "code",
      "source" : [
        "graph.triplets\n",
        "  .filter{triple => triple.dstAttr._1 == \"Kendall\" &\n",
        "          triple.attr._1 == \"colleague\" &\n",
        "          triple.attr._2 > 70}\n",
        "  .map(triple => triple.srcId)\n",
        "  .take(5)"
      ],
      "outputs" : [
        {
          "name" : "stdout",
          "output_type" : "stream",
          "text" : "res29: Array[org.apache.spark.graphx.VertexId] = Array(1941, 1966, 1983)\n"
        },
        {
          "metadata" : { },
          "data" : {
            "text/html" : "<div>\n      <script data-this=\"{&quot;dataId&quot;:&quot;anon986a0d09a826606ca9671126f0d92d02&quot;,&quot;dataInit&quot;:[],&quot;genId&quot;:&quot;1335313682&quot;}\" type=\"text/x-scoped-javascript\">/*<![CDATA[*/req(['../javascripts/notebook/playground','../javascripts/notebook/magic/tabs'], \n      function(playground, _magictabs) {\n        // data ==> data-this (in observable.js's scopedEval) ==> this in JS => { dataId, dataInit, ... }\n        // this ==> scope (in observable.js's scopedEval) ==> this.parentElement ==> div.container below (toHtml)\n\n        playground.call(data,\n                        this\n                        ,\n                        {\n    \"f\": _magictabs,\n    \"o\": {}\n  }\n  \n                        \n                        \n                      );\n      }\n    );/*]]>*/</script>\n    <div>\n      <div>\n        <ul class=\"nav nav-tabs\" id=\"ul1335313682\"><li>\n              <a href=\"#tab1335313682-0\"><i class=\"fa fa-table\"/></a>\n            </li><li>\n              <a href=\"#tab1335313682-1\"><i class=\"fa fa-dot-circle-o\"/></a>\n            </li><li>\n              <a href=\"#tab1335313682-2\"><i class=\"fa fa-line-chart\"/></a>\n            </li><li>\n              <a href=\"#tab1335313682-3\"><i class=\"fa fa-bar-chart\"/></a>\n            </li><li>\n              <a href=\"#tab1335313682-4\"><i class=\"fa fa-cubes\"/></a>\n            </li></ul>\n\n        <div class=\"tab-content\" id=\"tab1335313682\"><div class=\"tab-pane\" id=\"tab1335313682-0\">\n            <div>\n      <script data-this=\"{&quot;dataId&quot;:&quot;anon5fb0420806d5f8a3ec307a6a9db5bf66&quot;,&quot;dataInit&quot;:[{&quot;_1&quot;:0,&quot;_2&quot;:1941},{&quot;_1&quot;:1,&quot;_2&quot;:1966},{&quot;_1&quot;:2,&quot;_2&quot;:1983}],&quot;genId&quot;:&quot;205911897&quot;}\" type=\"text/x-scoped-javascript\">/*<![CDATA[*/req(['../javascripts/notebook/playground','../javascripts/notebook/magic/tableChart'], \n      function(playground, _magictableChart) {\n        // data ==> data-this (in observable.js's scopedEval) ==> this in JS => { dataId, dataInit, ... }\n        // this ==> scope (in observable.js's scopedEval) ==> this.parentElement ==> div.container below (toHtml)\n\n        playground.call(data,\n                        this\n                        ,\n                        {\n    \"f\": _magictableChart,\n    \"o\": {\"headers\":[\"_1\",\"_2\"],\"width\":600,\"height\":400}\n  }\n  \n                        \n                        \n                      );\n      }\n    );/*]]>*/</script>\n    <div>\n      <span class=\"chart-total-item-count\"><p data-bind=\"text: value\"><script data-this=\"{&quot;valueId&quot;:&quot;anond9b564bda2e370e3a2a9b7316e4c96a4&quot;,&quot;initialValue&quot;:&quot;3&quot;}\" type=\"text/x-scoped-javascript\">/*<![CDATA[*/\nreq(\n['observable', 'knockout'],\nfunction (O, ko) {\n  ko.applyBindings({\n      value: O.makeObservable(valueId, initialValue)\n    },\n    this\n  );\n});\n        /*]]>*/</script></p> entries total</span>\n      <span class=\"chart-sampling-warning\"><p data-bind=\"text: value\"><script data-this=\"{&quot;valueId&quot;:&quot;anon9783c15ae79248ab6549ba564b1b7ea0&quot;,&quot;initialValue&quot;:&quot;&quot;}\" type=\"text/x-scoped-javascript\">/*<![CDATA[*/\nreq(\n['observable', 'knockout'],\nfunction (O, ko) {\n  ko.applyBindings({\n      value: O.makeObservable(valueId, initialValue)\n    },\n    this\n  );\n});\n        /*]]>*/</script></p></span>\n      <div>\n      </div>\n    </div></div>\n            </div><div class=\"tab-pane\" id=\"tab1335313682-1\">\n            <div>\n      <script data-this=\"{&quot;dataId&quot;:&quot;anon71dcf4096a4a8780814c14dd9e90dff0&quot;,&quot;dataInit&quot;:[{&quot;_1&quot;:0,&quot;_2&quot;:1941},{&quot;_1&quot;:1,&quot;_2&quot;:1966},{&quot;_1&quot;:2,&quot;_2&quot;:1983}],&quot;genId&quot;:&quot;2123217994&quot;}\" type=\"text/x-scoped-javascript\">/*<![CDATA[*/req(['../javascripts/notebook/playground','../javascripts/notebook/magic/scatterChart'], \n      function(playground, _magicscatterChart) {\n        // data ==> data-this (in observable.js's scopedEval) ==> this in JS => { dataId, dataInit, ... }\n        // this ==> scope (in observable.js's scopedEval) ==> this.parentElement ==> div.container below (toHtml)\n\n        playground.call(data,\n                        this\n                        ,\n                        {\n    \"f\": _magicscatterChart,\n    \"o\": {\"x\":\"_1\",\"y\":\"_2\",\"width\":600,\"height\":400}\n  }\n  \n                        \n                        \n                      );\n      }\n    );/*]]>*/</script>\n    <div>\n      <span class=\"chart-total-item-count\"><p data-bind=\"text: value\"><script data-this=\"{&quot;valueId&quot;:&quot;anone27acfaebc9a8b4a71a406a539c85c1e&quot;,&quot;initialValue&quot;:&quot;3&quot;}\" type=\"text/x-scoped-javascript\">/*<![CDATA[*/\nreq(\n['observable', 'knockout'],\nfunction (O, ko) {\n  ko.applyBindings({\n      value: O.makeObservable(valueId, initialValue)\n    },\n    this\n  );\n});\n        /*]]>*/</script></p> entries total</span>\n      <span class=\"chart-sampling-warning\"><p data-bind=\"text: value\"><script data-this=\"{&quot;valueId&quot;:&quot;anon68e956e404d0ec11b53c3120e811cced&quot;,&quot;initialValue&quot;:&quot;&quot;}\" type=\"text/x-scoped-javascript\">/*<![CDATA[*/\nreq(\n['observable', 'knockout'],\nfunction (O, ko) {\n  ko.applyBindings({\n      value: O.makeObservable(valueId, initialValue)\n    },\n    this\n  );\n});\n        /*]]>*/</script></p></span>\n      <div>\n      </div>\n    </div></div>\n            </div><div class=\"tab-pane\" id=\"tab1335313682-2\">\n            <div>\n      <script data-this=\"{&quot;dataId&quot;:&quot;anon5ec7ae363a0a1c97b41e2b4999bb760d&quot;,&quot;dataInit&quot;:[{&quot;_1&quot;:0,&quot;_2&quot;:1941},{&quot;_1&quot;:1,&quot;_2&quot;:1966},{&quot;_1&quot;:2,&quot;_2&quot;:1983}],&quot;genId&quot;:&quot;1669470129&quot;}\" type=\"text/x-scoped-javascript\">/*<![CDATA[*/req(['../javascripts/notebook/playground','../javascripts/notebook/magic/lineChart'], \n      function(playground, _magiclineChart) {\n        // data ==> data-this (in observable.js's scopedEval) ==> this in JS => { dataId, dataInit, ... }\n        // this ==> scope (in observable.js's scopedEval) ==> this.parentElement ==> div.container below (toHtml)\n\n        playground.call(data,\n                        this\n                        ,\n                        {\n    \"f\": _magiclineChart,\n    \"o\": {\"x\":\"_1\",\"y\":\"_2\",\"width\":600,\"height\":400}\n  }\n  \n                        \n                        \n                      );\n      }\n    );/*]]>*/</script>\n    <div>\n      <span class=\"chart-total-item-count\"><p data-bind=\"text: value\"><script data-this=\"{&quot;valueId&quot;:&quot;anon1ea25e48846f15081da17eaaeb8fa62b&quot;,&quot;initialValue&quot;:&quot;3&quot;}\" type=\"text/x-scoped-javascript\">/*<![CDATA[*/\nreq(\n['observable', 'knockout'],\nfunction (O, ko) {\n  ko.applyBindings({\n      value: O.makeObservable(valueId, initialValue)\n    },\n    this\n  );\n});\n        /*]]>*/</script></p> entries total</span>\n      <span class=\"chart-sampling-warning\"><p data-bind=\"text: value\"><script data-this=\"{&quot;valueId&quot;:&quot;anon5bc210750f9630935bfd1f796aa982ed&quot;,&quot;initialValue&quot;:&quot;&quot;}\" type=\"text/x-scoped-javascript\">/*<![CDATA[*/\nreq(\n['observable', 'knockout'],\nfunction (O, ko) {\n  ko.applyBindings({\n      value: O.makeObservable(valueId, initialValue)\n    },\n    this\n  );\n});\n        /*]]>*/</script></p></span>\n      <div>\n      </div>\n    </div></div>\n            </div><div class=\"tab-pane\" id=\"tab1335313682-3\">\n            <div>\n      <script data-this=\"{&quot;dataId&quot;:&quot;anon0bb2fe7ccce70012945cbf12f4ee0aff&quot;,&quot;dataInit&quot;:[{&quot;_1&quot;:0,&quot;_2&quot;:1941},{&quot;_1&quot;:1,&quot;_2&quot;:1966},{&quot;_1&quot;:2,&quot;_2&quot;:1983}],&quot;genId&quot;:&quot;886682321&quot;}\" type=\"text/x-scoped-javascript\">/*<![CDATA[*/req(['../javascripts/notebook/playground','../javascripts/notebook/magic/barChart'], \n      function(playground, _magicbarChart) {\n        // data ==> data-this (in observable.js's scopedEval) ==> this in JS => { dataId, dataInit, ... }\n        // this ==> scope (in observable.js's scopedEval) ==> this.parentElement ==> div.container below (toHtml)\n\n        playground.call(data,\n                        this\n                        ,\n                        {\n    \"f\": _magicbarChart,\n    \"o\": {\"x\":\"_1\",\"y\":\"_2\",\"width\":600,\"height\":400}\n  }\n  \n                        \n                        \n                      );\n      }\n    );/*]]>*/</script>\n    <div>\n      <span class=\"chart-total-item-count\"><p data-bind=\"text: value\"><script data-this=\"{&quot;valueId&quot;:&quot;anonc531c014fd5e5fa2eb465b80f4858230&quot;,&quot;initialValue&quot;:&quot;3&quot;}\" type=\"text/x-scoped-javascript\">/*<![CDATA[*/\nreq(\n['observable', 'knockout'],\nfunction (O, ko) {\n  ko.applyBindings({\n      value: O.makeObservable(valueId, initialValue)\n    },\n    this\n  );\n});\n        /*]]>*/</script></p> entries total</span>\n      <span class=\"chart-sampling-warning\"><p data-bind=\"text: value\"><script data-this=\"{&quot;valueId&quot;:&quot;anonebb2a73c3edde915dea8ffc6337c4aa1&quot;,&quot;initialValue&quot;:&quot;&quot;}\" type=\"text/x-scoped-javascript\">/*<![CDATA[*/\nreq(\n['observable', 'knockout'],\nfunction (O, ko) {\n  ko.applyBindings({\n      value: O.makeObservable(valueId, initialValue)\n    },\n    this\n  );\n});\n        /*]]>*/</script></p></span>\n      <div>\n      </div>\n    </div></div>\n            </div><div class=\"tab-pane\" id=\"tab1335313682-4\">\n            <div>\n      <script data-this=\"{&quot;dataId&quot;:&quot;anon512ce2b2e0870f4c1374ca0c0f3b3647&quot;,&quot;dataInit&quot;:[{&quot;_1&quot;:0,&quot;_2&quot;:1941},{&quot;_1&quot;:1,&quot;_2&quot;:1966},{&quot;_1&quot;:2,&quot;_2&quot;:1983}],&quot;genId&quot;:&quot;842867522&quot;}\" type=\"text/x-scoped-javascript\">/*<![CDATA[*/req(['../javascripts/notebook/playground','../javascripts/notebook/magic/pivotChart'], \n      function(playground, _magicpivotChart) {\n        // data ==> data-this (in observable.js's scopedEval) ==> this in JS => { dataId, dataInit, ... }\n        // this ==> scope (in observable.js's scopedEval) ==> this.parentElement ==> div.container below (toHtml)\n\n        playground.call(data,\n                        this\n                        ,\n                        {\n    \"f\": _magicpivotChart,\n    \"o\": {\"width\":600,\"height\":400,\"derivedAttributes\":{},\"extraOptions\":{}}\n  }\n  \n                        \n                        \n                      );\n      }\n    );/*]]>*/</script>\n    <div>\n      <span class=\"chart-total-item-count\"><p data-bind=\"text: value\"><script data-this=\"{&quot;valueId&quot;:&quot;anon8ff51058955efaedd7bb7dd5e0290e3b&quot;,&quot;initialValue&quot;:&quot;3&quot;}\" type=\"text/x-scoped-javascript\">/*<![CDATA[*/\nreq(\n['observable', 'knockout'],\nfunction (O, ko) {\n  ko.applyBindings({\n      value: O.makeObservable(valueId, initialValue)\n    },\n    this\n  );\n});\n        /*]]>*/</script></p> entries total</span>\n      <span class=\"chart-sampling-warning\"><p data-bind=\"text: value\"><script data-this=\"{&quot;valueId&quot;:&quot;anon933b90bba1e49090f5e2dfb44de67a92&quot;,&quot;initialValue&quot;:&quot;&quot;}\" type=\"text/x-scoped-javascript\">/*<![CDATA[*/\nreq(\n['observable', 'knockout'],\nfunction (O, ko) {\n  ko.applyBindings({\n      value: O.makeObservable(valueId, initialValue)\n    },\n    this\n  );\n});\n        /*]]>*/</script></p></span>\n      <div>\n      </div>\n    </div></div>\n            </div></div>\n      </div>\n    </div></div>"
          },
          "output_type" : "execute_result",
          "execution_count" : 16,
          "time" : "Took: 0.570s, at 2018-01-19 11:34"
        }
      ]
    },
    {
      "metadata" : {
        "id" : "D1D14EE2B0524E009C3EE6360D1A13E3"
      },
      "cell_type" : "markdown",
      "source" : "# Exercice 5"
    },
    {
      "metadata" : {
        "trusted" : true,
        "input_collapsed" : false,
        "collapsed" : false,
        "presentation" : {
          "tabs_state" : "{\n  \"tab_id\": \"#tab1315848423-0\"\n}",
          "pivot_chart_state" : "{\n  \"hiddenAttributes\": [],\n  \"menuLimit\": 200,\n  \"cols\": [],\n  \"rows\": [],\n  \"vals\": [],\n  \"exclusions\": {},\n  \"inclusions\": {},\n  \"unusedAttrsVertical\": 85,\n  \"autoSortUnusedAttrs\": false,\n  \"inclusionsInfo\": {},\n  \"aggregatorName\": \"Count\",\n  \"rendererName\": \"Table\"\n}"
        },
        "id" : "97C328D64597450FB88E19B5CB5BA7FE"
      },
      "cell_type" : "code",
      "source" : [
        "graph.triplets\n",
        "    .filter(triple => triple.attr._1 == \"friend\" &\n",
        "                      triple.attr._2 > 80)\n",
        "    .map(triple => (triple.srcId, 1))\n",
        "    .reduceByKey(_+_)\n",
        "    .sortBy(tuple => tuple._2, false)\n",
        "    .take(5)"
      ],
      "outputs" : [
        {
          "name" : "stdout",
          "output_type" : "stream",
          "text" : "res53: Array[(org.apache.spark.graphx.VertexId, Int)] = Array((107,59), (1912,47), (1684,43), (483,17), (3437,17))\n"
        },
        {
          "metadata" : { },
          "data" : {
            "text/html" : "<div>\n      <script data-this=\"{&quot;dataId&quot;:&quot;anon4f2e05b6d1abb11b902599045f16cb91&quot;,&quot;dataInit&quot;:[],&quot;genId&quot;:&quot;1315848423&quot;}\" type=\"text/x-scoped-javascript\">/*<![CDATA[*/req(['../javascripts/notebook/playground','../javascripts/notebook/magic/tabs'], \n      function(playground, _magictabs) {\n        // data ==> data-this (in observable.js's scopedEval) ==> this in JS => { dataId, dataInit, ... }\n        // this ==> scope (in observable.js's scopedEval) ==> this.parentElement ==> div.container below (toHtml)\n\n        playground.call(data,\n                        this\n                        ,\n                        {\n    \"f\": _magictabs,\n    \"o\": {}\n  }\n  \n                        \n                        \n                      );\n      }\n    );/*]]>*/</script>\n    <div>\n      <div>\n        <ul class=\"nav nav-tabs\" id=\"ul1315848423\"><li>\n              <a href=\"#tab1315848423-0\"><i class=\"fa fa-table\"/></a>\n            </li><li>\n              <a href=\"#tab1315848423-1\"><i class=\"fa fa-dot-circle-o\"/></a>\n            </li><li>\n              <a href=\"#tab1315848423-2\"><i class=\"fa fa-line-chart\"/></a>\n            </li><li>\n              <a href=\"#tab1315848423-3\"><i class=\"fa fa-bar-chart\"/></a>\n            </li><li>\n              <a href=\"#tab1315848423-4\"><i class=\"fa fa-cubes\"/></a>\n            </li></ul>\n\n        <div class=\"tab-content\" id=\"tab1315848423\"><div class=\"tab-pane\" id=\"tab1315848423-0\">\n            <div>\n      <script data-this=\"{&quot;dataId&quot;:&quot;anon732b85978319f0743a3b0f366fa80b8a&quot;,&quot;dataInit&quot;:[{&quot;_1&quot;:107,&quot;_2&quot;:59},{&quot;_1&quot;:1912,&quot;_2&quot;:47},{&quot;_1&quot;:1684,&quot;_2&quot;:43},{&quot;_1&quot;:483,&quot;_2&quot;:17},{&quot;_1&quot;:3437,&quot;_2&quot;:17}],&quot;genId&quot;:&quot;1709898551&quot;}\" type=\"text/x-scoped-javascript\">/*<![CDATA[*/req(['../javascripts/notebook/playground','../javascripts/notebook/magic/tableChart'], \n      function(playground, _magictableChart) {\n        // data ==> data-this (in observable.js's scopedEval) ==> this in JS => { dataId, dataInit, ... }\n        // this ==> scope (in observable.js's scopedEval) ==> this.parentElement ==> div.container below (toHtml)\n\n        playground.call(data,\n                        this\n                        ,\n                        {\n    \"f\": _magictableChart,\n    \"o\": {\"headers\":[\"_1\",\"_2\"],\"width\":600,\"height\":400}\n  }\n  \n                        \n                        \n                      );\n      }\n    );/*]]>*/</script>\n    <div>\n      <span class=\"chart-total-item-count\"><p data-bind=\"text: value\"><script data-this=\"{&quot;valueId&quot;:&quot;anon3262025b5e17efe7b5983d0a6238d897&quot;,&quot;initialValue&quot;:&quot;5&quot;}\" type=\"text/x-scoped-javascript\">/*<![CDATA[*/\nreq(\n['observable', 'knockout'],\nfunction (O, ko) {\n  ko.applyBindings({\n      value: O.makeObservable(valueId, initialValue)\n    },\n    this\n  );\n});\n        /*]]>*/</script></p> entries total</span>\n      <span class=\"chart-sampling-warning\"><p data-bind=\"text: value\"><script data-this=\"{&quot;valueId&quot;:&quot;anon6061704d04b4a2c7e34c7c19f29bf507&quot;,&quot;initialValue&quot;:&quot;&quot;}\" type=\"text/x-scoped-javascript\">/*<![CDATA[*/\nreq(\n['observable', 'knockout'],\nfunction (O, ko) {\n  ko.applyBindings({\n      value: O.makeObservable(valueId, initialValue)\n    },\n    this\n  );\n});\n        /*]]>*/</script></p></span>\n      <div>\n      </div>\n    </div></div>\n            </div><div class=\"tab-pane\" id=\"tab1315848423-1\">\n            <div>\n      <script data-this=\"{&quot;dataId&quot;:&quot;anon3f1c17ef24ec3d72b2856fe3107c155a&quot;,&quot;dataInit&quot;:[{&quot;_1&quot;:107,&quot;_2&quot;:59},{&quot;_1&quot;:1912,&quot;_2&quot;:47},{&quot;_1&quot;:1684,&quot;_2&quot;:43},{&quot;_1&quot;:483,&quot;_2&quot;:17},{&quot;_1&quot;:3437,&quot;_2&quot;:17}],&quot;genId&quot;:&quot;545618502&quot;}\" type=\"text/x-scoped-javascript\">/*<![CDATA[*/req(['../javascripts/notebook/playground','../javascripts/notebook/magic/scatterChart'], \n      function(playground, _magicscatterChart) {\n        // data ==> data-this (in observable.js's scopedEval) ==> this in JS => { dataId, dataInit, ... }\n        // this ==> scope (in observable.js's scopedEval) ==> this.parentElement ==> div.container below (toHtml)\n\n        playground.call(data,\n                        this\n                        ,\n                        {\n    \"f\": _magicscatterChart,\n    \"o\": {\"x\":\"_1\",\"y\":\"_2\",\"width\":600,\"height\":400}\n  }\n  \n                        \n                        \n                      );\n      }\n    );/*]]>*/</script>\n    <div>\n      <span class=\"chart-total-item-count\"><p data-bind=\"text: value\"><script data-this=\"{&quot;valueId&quot;:&quot;anon332ad519fd2eace0e00edcebf1d5f4f9&quot;,&quot;initialValue&quot;:&quot;5&quot;}\" type=\"text/x-scoped-javascript\">/*<![CDATA[*/\nreq(\n['observable', 'knockout'],\nfunction (O, ko) {\n  ko.applyBindings({\n      value: O.makeObservable(valueId, initialValue)\n    },\n    this\n  );\n});\n        /*]]>*/</script></p> entries total</span>\n      <span class=\"chart-sampling-warning\"><p data-bind=\"text: value\"><script data-this=\"{&quot;valueId&quot;:&quot;anon83d1ad755582ae8bcdfc9f56f082bd0e&quot;,&quot;initialValue&quot;:&quot;&quot;}\" type=\"text/x-scoped-javascript\">/*<![CDATA[*/\nreq(\n['observable', 'knockout'],\nfunction (O, ko) {\n  ko.applyBindings({\n      value: O.makeObservable(valueId, initialValue)\n    },\n    this\n  );\n});\n        /*]]>*/</script></p></span>\n      <div>\n      </div>\n    </div></div>\n            </div><div class=\"tab-pane\" id=\"tab1315848423-2\">\n            <div>\n      <script data-this=\"{&quot;dataId&quot;:&quot;anon719421dc11c81b6dac354449bf2f5626&quot;,&quot;dataInit&quot;:[{&quot;_1&quot;:107,&quot;_2&quot;:59},{&quot;_1&quot;:1912,&quot;_2&quot;:47},{&quot;_1&quot;:1684,&quot;_2&quot;:43},{&quot;_1&quot;:483,&quot;_2&quot;:17},{&quot;_1&quot;:3437,&quot;_2&quot;:17}],&quot;genId&quot;:&quot;776841395&quot;}\" type=\"text/x-scoped-javascript\">/*<![CDATA[*/req(['../javascripts/notebook/playground','../javascripts/notebook/magic/lineChart'], \n      function(playground, _magiclineChart) {\n        // data ==> data-this (in observable.js's scopedEval) ==> this in JS => { dataId, dataInit, ... }\n        // this ==> scope (in observable.js's scopedEval) ==> this.parentElement ==> div.container below (toHtml)\n\n        playground.call(data,\n                        this\n                        ,\n                        {\n    \"f\": _magiclineChart,\n    \"o\": {\"x\":\"_1\",\"y\":\"_2\",\"width\":600,\"height\":400}\n  }\n  \n                        \n                        \n                      );\n      }\n    );/*]]>*/</script>\n    <div>\n      <span class=\"chart-total-item-count\"><p data-bind=\"text: value\"><script data-this=\"{&quot;valueId&quot;:&quot;anond4111fe7298aebe03e786d3e36bf5010&quot;,&quot;initialValue&quot;:&quot;5&quot;}\" type=\"text/x-scoped-javascript\">/*<![CDATA[*/\nreq(\n['observable', 'knockout'],\nfunction (O, ko) {\n  ko.applyBindings({\n      value: O.makeObservable(valueId, initialValue)\n    },\n    this\n  );\n});\n        /*]]>*/</script></p> entries total</span>\n      <span class=\"chart-sampling-warning\"><p data-bind=\"text: value\"><script data-this=\"{&quot;valueId&quot;:&quot;anon8f04ae88e1ae7155d7fbeb7c610cfc88&quot;,&quot;initialValue&quot;:&quot;&quot;}\" type=\"text/x-scoped-javascript\">/*<![CDATA[*/\nreq(\n['observable', 'knockout'],\nfunction (O, ko) {\n  ko.applyBindings({\n      value: O.makeObservable(valueId, initialValue)\n    },\n    this\n  );\n});\n        /*]]>*/</script></p></span>\n      <div>\n      </div>\n    </div></div>\n            </div><div class=\"tab-pane\" id=\"tab1315848423-3\">\n            <div>\n      <script data-this=\"{&quot;dataId&quot;:&quot;anondcee0c6826fbf5d9ec5077cde177a01a&quot;,&quot;dataInit&quot;:[{&quot;_1&quot;:107,&quot;_2&quot;:59},{&quot;_1&quot;:1912,&quot;_2&quot;:47},{&quot;_1&quot;:1684,&quot;_2&quot;:43},{&quot;_1&quot;:483,&quot;_2&quot;:17},{&quot;_1&quot;:3437,&quot;_2&quot;:17}],&quot;genId&quot;:&quot;739836656&quot;}\" type=\"text/x-scoped-javascript\">/*<![CDATA[*/req(['../javascripts/notebook/playground','../javascripts/notebook/magic/barChart'], \n      function(playground, _magicbarChart) {\n        // data ==> data-this (in observable.js's scopedEval) ==> this in JS => { dataId, dataInit, ... }\n        // this ==> scope (in observable.js's scopedEval) ==> this.parentElement ==> div.container below (toHtml)\n\n        playground.call(data,\n                        this\n                        ,\n                        {\n    \"f\": _magicbarChart,\n    \"o\": {\"x\":\"_1\",\"y\":\"_2\",\"width\":600,\"height\":400}\n  }\n  \n                        \n                        \n                      );\n      }\n    );/*]]>*/</script>\n    <div>\n      <span class=\"chart-total-item-count\"><p data-bind=\"text: value\"><script data-this=\"{&quot;valueId&quot;:&quot;anon7941f0d2e196d452fcc5d3eceb4c2ff2&quot;,&quot;initialValue&quot;:&quot;5&quot;}\" type=\"text/x-scoped-javascript\">/*<![CDATA[*/\nreq(\n['observable', 'knockout'],\nfunction (O, ko) {\n  ko.applyBindings({\n      value: O.makeObservable(valueId, initialValue)\n    },\n    this\n  );\n});\n        /*]]>*/</script></p> entries total</span>\n      <span class=\"chart-sampling-warning\"><p data-bind=\"text: value\"><script data-this=\"{&quot;valueId&quot;:&quot;anond43a9955a486dce18d13ea5c66e5ab24&quot;,&quot;initialValue&quot;:&quot;&quot;}\" type=\"text/x-scoped-javascript\">/*<![CDATA[*/\nreq(\n['observable', 'knockout'],\nfunction (O, ko) {\n  ko.applyBindings({\n      value: O.makeObservable(valueId, initialValue)\n    },\n    this\n  );\n});\n        /*]]>*/</script></p></span>\n      <div>\n      </div>\n    </div></div>\n            </div><div class=\"tab-pane\" id=\"tab1315848423-4\">\n            <div>\n      <script data-this=\"{&quot;dataId&quot;:&quot;anonc49b76c63e411bc24b056dd4dbcc61dd&quot;,&quot;dataInit&quot;:[{&quot;_1&quot;:107,&quot;_2&quot;:59},{&quot;_1&quot;:1912,&quot;_2&quot;:47},{&quot;_1&quot;:1684,&quot;_2&quot;:43},{&quot;_1&quot;:483,&quot;_2&quot;:17},{&quot;_1&quot;:3437,&quot;_2&quot;:17}],&quot;genId&quot;:&quot;1481467171&quot;}\" type=\"text/x-scoped-javascript\">/*<![CDATA[*/req(['../javascripts/notebook/playground','../javascripts/notebook/magic/pivotChart'], \n      function(playground, _magicpivotChart) {\n        // data ==> data-this (in observable.js's scopedEval) ==> this in JS => { dataId, dataInit, ... }\n        // this ==> scope (in observable.js's scopedEval) ==> this.parentElement ==> div.container below (toHtml)\n\n        playground.call(data,\n                        this\n                        ,\n                        {\n    \"f\": _magicpivotChart,\n    \"o\": {\"width\":600,\"height\":400,\"derivedAttributes\":{},\"extraOptions\":{}}\n  }\n  \n                        \n                        \n                      );\n      }\n    );/*]]>*/</script>\n    <div>\n      <span class=\"chart-total-item-count\"><p data-bind=\"text: value\"><script data-this=\"{&quot;valueId&quot;:&quot;anon85bdf26bc77bf8f9f2886ad508e43bd2&quot;,&quot;initialValue&quot;:&quot;5&quot;}\" type=\"text/x-scoped-javascript\">/*<![CDATA[*/\nreq(\n['observable', 'knockout'],\nfunction (O, ko) {\n  ko.applyBindings({\n      value: O.makeObservable(valueId, initialValue)\n    },\n    this\n  );\n});\n        /*]]>*/</script></p> entries total</span>\n      <span class=\"chart-sampling-warning\"><p data-bind=\"text: value\"><script data-this=\"{&quot;valueId&quot;:&quot;anon4967d3c8792895776d88c4ba5bc879d2&quot;,&quot;initialValue&quot;:&quot;&quot;}\" type=\"text/x-scoped-javascript\">/*<![CDATA[*/\nreq(\n['observable', 'knockout'],\nfunction (O, ko) {\n  ko.applyBindings({\n      value: O.makeObservable(valueId, initialValue)\n    },\n    this\n  );\n});\n        /*]]>*/</script></p></span>\n      <div>\n      </div>\n    </div></div>\n            </div></div>\n      </div>\n    </div></div>"
          },
          "output_type" : "execute_result",
          "execution_count" : 29,
          "time" : "Took: 0.662s, at 2018-01-19 11:40"
        }
      ]
    },
    {
      "metadata" : {
        "id" : "81B78D87B847403F86FDBF220EA39150"
      },
      "cell_type" : "markdown",
      "source" : "# Exercice 6\n\n## Avec `graph.triplets`"
    },
    {
      "metadata" : {
        "trusted" : true,
        "input_collapsed" : false,
        "collapsed" : false,
        "id" : "D6CAAC29EE1A4A2193F249D8DD4B2725"
      },
      "cell_type" : "code",
      "source" : [
        "graph.triplets\n",
        ".filter{triple => triple.srcAttr._1 == \"Kendall\" | triple.dstAttr._1 == \"Kendall\"}\n",
        ".map {triple => if (triple.dstAttr._1 == \"Kendall\") (triple.srcAttr) else triple.dstAttr}\n",
        ".count()"
      ],
      "outputs" : [
        {
          "name" : "stdout",
          "output_type" : "stream",
          "text" : "res55: Long = 76\n"
        },
        {
          "metadata" : { },
          "data" : {
            "text/html" : "76"
          },
          "output_type" : "execute_result",
          "execution_count" : 30,
          "time" : "Took: 0.551s, at 2018-01-19 11:42"
        }
      ]
    },
    {
      "metadata" : {
        "id" : "70F5FC160E5E453D88DD29962786CFE3"
      },
      "cell_type" : "markdown",
      "source" : "## Avec `collectNeighbors`"
    },
    {
      "metadata" : {
        "trusted" : true,
        "input_collapsed" : false,
        "collapsed" : false,
        "presentation" : {
          "tabs_state" : "{\n  \"tab_id\": \"#tab395159623-0\"\n}",
          "pivot_chart_state" : "{\n  \"hiddenAttributes\": [],\n  \"menuLimit\": 200,\n  \"cols\": [],\n  \"rows\": [],\n  \"vals\": [],\n  \"exclusions\": {},\n  \"inclusions\": {},\n  \"unusedAttrsVertical\": 85,\n  \"autoSortUnusedAttrs\": false,\n  \"inclusionsInfo\": {},\n  \"aggregatorName\": \"Count\",\n  \"rendererName\": \"Table\"\n}"
        },
        "id" : "A4F911C6659F43A4803C094C1650429B"
      },
      "cell_type" : "code",
      "source" : [
        "val kendall_id = graph.vertices\n",
        "    .filter{ case(vId, (firstname, lastname, age)) => firstname == \"Kendall\"}\n",
        "    .take(1)(0)._1\n",
        "\n",
        "println(\"Kendall ID: \" + kendall_id)\n",
        "\n",
        "graph.collectNeighbors(EdgeDirection.Either)\n",
        "    .filter(tuple => tuple._1 == kendall_id)\n",
        "    .take(1)(0)._2\n",
        "    .length\n",
        "//.foreach{ case(vId, (f,l,a)) => println(f,l,a)}"
      ],
      "outputs" : [
        {
          "name" : "stdout",
          "output_type" : "stream",
          "text" : "Kendall ID: 2058\nkendall_id: org.apache.spark.graphx.VertexId = 2058\nres87: Int = 76\n"
        },
        {
          "metadata" : { },
          "data" : {
            "text/html" : "76"
          },
          "output_type" : "execute_result",
          "execution_count" : 46,
          "time" : "Took: 0.751s, at 2018-01-19 11:54"
        }
      ]
    },
    {
      "metadata" : {
        "id" : "1094243717C04B9986AE9604D3093929"
      },
      "cell_type" : "markdown",
      "source" : "## Avec `aggregateMessage`"
    },
    {
      "metadata" : {
        "trusted" : true,
        "input_collapsed" : false,
        "collapsed" : false,
        "id" : "E223B34EEA8342019DEABE55AFBB9C44"
      },
      "cell_type" : "code",
      "source" : [
        "// Correction :\n",
        "graph.aggregateMessages[Array[String]] (\n",
        "triplet => {\n",
        "if(triplet.dstAttr._1 == \"Kendall\")\n",
        "triplet.sendToDst(Array(triplet.srcAttr._1))\n",
        "if(triplet.srcAttr._1 == \"Kendall\")\n",
        "triplet.sendToSrc(Array(triplet.dstAttr._1))\n",
        "},\n",
        "(a,b) => a ++ b //a+\" \"+b\n",
        ").values.collect.foreach(t=>println(t.size)) "
      ],
      "outputs" : [
        {
          "name" : "stdout",
          "output_type" : "stream",
          "text" : "76\n"
        },
        {
          "metadata" : { },
          "data" : {
            "text/html" : ""
          },
          "output_type" : "execute_result",
          "execution_count" : 51,
          "time" : "Took: 0.539s, at 2018-01-19 12:00"
        }
      ]
    },
    {
      "metadata" : {
        "id" : "E29B8596F7364C0E807ACB1062F5940D"
      },
      "cell_type" : "markdown",
      "source" : "# Exercice 7"
    },
    {
      "metadata" : {
        "trusted" : true,
        "input_collapsed" : false,
        "collapsed" : false,
        "presentation" : {
          "tabs_state" : "{\n  \"tab_id\": \"#tab1823220265-0\"\n}",
          "pivot_chart_state" : "{\n  \"hiddenAttributes\": [],\n  \"menuLimit\": 200,\n  \"cols\": [],\n  \"rows\": [],\n  \"vals\": [],\n  \"exclusions\": {},\n  \"inclusions\": {},\n  \"unusedAttrsVertical\": 85,\n  \"autoSortUnusedAttrs\": false,\n  \"inclusionsInfo\": {},\n  \"aggregatorName\": \"Count\",\n  \"rendererName\": \"Table\"\n}"
        },
        "id" : "EB4BE99925EF4CDF8C76D1C7CBC7032A"
      },
      "cell_type" : "code",
      "source" : [
        "// Méthode naïve :\n",
        "\n",
        "val inDegrees = graph.inDegrees\n",
        "println(\"inDegrees:\")\n",
        "inDegrees.take(5).foreach(println)\n",
        "\n",
        "val minInDegree = inDegrees\n",
        "    .values\n",
        "    .reduce((a,b) => Math.min(a,b))\n",
        "\n",
        "val minNodes = inDegrees.filter(t => t._2 == minInDegree).count()"
      ],
      "outputs" : [
        {
          "name" : "stdout",
          "output_type" : "stream",
          "text" : "inDegrees:\n(3558,4)\n(1084,5)\n(1410,10)\n(3456,7)\n(3702,21)\ninDegrees: org.apache.spark.graphx.VertexRDD[Int] = VertexRDDImpl[197] at RDD at VertexRDD.scala:57\nminInDegree: Int = 1\nminNodes: Long = 323\n"
        },
        {
          "metadata" : { },
          "data" : {
            "text/html" : ""
          },
          "output_type" : "execute_result",
          "execution_count" : 16,
          "time" : "Took: 0.542s, at 2018-01-19 12:40"
        }
      ]
    },
    {
      "metadata" : {
        "trusted" : true,
        "input_collapsed" : false,
        "collapsed" : false,
        "presentation" : {
          "tabs_state" : "{\n  \"tab_id\": \"#tab2052378532-0\"\n}",
          "pivot_chart_state" : "{\n  \"hiddenAttributes\": [],\n  \"menuLimit\": 200,\n  \"cols\": [],\n  \"rows\": [],\n  \"vals\": [],\n  \"exclusions\": {},\n  \"inclusions\": {},\n  \"unusedAttrsVertical\": 85,\n  \"autoSortUnusedAttrs\": false,\n  \"inclusionsInfo\": {},\n  \"aggregatorName\": \"Count\",\n  \"rendererName\": \"Table\"\n}"
        },
        "id" : "5C1AF1276159495D835EE0FC86DA5431"
      },
      "cell_type" : "code",
      "source" : [
        "inDegrees.filter(n => n._2 == minInDegree)\n",
        "    .innerJoin(graph.vertices){case (id, d, u) => u._1}\n",
        "    .take(5)"
      ],
      "outputs" : [
        {
          "name" : "stdout",
          "output_type" : "stream",
          "text" : "res139: Array[(org.apache.spark.graphx.VertexId, String)] = Array((956,Geri), (1466,Millard), (160,Adelle), (3650,Yazmin), (2664,Chantal))\n"
        },
        {
          "metadata" : { },
          "data" : {
            "text/html" : "<div>\n      <script data-this=\"{&quot;dataId&quot;:&quot;anon35df416a5950a37af5557041f6b1be87&quot;,&quot;dataInit&quot;:[],&quot;genId&quot;:&quot;2052378532&quot;}\" type=\"text/x-scoped-javascript\">/*<![CDATA[*/req(['../javascripts/notebook/playground','../javascripts/notebook/magic/tabs'], \n      function(playground, _magictabs) {\n        // data ==> data-this (in observable.js's scopedEval) ==> this in JS => { dataId, dataInit, ... }\n        // this ==> scope (in observable.js's scopedEval) ==> this.parentElement ==> div.container below (toHtml)\n\n        playground.call(data,\n                        this\n                        ,\n                        {\n    \"f\": _magictabs,\n    \"o\": {}\n  }\n  \n                        \n                        \n                      );\n      }\n    );/*]]>*/</script>\n    <div>\n      <div>\n        <ul class=\"nav nav-tabs\" id=\"ul2052378532\"><li>\n              <a href=\"#tab2052378532-0\"><i class=\"fa fa-table\"/></a>\n            </li><li>\n              <a href=\"#tab2052378532-1\"><i class=\"fa fa-cubes\"/></a>\n            </li></ul>\n\n        <div class=\"tab-content\" id=\"tab2052378532\"><div class=\"tab-pane\" id=\"tab2052378532-0\">\n            <div>\n      <script data-this=\"{&quot;dataId&quot;:&quot;anon062bc8fdbbc15b52117fef104c8eb82e&quot;,&quot;dataInit&quot;:[{&quot;_1&quot;:956,&quot;_2&quot;:&quot;Geri&quot;},{&quot;_1&quot;:1466,&quot;_2&quot;:&quot;Millard&quot;},{&quot;_1&quot;:160,&quot;_2&quot;:&quot;Adelle&quot;},{&quot;_1&quot;:3650,&quot;_2&quot;:&quot;Yazmin&quot;},{&quot;_1&quot;:2664,&quot;_2&quot;:&quot;Chantal&quot;}],&quot;genId&quot;:&quot;507744372&quot;}\" type=\"text/x-scoped-javascript\">/*<![CDATA[*/req(['../javascripts/notebook/playground','../javascripts/notebook/magic/tableChart'], \n      function(playground, _magictableChart) {\n        // data ==> data-this (in observable.js's scopedEval) ==> this in JS => { dataId, dataInit, ... }\n        // this ==> scope (in observable.js's scopedEval) ==> this.parentElement ==> div.container below (toHtml)\n\n        playground.call(data,\n                        this\n                        ,\n                        {\n    \"f\": _magictableChart,\n    \"o\": {\"headers\":[\"_1\",\"_2\"],\"width\":600,\"height\":400}\n  }\n  \n                        \n                        \n                      );\n      }\n    );/*]]>*/</script>\n    <div>\n      <span class=\"chart-total-item-count\"><p data-bind=\"text: value\"><script data-this=\"{&quot;valueId&quot;:&quot;anone7bf0a6fcac6a2d700032525e1a70b32&quot;,&quot;initialValue&quot;:&quot;5&quot;}\" type=\"text/x-scoped-javascript\">/*<![CDATA[*/\nreq(\n['observable', 'knockout'],\nfunction (O, ko) {\n  ko.applyBindings({\n      value: O.makeObservable(valueId, initialValue)\n    },\n    this\n  );\n});\n        /*]]>*/</script></p> entries total</span>\n      <span class=\"chart-sampling-warning\"><p data-bind=\"text: value\"><script data-this=\"{&quot;valueId&quot;:&quot;anonb2e6e86c9bc81a339f4e5c7553747736&quot;,&quot;initialValue&quot;:&quot;&quot;}\" type=\"text/x-scoped-javascript\">/*<![CDATA[*/\nreq(\n['observable', 'knockout'],\nfunction (O, ko) {\n  ko.applyBindings({\n      value: O.makeObservable(valueId, initialValue)\n    },\n    this\n  );\n});\n        /*]]>*/</script></p></span>\n      <div>\n      </div>\n    </div></div>\n            </div><div class=\"tab-pane\" id=\"tab2052378532-1\">\n            <div>\n      <script data-this=\"{&quot;dataId&quot;:&quot;anon413169d3bf7d04051bf7f842f537050d&quot;,&quot;dataInit&quot;:[{&quot;_1&quot;:956,&quot;_2&quot;:&quot;Geri&quot;},{&quot;_1&quot;:1466,&quot;_2&quot;:&quot;Millard&quot;},{&quot;_1&quot;:160,&quot;_2&quot;:&quot;Adelle&quot;},{&quot;_1&quot;:3650,&quot;_2&quot;:&quot;Yazmin&quot;},{&quot;_1&quot;:2664,&quot;_2&quot;:&quot;Chantal&quot;}],&quot;genId&quot;:&quot;1391292638&quot;}\" type=\"text/x-scoped-javascript\">/*<![CDATA[*/req(['../javascripts/notebook/playground','../javascripts/notebook/magic/pivotChart'], \n      function(playground, _magicpivotChart) {\n        // data ==> data-this (in observable.js's scopedEval) ==> this in JS => { dataId, dataInit, ... }\n        // this ==> scope (in observable.js's scopedEval) ==> this.parentElement ==> div.container below (toHtml)\n\n        playground.call(data,\n                        this\n                        ,\n                        {\n    \"f\": _magicpivotChart,\n    \"o\": {\"width\":600,\"height\":400,\"derivedAttributes\":{},\"extraOptions\":{}}\n  }\n  \n                        \n                        \n                      );\n      }\n    );/*]]>*/</script>\n    <div>\n      <span class=\"chart-total-item-count\"><p data-bind=\"text: value\"><script data-this=\"{&quot;valueId&quot;:&quot;anond62c8347f693a6d0d0b52bf2f4f04000&quot;,&quot;initialValue&quot;:&quot;5&quot;}\" type=\"text/x-scoped-javascript\">/*<![CDATA[*/\nreq(\n['observable', 'knockout'],\nfunction (O, ko) {\n  ko.applyBindings({\n      value: O.makeObservable(valueId, initialValue)\n    },\n    this\n  );\n});\n        /*]]>*/</script></p> entries total</span>\n      <span class=\"chart-sampling-warning\"><p data-bind=\"text: value\"><script data-this=\"{&quot;valueId&quot;:&quot;anonfd2aed38f28a37af33a6aedb1943a85c&quot;,&quot;initialValue&quot;:&quot;&quot;}\" type=\"text/x-scoped-javascript\">/*<![CDATA[*/\nreq(\n['observable', 'knockout'],\nfunction (O, ko) {\n  ko.applyBindings({\n      value: O.makeObservable(valueId, initialValue)\n    },\n    this\n  );\n});\n        /*]]>*/</script></p></span>\n      <div>\n      </div>\n    </div></div>\n            </div></div>\n      </div>\n    </div></div>"
          },
          "output_type" : "execute_result",
          "execution_count" : 14,
          "time" : "Took: 0.517s, at 2018-01-19 12:39"
        }
      ]
    },
    {
      "metadata" : {
        "id" : "BC64C1BE12B04E91AE8A3660AF733C7B"
      },
      "cell_type" : "markdown",
      "source" : "# Exercice 8"
    },
    {
      "metadata" : {
        "trusted" : true,
        "input_collapsed" : false,
        "collapsed" : false,
        "presentation" : {
          "tabs_state" : "{\n  \"tab_id\": \"#tab1028967265-0\"\n}",
          "pivot_chart_state" : "{\n  \"hiddenAttributes\": [],\n  \"menuLimit\": 200,\n  \"cols\": [],\n  \"rows\": [],\n  \"vals\": [],\n  \"exclusions\": {},\n  \"inclusions\": {},\n  \"unusedAttrsVertical\": 85,\n  \"autoSortUnusedAttrs\": false,\n  \"inclusionsInfo\": {},\n  \"aggregatorName\": \"Count\",\n  \"rendererName\": \"Table\"\n}"
        },
        "id" : "4FDB0B7D6E5146D687FA098EB783751F"
      },
      "cell_type" : "code",
      "source" : [
        "graph.outerJoinVertices(inDegrees){(vId, data, optDeg) => optDeg.getOrElse(0)}\n",
        "    .vertices\n",
        ".filter{ case(vId, inDeg) => inDeg == 0}\n",
        ".take(5)"
      ],
      "outputs" : [
        {
          "name" : "stdout",
          "output_type" : "stream",
          "text" : "res129: Array[(org.apache.spark.graphx.VertexId, Int)] = Array((686,0), (0,0))\n"
        },
        {
          "metadata" : { },
          "data" : {
            "text/html" : "<div>\n      <script data-this=\"{&quot;dataId&quot;:&quot;anon6a335116866e9f860eb11c24ba80f18e&quot;,&quot;dataInit&quot;:[],&quot;genId&quot;:&quot;1028967265&quot;}\" type=\"text/x-scoped-javascript\">/*<![CDATA[*/req(['../javascripts/notebook/playground','../javascripts/notebook/magic/tabs'], \n      function(playground, _magictabs) {\n        // data ==> data-this (in observable.js's scopedEval) ==> this in JS => { dataId, dataInit, ... }\n        // this ==> scope (in observable.js's scopedEval) ==> this.parentElement ==> div.container below (toHtml)\n\n        playground.call(data,\n                        this\n                        ,\n                        {\n    \"f\": _magictabs,\n    \"o\": {}\n  }\n  \n                        \n                        \n                      );\n      }\n    );/*]]>*/</script>\n    <div>\n      <div>\n        <ul class=\"nav nav-tabs\" id=\"ul1028967265\"><li>\n              <a href=\"#tab1028967265-0\"><i class=\"fa fa-table\"/></a>\n            </li><li>\n              <a href=\"#tab1028967265-1\"><i class=\"fa fa-dot-circle-o\"/></a>\n            </li><li>\n              <a href=\"#tab1028967265-2\"><i class=\"fa fa-line-chart\"/></a>\n            </li><li>\n              <a href=\"#tab1028967265-3\"><i class=\"fa fa-bar-chart\"/></a>\n            </li><li>\n              <a href=\"#tab1028967265-4\"><i class=\"fa fa-cubes\"/></a>\n            </li></ul>\n\n        <div class=\"tab-content\" id=\"tab1028967265\"><div class=\"tab-pane\" id=\"tab1028967265-0\">\n            <div>\n      <script data-this=\"{&quot;dataId&quot;:&quot;anon7de62e8f3ddd0baed94e93bb5c90d1a9&quot;,&quot;dataInit&quot;:[{&quot;_1&quot;:686,&quot;_2&quot;:0},{&quot;_1&quot;:0,&quot;_2&quot;:0}],&quot;genId&quot;:&quot;1577156170&quot;}\" type=\"text/x-scoped-javascript\">/*<![CDATA[*/req(['../javascripts/notebook/playground','../javascripts/notebook/magic/tableChart'], \n      function(playground, _magictableChart) {\n        // data ==> data-this (in observable.js's scopedEval) ==> this in JS => { dataId, dataInit, ... }\n        // this ==> scope (in observable.js's scopedEval) ==> this.parentElement ==> div.container below (toHtml)\n\n        playground.call(data,\n                        this\n                        ,\n                        {\n    \"f\": _magictableChart,\n    \"o\": {\"headers\":[\"_1\",\"_2\"],\"width\":600,\"height\":400}\n  }\n  \n                        \n                        \n                      );\n      }\n    );/*]]>*/</script>\n    <div>\n      <span class=\"chart-total-item-count\"><p data-bind=\"text: value\"><script data-this=\"{&quot;valueId&quot;:&quot;anon8eff46f804657e5928d265645f5c78c5&quot;,&quot;initialValue&quot;:&quot;2&quot;}\" type=\"text/x-scoped-javascript\">/*<![CDATA[*/\nreq(\n['observable', 'knockout'],\nfunction (O, ko) {\n  ko.applyBindings({\n      value: O.makeObservable(valueId, initialValue)\n    },\n    this\n  );\n});\n        /*]]>*/</script></p> entries total</span>\n      <span class=\"chart-sampling-warning\"><p data-bind=\"text: value\"><script data-this=\"{&quot;valueId&quot;:&quot;anon8f5548306ecf48a6ea32c7c4639957a9&quot;,&quot;initialValue&quot;:&quot;&quot;}\" type=\"text/x-scoped-javascript\">/*<![CDATA[*/\nreq(\n['observable', 'knockout'],\nfunction (O, ko) {\n  ko.applyBindings({\n      value: O.makeObservable(valueId, initialValue)\n    },\n    this\n  );\n});\n        /*]]>*/</script></p></span>\n      <div>\n      </div>\n    </div></div>\n            </div><div class=\"tab-pane\" id=\"tab1028967265-1\">\n            <div>\n      <script data-this=\"{&quot;dataId&quot;:&quot;anon1d5503e07630fce0cf7340c9a617975b&quot;,&quot;dataInit&quot;:[{&quot;_1&quot;:686,&quot;_2&quot;:0},{&quot;_1&quot;:0,&quot;_2&quot;:0}],&quot;genId&quot;:&quot;1282481671&quot;}\" type=\"text/x-scoped-javascript\">/*<![CDATA[*/req(['../javascripts/notebook/playground','../javascripts/notebook/magic/scatterChart'], \n      function(playground, _magicscatterChart) {\n        // data ==> data-this (in observable.js's scopedEval) ==> this in JS => { dataId, dataInit, ... }\n        // this ==> scope (in observable.js's scopedEval) ==> this.parentElement ==> div.container below (toHtml)\n\n        playground.call(data,\n                        this\n                        ,\n                        {\n    \"f\": _magicscatterChart,\n    \"o\": {\"x\":\"_1\",\"y\":\"_2\",\"width\":600,\"height\":400}\n  }\n  \n                        \n                        \n                      );\n      }\n    );/*]]>*/</script>\n    <div>\n      <span class=\"chart-total-item-count\"><p data-bind=\"text: value\"><script data-this=\"{&quot;valueId&quot;:&quot;anon459a2e711500d9239507ff883b196781&quot;,&quot;initialValue&quot;:&quot;2&quot;}\" type=\"text/x-scoped-javascript\">/*<![CDATA[*/\nreq(\n['observable', 'knockout'],\nfunction (O, ko) {\n  ko.applyBindings({\n      value: O.makeObservable(valueId, initialValue)\n    },\n    this\n  );\n});\n        /*]]>*/</script></p> entries total</span>\n      <span class=\"chart-sampling-warning\"><p data-bind=\"text: value\"><script data-this=\"{&quot;valueId&quot;:&quot;anonf57f559b50c873dda6a62ad274481706&quot;,&quot;initialValue&quot;:&quot;&quot;}\" type=\"text/x-scoped-javascript\">/*<![CDATA[*/\nreq(\n['observable', 'knockout'],\nfunction (O, ko) {\n  ko.applyBindings({\n      value: O.makeObservable(valueId, initialValue)\n    },\n    this\n  );\n});\n        /*]]>*/</script></p></span>\n      <div>\n      </div>\n    </div></div>\n            </div><div class=\"tab-pane\" id=\"tab1028967265-2\">\n            <div>\n      <script data-this=\"{&quot;dataId&quot;:&quot;anon06a9dee8299354981aa71ffb341ceac9&quot;,&quot;dataInit&quot;:[{&quot;_1&quot;:686,&quot;_2&quot;:0},{&quot;_1&quot;:0,&quot;_2&quot;:0}],&quot;genId&quot;:&quot;1092885443&quot;}\" type=\"text/x-scoped-javascript\">/*<![CDATA[*/req(['../javascripts/notebook/playground','../javascripts/notebook/magic/lineChart'], \n      function(playground, _magiclineChart) {\n        // data ==> data-this (in observable.js's scopedEval) ==> this in JS => { dataId, dataInit, ... }\n        // this ==> scope (in observable.js's scopedEval) ==> this.parentElement ==> div.container below (toHtml)\n\n        playground.call(data,\n                        this\n                        ,\n                        {\n    \"f\": _magiclineChart,\n    \"o\": {\"x\":\"_1\",\"y\":\"_2\",\"width\":600,\"height\":400}\n  }\n  \n                        \n                        \n                      );\n      }\n    );/*]]>*/</script>\n    <div>\n      <span class=\"chart-total-item-count\"><p data-bind=\"text: value\"><script data-this=\"{&quot;valueId&quot;:&quot;anona7bf07250054c93ed96b73c911ee9780&quot;,&quot;initialValue&quot;:&quot;2&quot;}\" type=\"text/x-scoped-javascript\">/*<![CDATA[*/\nreq(\n['observable', 'knockout'],\nfunction (O, ko) {\n  ko.applyBindings({\n      value: O.makeObservable(valueId, initialValue)\n    },\n    this\n  );\n});\n        /*]]>*/</script></p> entries total</span>\n      <span class=\"chart-sampling-warning\"><p data-bind=\"text: value\"><script data-this=\"{&quot;valueId&quot;:&quot;anonbd00e366737c0a599bf508b97b3288ad&quot;,&quot;initialValue&quot;:&quot;&quot;}\" type=\"text/x-scoped-javascript\">/*<![CDATA[*/\nreq(\n['observable', 'knockout'],\nfunction (O, ko) {\n  ko.applyBindings({\n      value: O.makeObservable(valueId, initialValue)\n    },\n    this\n  );\n});\n        /*]]>*/</script></p></span>\n      <div>\n      </div>\n    </div></div>\n            </div><div class=\"tab-pane\" id=\"tab1028967265-3\">\n            <div>\n      <script data-this=\"{&quot;dataId&quot;:&quot;anon1d5c73c16f7385e175e64ce2c2f4ea3f&quot;,&quot;dataInit&quot;:[{&quot;_1&quot;:686,&quot;_2&quot;:0},{&quot;_1&quot;:0,&quot;_2&quot;:0}],&quot;genId&quot;:&quot;2097925556&quot;}\" type=\"text/x-scoped-javascript\">/*<![CDATA[*/req(['../javascripts/notebook/playground','../javascripts/notebook/magic/barChart'], \n      function(playground, _magicbarChart) {\n        // data ==> data-this (in observable.js's scopedEval) ==> this in JS => { dataId, dataInit, ... }\n        // this ==> scope (in observable.js's scopedEval) ==> this.parentElement ==> div.container below (toHtml)\n\n        playground.call(data,\n                        this\n                        ,\n                        {\n    \"f\": _magicbarChart,\n    \"o\": {\"x\":\"_1\",\"y\":\"_2\",\"width\":600,\"height\":400}\n  }\n  \n                        \n                        \n                      );\n      }\n    );/*]]>*/</script>\n    <div>\n      <span class=\"chart-total-item-count\"><p data-bind=\"text: value\"><script data-this=\"{&quot;valueId&quot;:&quot;anone2bd8a3ec6a45242ae201a53c59ec6ff&quot;,&quot;initialValue&quot;:&quot;2&quot;}\" type=\"text/x-scoped-javascript\">/*<![CDATA[*/\nreq(\n['observable', 'knockout'],\nfunction (O, ko) {\n  ko.applyBindings({\n      value: O.makeObservable(valueId, initialValue)\n    },\n    this\n  );\n});\n        /*]]>*/</script></p> entries total</span>\n      <span class=\"chart-sampling-warning\"><p data-bind=\"text: value\"><script data-this=\"{&quot;valueId&quot;:&quot;anon0a35abdd9dbd8752b7890b9ee2a46477&quot;,&quot;initialValue&quot;:&quot;&quot;}\" type=\"text/x-scoped-javascript\">/*<![CDATA[*/\nreq(\n['observable', 'knockout'],\nfunction (O, ko) {\n  ko.applyBindings({\n      value: O.makeObservable(valueId, initialValue)\n    },\n    this\n  );\n});\n        /*]]>*/</script></p></span>\n      <div>\n      </div>\n    </div></div>\n            </div><div class=\"tab-pane\" id=\"tab1028967265-4\">\n            <div>\n      <script data-this=\"{&quot;dataId&quot;:&quot;anon4e5579a32b39b14aa14de9e6e661f104&quot;,&quot;dataInit&quot;:[{&quot;_1&quot;:686,&quot;_2&quot;:0},{&quot;_1&quot;:0,&quot;_2&quot;:0}],&quot;genId&quot;:&quot;745381172&quot;}\" type=\"text/x-scoped-javascript\">/*<![CDATA[*/req(['../javascripts/notebook/playground','../javascripts/notebook/magic/pivotChart'], \n      function(playground, _magicpivotChart) {\n        // data ==> data-this (in observable.js's scopedEval) ==> this in JS => { dataId, dataInit, ... }\n        // this ==> scope (in observable.js's scopedEval) ==> this.parentElement ==> div.container below (toHtml)\n\n        playground.call(data,\n                        this\n                        ,\n                        {\n    \"f\": _magicpivotChart,\n    \"o\": {\"width\":600,\"height\":400,\"derivedAttributes\":{},\"extraOptions\":{}}\n  }\n  \n                        \n                        \n                      );\n      }\n    );/*]]>*/</script>\n    <div>\n      <span class=\"chart-total-item-count\"><p data-bind=\"text: value\"><script data-this=\"{&quot;valueId&quot;:&quot;anonc264183e36234b37811106417c9a6927&quot;,&quot;initialValue&quot;:&quot;2&quot;}\" type=\"text/x-scoped-javascript\">/*<![CDATA[*/\nreq(\n['observable', 'knockout'],\nfunction (O, ko) {\n  ko.applyBindings({\n      value: O.makeObservable(valueId, initialValue)\n    },\n    this\n  );\n});\n        /*]]>*/</script></p> entries total</span>\n      <span class=\"chart-sampling-warning\"><p data-bind=\"text: value\"><script data-this=\"{&quot;valueId&quot;:&quot;anon57adef13e576e451c4c7967e0b65246e&quot;,&quot;initialValue&quot;:&quot;&quot;}\" type=\"text/x-scoped-javascript\">/*<![CDATA[*/\nreq(\n['observable', 'knockout'],\nfunction (O, ko) {\n  ko.applyBindings({\n      value: O.makeObservable(valueId, initialValue)\n    },\n    this\n  );\n});\n        /*]]>*/</script></p></span>\n      <div>\n      </div>\n    </div></div>\n            </div></div>\n      </div>\n    </div></div>"
          },
          "output_type" : "execute_result",
          "execution_count" : 9,
          "time" : "Took: 0.514s, at 2018-01-19 12:34"
        }
      ]
    }
  ],
  "nbformat" : 4
}