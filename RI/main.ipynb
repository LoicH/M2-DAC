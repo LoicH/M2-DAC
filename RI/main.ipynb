{
 "cells": [
  {
   "cell_type": "markdown",
   "metadata": {},
   "source": [
    "# Information Retrieval"
   ]
  },
  {
   "cell_type": "code",
   "execution_count": 1,
   "metadata": {
    "collapsed": false
   },
   "outputs": [],
   "source": [
    "import ParserCACM\n",
    "import TextRepresenter\n",
    "import indexation\n",
    "import modeles\n",
    "from query import QueryParserCACM\n",
    "import evaluation\n",
    "import os\n",
    "import matplotlib.pyplot as plt\n",
    "%matplotlib inline\n",
    "import numpy as np\n",
    "import operator\n",
    "\n",
    "\"\"\" Some info to remember when testing:\n",
    "- Query 10 is about parallel computation\n",
    "- Doc 46 is about parallelism too\n",
    "\"\"\"\n",
    "\n",
    "# Constants:\n",
    "srcFolder = \"cacm\"\n",
    "srcFile = \"cacm.txt\"\n",
    "qryFile = \"cacm.qry\"\n",
    "relFile = \"cacm.rel\"\n",
    "gendata = \"gendata\"\n",
    "indexName = \"cacm\"\n",
    "docId = 46\n",
    "queryId = np.random.randint(1,60)\n",
    "wordTest = \"logic\"\n",
    "\n",
    "cacm_txt = os.path.join(srcFolder, srcFile)\n",
    "cacm_qry = os.path.join(srcFolder, qryFile)\n",
    "cacm_rel = os.path.join(srcFolder, relFile)"
   ]
  },
  {
   "cell_type": "markdown",
   "metadata": {},
   "source": [
    "## Testing the indexation:"
   ]
  },
  {
   "cell_type": "code",
   "execution_count": 2,
   "metadata": {
    "collapsed": false
   },
   "outputs": [
    {
     "name": "stdout",
     "output_type": "stream",
     "text": [
      "Performing the indexation...\n",
      "1st pass: build the index...\n",
      "2nd pass: build the inverted index...\n",
      "Finished.\n"
     ]
    }
   ],
   "source": [
    "# Construct the index:\n",
    "idx = indexation.Index(indexName, gendata)\n",
    "stemmer = TextRepresenter.PorterStemmer()\n",
    "idx.indexation(cacm_txt, ParserCACM.ParserCACM(),\n",
    "               stemmer)"
   ]
  },
  {
   "cell_type": "code",
   "execution_count": 3,
   "metadata": {
    "collapsed": false
   },
   "outputs": [
    {
     "name": "stdout",
     "output_type": "stream",
     "text": [
      "\n",
      "###### Testing the index: ###### \n",
      "Retrieve common stems in doc 46:\n",
      "['program', 'ar', 'programm', 'problem', 'logic', 'requir', 'parallel', 'stretch', 'concurr', 'feasibl']\n",
      "Should look like\n",
      "> “The tendency towards increased parallelism in\n",
      "> computers is noted.  Exploitation of this parallelism\n",
      "> presents a number of new problems in machine design\n",
      "> and in programming systems...”\n",
      "\n",
      "Retrieve docs that contains 'logic'\n",
      "Should include doc 63 and 46: True\n"
     ]
    }
   ],
   "source": [
    "print(\"\\n###### Testing the index: ###### \")\n",
    "print(\"Retrieve common stems in doc %d:\" % docId)\n",
    "stems = sorted(idx.getTfsForDoc(docId).items(), key=operator.itemgetter(1), reverse=True)\n",
    "print([stem for stem, freq in stems[:10]])\n",
    "print(\"\"\"Should look like\n",
    "> “The tendency towards increased parallelism in\n",
    "> computers is noted.  Exploitation of this parallelism\n",
    "> presents a number of new problems in machine design\n",
    "> and in programming systems...”\"\"\")\n",
    "\n",
    "print(\"\\nRetrieve docs that contains 'logic'\")\n",
    "docs = idx.getTfsForStem(\"logic\") \n",
    "print(\"Should include doc 63 and 46:\", (63 in docs.keys() and 46 in docs.keys()))"
   ]
  },
  {
   "cell_type": "markdown",
   "metadata": {},
   "source": [
    "## Testing the weighters:"
   ]
  },
  {
   "cell_type": "code",
   "execution_count": 4,
   "metadata": {
    "collapsed": false
   },
   "outputs": [
    {
     "name": "stdout",
     "output_type": "stream",
     "text": [
      "\n",
      "###### Testing BinaryWeighter: ###### \n",
      "bw.getDocWeightsForDoc( 46 ): {'concurr': 1, 'feasibl': 1, 'consider': 1, 'design': 1, 'present': 1, 'tendenc': 1, 'increas': 1, 'ar': 3, 'logic': 2, 'carefulli': 1, 'balanc': 1, 'combin': 1, 'supervisori': 1, 'mcdonough': 1, 'requir': 2, 'parallel': 2, 'discuss': 1, 'exploit': 1, 'program': 4, 'scalzi': 1, 'thi': 1, 'programm': 3, 'problem': 3, 'sever': 1, 'multiprogramm': 1, 'execut': 1, 'describ': 1, 'minimum': 1, 'codd': 1, 'place': 1, 'independ': 1, 'stretch': 2, 'comput': 1, 'number': 1, 'built': 1, 'note': 1, 'burden': 1, 'lowri': 1, 'met': 1, 'machin': 1, 'techniqu': 1, 'compil': 1, 'success': 1}\n",
      "\n",
      "bw.getDocWeightsForStem('logic'): {2817: 1, 3154: 6, 1030: 1, 2568: 1, 2313: 2, 3082: 1, 2060: 1, 2322: 1, 2067: 1, 22: 1, 2845: 1, 30: 1, 2848: 3, 2851: 1, 2054: 1, 3111: 1, 1834: 1, 1324: 1, 46: 2, 1327: 1, 2952: 1, 2871: 4, 3133: 5, 63: 2, 320: 8, 1602: 2, 2230: 1, 2888: 1, 3147: 1, 1101: 1, 2127: 2, 850: 1, 595: 2, 753: 1, 2145: 1, 2146: 2, 1381: 1, 2406: 3, 1383: 2, 1103: 1, 2931: 5, 1908: 1, 1398: 1, 3194: 1, 1916: 1, 2943: 1, 1155: 2, 1462: 1, 1928: 4, 1677: 1, 1718: 1, 1170: 1, 1173: 1, 2209: 1, 1700: 1, 2726: 3, 679: 2, 1195: 1, 1965: 1, 1456: 1, 2227: 1, 2484: 1, 1974: 6, 1208: 1, 1465: 1, 3008: 1, 1788: 1, 202: 1, 971: 1, 2765: 1, 1235: 1, 1749: 1, 1188: 1, 3034: 2, 847: 1, 1786: 1, 2341: 1, 2273: 1, 1255: 1, 892: 1, 2794: 1, 1515: 1, 1261: 1, 2289: 3, 2035: 1, 1271: 1, 250: 1, 2812: 2, 2046: 1}\n",
      "\n",
      "bw.getWeightsForQuery(' Parallel languages; languages for parallel computation'): {'comput': 1, 'languag': 1, 'parallel': 1}\n",
      "\n",
      "###### Testing Vectoriel with BinaryWeighter: ###### \n",
      "Top 10 documents for the previous query:\n",
      "[('2785', 0.61477862349427204), ('2685', 0.58925565098878963), ('1306', 0.57154760664940818), ('1471', 0.52636135596781519), ('1262', 0.51703649065928348), ('1366', 0.51257832149077465), ('1747', 0.49099025303098287), ('1496', 0.47639306734033093), ('93', 0.47140452079103173), ('830', 0.47140452079103173)]\n"
     ]
    }
   ],
   "source": [
    "print(\"\\n###### Testing BinaryWeighter: ###### \")\n",
    "bw = modeles.BinaryWeighter(idx)\n",
    "print(\"bw.getDocWeightsForDoc(\",docId,\"):\", \n",
    "    bw.getDocWeightsForDoc(docId))\n",
    "print(\"\\nbw.getDocWeightsForStem('\"+wordTest+\"'):\", \n",
    "    bw.getDocWeightsForStem(wordTest))\n",
    "query = stemmer.getTextRepresentation(\" Parallel languages; languages for parallel computation\")\n",
    "print(\"\\nbw.getWeightsForQuery(' Parallel languages; languages for parallel computation'):\", \n",
    "    bw.getWeightsForQuery(query))\n",
    "\n",
    "print(\"\\n###### Testing Vectoriel with BinaryWeighter: ###### \")\n",
    "vect = modeles.Vectoriel(idx, bw)\n",
    "print(\"Top 10 documents for the previous query:\")\n",
    "print(vect.getRanking(query)[:10])"
   ]
  },
  {
   "cell_type": "code",
   "execution_count": 5,
   "metadata": {
    "collapsed": false
   },
   "outputs": [
    {
     "name": "stdout",
     "output_type": "stream",
     "text": [
      "\n",
      "###### Testing TfidfWeighter: ###### \n",
      "tfidfWeighter.getDocWeightsForDoc( 46 ): {'concurr': 1, 'feasibl': 1, 'consider': 1, 'design': 1, 'present': 1, 'tendenc': 1, 'increas': 1, 'ar': 3, 'logic': 2, 'carefulli': 1, 'balanc': 1, 'combin': 1, 'supervisori': 1, 'mcdonough': 1, 'requir': 2, 'parallel': 2, 'discuss': 1, 'exploit': 1, 'program': 4, 'scalzi': 1, 'thi': 1, 'programm': 3, 'problem': 3, 'sever': 1, 'multiprogramm': 1, 'execut': 1, 'describ': 1, 'minimum': 1, 'codd': 1, 'place': 1, 'independ': 1, 'stretch': 2, 'comput': 1, 'number': 1, 'built': 1, 'note': 1, 'burden': 1, 'lowri': 1, 'met': 1, 'machin': 1, 'techniqu': 1, 'compil': 1, 'success': 1}\n",
      "\n",
      "tfidfWeighter.getDocWeightsForStem(\"logic\"): {2817: 1, 3154: 6, 1030: 1, 2568: 1, 2313: 2, 3082: 1, 2060: 1, 2322: 1, 2067: 1, 22: 1, 2845: 1, 30: 1, 2848: 3, 2851: 1, 2054: 1, 3111: 1, 1834: 1, 1324: 1, 46: 2, 1327: 1, 2952: 1, 2871: 4, 3133: 5, 63: 2, 320: 8, 1602: 2, 2230: 1, 2888: 1, 3147: 1, 1101: 1, 2127: 2, 850: 1, 595: 2, 753: 1, 2145: 1, 2146: 2, 1381: 1, 2406: 3, 1383: 2, 1103: 1, 2931: 5, 1908: 1, 1398: 1, 3194: 1, 1916: 1, 2943: 1, 1155: 2, 1462: 1, 1928: 4, 1677: 1, 1718: 1, 1170: 1, 1173: 1, 2209: 1, 1700: 1, 2726: 3, 679: 2, 1195: 1, 1965: 1, 1456: 1, 2227: 1, 2484: 1, 1974: 6, 1208: 1, 1465: 1, 3008: 1, 1788: 1, 202: 1, 971: 1, 2765: 1, 1235: 1, 1749: 1, 1188: 1, 3034: 2, 847: 1, 1786: 1, 2341: 1, 2273: 1, 1255: 1, 892: 1, 2794: 1, 1515: 1, 1261: 1, 2289: 3, 2035: 1, 1271: 1, 250: 1, 2812: 2, 2046: 1}\n",
      "\n",
      "tfidfWeighter.getWeightsForQuery(query): {'comput': 1.2477816381451639, 'languag': 2.063342122745655, 'parallel': 3.7154464814986583}\n",
      "\n",
      "###### Testing Vectoriel with TfidfWeighter: ###### \n",
      "Top 10 documents for the query:\n",
      "[('2785', 0.57941128535569653), ('1262', 0.51066523962083155), ('2685', 0.45810111354445732), ('141', 0.4194149275774155), ('2664', 0.40991750925498277), ('2973', 0.38801291762174844), ('1471', 0.38326984017445048), ('1306', 0.38303649175591897), ('392', 0.37513611553650089), ('2700', 0.36739539970804652)]\n"
     ]
    }
   ],
   "source": [
    "\n",
    "print(\"\\n###### Testing TfidfWeighter: ###### \")\n",
    "tfidfWeighter = modeles.TfidfWeighter(idx)\n",
    "print(\"tfidfWeighter.getDocWeightsForDoc(\", docId, \"):\",\n",
    "    tfidfWeighter.getDocWeightsForDoc(docId))\n",
    "print(\"\\ntfidfWeighter.getDocWeightsForStem(\\\"logic\\\"):\",\n",
    "    tfidfWeighter.getDocWeightsForStem(wordTest))\n",
    "print(\"\\ntfidfWeighter.getWeightsForQuery(query):\",\n",
    "    tfidfWeighter.getWeightsForQuery(query))\n",
    "\n",
    "print(\"\\n###### Testing Vectoriel with TfidfWeighter: ###### \")\n",
    "vect = modeles.Vectoriel(idx, tfidfWeighter)\n",
    "print(\"Top 10 documents for the query:\")\n",
    "print(vect.getRanking(query)[:10])\n"
   ]
  },
  {
   "cell_type": "markdown",
   "metadata": {},
   "source": [
    "## Testing the QueryParser"
   ]
  },
  {
   "cell_type": "code",
   "execution_count": 6,
   "metadata": {
    "collapsed": false
   },
   "outputs": [
    {
     "name": "stdout",
     "output_type": "stream",
     "text": [
      "\n",
      "###### Testing QueryParserCACM: ###### \n",
      "Searching for query #47:\n",
      "Query {id=1, txt='What articles exist which deal with TSS (Time Sharing System), an\n",
      "operating system for IBM computers?\n",
      "', relevances=[2020, 1410, 1572, 1605, 2358]}\n",
      "--------------------\n",
      "Query {id=2, txt='I am interested in articles written either by Prieve or Udo Pooch\n",
      "', relevances=[2434, 3078, 2863]}\n",
      "--------------------\n",
      "Query {id=3, txt='Intermediate languages used in construction of multi-targeted compilers; TCOLL\n",
      "', relevances=[2290, 2923, 1947, 1613, 1134, 1807]}\n",
      "--------------------\n",
      "Query {id=4, txt='I'm interested in mechanisms for communicating between disjoint processes,\n",
      "possibly, but not exclusively, in a distributed environment.  I would\n",
      "rather see descriptions of complete mechanisms, with or without implementations,\n",
      "as opposed to theoretical work on the abstract problem.  Remote procedure\n",
      "calls and message-passing are examples of my interests.\n",
      "', relevances=[2912, 3073, 2371, 2597, 3082, 2796, 2256, 1811, 1749, 3127, 3128, 3043]}\n",
      "--------------------\n",
      "Query {id=5, txt='I'd like papers on design and implementation of editing interfaces,\n",
      "window-managers, command interpreters, etc.  The essential issues are\n",
      "human interface design, with views on improvements to user efficiency,\n",
      "effectiveness and satisfaction.\n",
      "', relevances=[2399, 2299, 756, 2501, 2820, 1307, 1502, 2035]}\n",
      "--------------------\n",
      "Query {id=6, txt='Interested in articles on robotics, motion planning particularly the\n",
      "geometric and combinatorial aspects.  We are not interested in the\n",
      "dynamics of arm motion.\n",
      "', relevances=[2828, 2078, 1543]}\n",
      "--------------------\n",
      "Query {id=7, txt='I am interested in distributed algorithms - concurrent programs in\n",
      "which processes communicate and synchronize by using message passing.\n",
      "Areas of particular interest include fault-tolerance and techniques\n",
      "for understanding the correctness of these algorithms.\n",
      "', relevances=[3141, 2376, 3148, 3082, 2700, 2895, 2320, 2578, 1877, 2777, 2618, 2597, 2912, 2256, 3043, 2342, 2150, 2280, 2866, 1198, 2941, 2865, 2482, 1960, 2228, 3128, 1338, 2685]}\n",
      "--------------------\n",
      "Query {id=8, txt='Addressing schemes for resources in networks; resource addressing in\n",
      "network operating systems\n",
      "', relevances=[3032, 2625, 2849]}\n",
      "--------------------\n",
      "Query {id=9, txt='Security considerations in local networks, network operating systems,\n",
      "and distributed systems.\n",
      "', relevances=[3128, 2372, 3158, 2870, 3111, 2632, 3068, 3177, 2876]}\n",
      "--------------------\n",
      "Query {id=10, txt='Parallel languages; languages for parallel computation\n",
      "', relevances=[2896, 1601, 1795, 3075, 1158, 2433, 2376, 2700, 2060, 1613, 141, 2256, 1747, 3156, 1262, 2777, 2714, 2895, 3039, 2912, 2785, 2851, 1380, 2342, 2150, 2289, 2664, 46, 1198, 392, 1811, 950, 2618, 2685, 1471]}\n",
      "--------------------\n",
      "Query {id=11, txt='SETL, Very High Level Languages\n",
      "', relevances=[3150, 3073, 1923, 1188, 2246, 2956, 2699, 2316, 1491, 2923, 1043, 1396, 1358, 2710, 1306, 2715, 2716, 2906, 2527]}\n",
      "--------------------\n",
      "Query {id=12, txt='portable operating systems\n",
      "', relevances=[2080, 1523, 2629, 2246, 3127]}\n",
      "--------------------\n",
      "Query {id=13, txt='code optimization for space efficiency\n",
      "', relevances=[1807, 2579, 115, 2495, 1223, 1795, 1625, 1231, 1947, 2897, 1551]}\n",
      "--------------------\n",
      "Query {id=14, txt='find all discussions of optimal implementations of sort algorithms for\n",
      "database management applications\n",
      "', relevances=[2176, 2563, 776, 2191, 3075, 1175, 2714, 2716, 866, 2337, 1956, 2348, 2397, 1969, 827, 2108, 864, 1724, 2118, 865, 74, 1997, 850, 851, 852, 854, 855, 856, 857, 858, 860, 861, 862, 2272, 2017, 2146, 2664, 1980, 232, 3187, 117, 2679, 2041, 1919]}\n",
      "--------------------\n",
      "Query {id=15, txt='Find all discussions of horizontal microcode optimization with special\n",
      "emphasis on optimization of loops and global optimization.\n",
      "', relevances=[2701, 2880, 2685, 2495, 2598, 2263, 1947, 1613, 1231, 1551]}\n",
      "--------------------\n",
      "Query {id=16, txt='find all descriptions of file handling in operating systems based on\n",
      "multiple processes and message passing.\n",
      "', relevances=[2912, 2817, 2114, 1828, 3105, 2342, 3073, 2376, 2378, 2632, 3148, 1960, 1746, 1749, 2070, 2500, 1854]}\n",
      "--------------------\n",
      "Query {id=17, txt='Optimization of intermediate and machine code\n",
      "', relevances=[2579, 1947, 1223, 1231, 2923, 2495, 1613, 1934, 1807, 1134, 2290, 115, 405, 2586, 1551, 1535]}\n",
      "--------------------\n",
      "Query {id=18, txt='Languages and compilers for parallel processors, especially highly\n",
      "horizontal microcoded machines; code compaction\n",
      "', relevances=[2433, 1811, 2685, 1158, 2413, 2175, 1215, 2060, 1613, 1262, 1471]}\n",
      "--------------------\n",
      "Query {id=19, txt='Parallel algorithms\n",
      "', relevances=[1601, 3075, 3156, 950, 3175, 2664, 2266, 2973, 2714, 141, 863]}\n",
      "--------------------\n",
      "Query {id=20, txt='Graph theoretic algorithms applicable to sparse matrices\n",
      "', relevances=[2986, 1563, 2695]}\n",
      "--------------------\n",
      "Query {id=21, txt='computational complexity, intractability, class-complete reductions,\n",
      "algorithms and efficiency\n",
      "', relevances=[3018, 3139, 2932, 1429, 1847, 2490, 2603, 2703, 2189, 2702, 2701]}\n",
      "--------------------\n",
      "Query {id=22, txt='I am interested in hidden-line and hidden-surface algorithms for\n",
      "cylinders, toroids, spheres, and cones.  This is a rather specialized\n",
      "topic in computer graphics.\n",
      "', relevances=[2369, 2692, 2760, 2441, 2761, 2827, 2828, 2637, 2638, 2829, 2384, 3149, 2678, 2473, 2564, 3116, 2751]}\n",
      "--------------------\n",
      "Query {id=23, txt='Distributed computing structures and algorithms\n",
      "', relevances=[2849, 2578, 3148, 3137]}\n",
      "--------------------\n",
      "Query {id=24, txt='Applied stochastic processes\n",
      "', relevances=[1696, 2123, 1892, 2373, 3078, 2667, 268, 2862, 2996, 2069, 2297, 2970, 3098]}\n",
      "--------------------\n",
      "Query {id=25, txt='Performance evaluation and modelling of computer systems\n",
      "', relevances=[1408, 2434, 1901, 268, 1805, 2318, 2319, 3088, 3089, 2452, 1518, 2582, 2818, 2095, 1698, 1572, 2085, 2984, 2218, 2859, 2988, 2862, 2863, 2996, 2741, 2358, 1719, 3006, 1653, 2881, 963, 2373, 2765, 2831, 1892, 2277, 2918, 2535, 3048, 3119, 2667, 2668, 2669, 2798, 2928, 3059, 757, 1526, 2681, 3067, 1533]}\n",
      "--------------------\n",
      "Query {id=26, txt='Concurrency control mechanisms in operating systems\n",
      "', relevances=[2912, 2376, 3082, 2379, 2700, 2320, 3043, 1749, 2777, 2618, 2597, 2080, 2256, 2851, 1828, 2150, 2342, 1960, 3048, 2541, 1198, 1071, 2632, 2866, 2740, 2938, 3128, 1338, 3039, 1854]}\n",
      "--------------------\n",
      "Query {id=27, txt='Memory management aspects of operating systems\n",
      "', relevances=[2560, 2498, 2435, 2902, 3052, 2955, 2818, 2669, 2768, 2798, 1750, 1879, 1752, 1884, 2596, 2918, 2983, 1641, 1642, 2859, 2988, 1901, 2734, 2095, 2864, 2481, 3000, 2297, 2747]}\n",
      "--------------------\n",
      "Query {id=28, txt='Any information on packet radio networks.  Of particular interest are\n",
      "algorithms for packet routing, and for dealing with changes in\n",
      "network topography.  I am not interested in the hardware used in the\n",
      "network.\n",
      "', relevances=[3032, 2849, 2578, 2890, 2949]}\n",
      "--------------------\n",
      "Query {id=29, txt='Number-theoretic algorithms, especially involving prime number series,\n",
      "sieves, and Chinese Remainder theorem.\n",
      "', relevances=[513, 610, 1539, 1094, 1537, 2120, 2028, 935, 1420, 1538, 1967, 1840, 1841, 2932, 2089, 377, 2927, 3037, 2462]}\n",
      "--------------------\n",
      "Query {id=30, txt='Articles on text formatting systems, including \"what you see is what you\n",
      "get\" systems.  Examples: t/nroff, scribe, bravo.\n",
      "', relevances=[2786, 2486, 1926, 2917]}\n",
      "--------------------\n",
      "Query {id=31, txt='I'd like to find articles describing the use of singular value decomposition\n",
      "in digital image processing.  Applications include finding approximations\n",
      "to the original image and restoring images that are subject to noise. An\n",
      "article on the subject is H.C. Andrews and C.L. Patterson \"Outer product\n",
      "expansions and their uses in digital image processing\", American Mathematical\n",
      "Monthly, vol. 82.\n",
      "', relevances=[2125, 3047]}\n",
      "--------------------\n",
      "Query {id=32, txt='I'd like to find articles describing graph algorithms that are based on\n",
      "the eigenvalue decomposition (or singular value decomposition) of the\n",
      "ajacency matrix for the graph.  I'm especially interested in any heuristic\n",
      "algorithms for graph coloring and graph isomorphism using this method.\n",
      "', relevances=[1145, 3139, 366]}\n",
      "--------------------\n",
      "Query {id=33, txt='Articles about the sensitivity of the eigenvalue decomposition of real\n",
      "matrices, in particular, zero-one matrices.  I'm especially interested in\n",
      "the separation of eigenspaces corresponding to distinct eigenvalues.\n",
      "Articles on the subject:\n",
      "C. Davis and W.M. Kahn, \"The rotation of eigenvectors by a permutation:,\n",
      "SIAM J. Numerical Analysis, vol. 7, no. 1 (1970); G.W. Stewart, \"Error\n",
      "bounds for approximate invariant subspaces of closed linear operators\",\n",
      "SIAM J. Numerical Analysis., Vol. 8, no. 4 (1971).\n",
      "', relevances=[2805]}\n",
      "--------------------\n",
      "Query {id=34, txt='Currently interested in isolation of root of polynomial; there is an old\n",
      "article by Heindel, L.E. in J. ACM, Vol. 18, 533-548.  I would like to find\n",
      "more recent material.\n",
      "', relevances=[1265]}\n",
      "--------------------\n",
      "Query {id=35, txt='Probabilistic algorithms especially those dealing with algebraic and\n",
      "symbolic manipulation.  Some examples:\n",
      "Rabiin, \"Probabilistic algorithm on finite field\", SIAM\n",
      "Waztch, \"Probabilistic testing of polynomial identities\", SIAM\n",
      "', relevances=[1350]}\n",
      "--------------------\n",
      "Query {id=36, txt='Fast algorithm for context-free language recognition or parsing\n",
      "', relevances=[1825, 2179, 2084, 3094, 1768, 2986, 1836, 2733, 2702, 2824, 1683, 2708, 2836, 2423, 2340, 1787, 2110, 2015]}\n",
      "--------------------\n",
      "Query {id=37, txt='Articles describing the relationship between data types and concurrency\n",
      "(e.g. what is the type of a process?  when is a synchronization attempt \n",
      "between two processes \"type correct\"?  in a message-passing system is there\n",
      "any notion of the types of messages?--i.e. any way to check that the sender\n",
      "of the message and the receiver are both treating the bit stream as some\n",
      "particular type)\n",
      "', relevances=[2625, 2651, 2632, 2377, 3148, 3144, 2738, 2840, 2265, 2939, 2941, 2558]}\n",
      "--------------------\n",
      "Query {id=38, txt='What is the type of a module?\t(I don't want the entire literature on\n",
      "Abstract Data Types here, but I'm not sure how to phrase this to avoid it.\n",
      "I'm interested in questions about how one can check that a module \"matches\"\n",
      "contexts in which it is used.)\n",
      "', relevances=[2625, 2651, 2632, 2956, 2957, 2958, 2960, 2868, 3150, 3031, 2265, 2939, 2940, 2941, 2558, 3103]}\n",
      "--------------------\n",
      "Query {id=39, txt='What does type compatibility mean in languages that allow programmer\n",
      "defined types?  (You might want to restrict this to \"extensible\" languages\n",
      "that allow definition of abstract data types or programmer-supplied\n",
      "definitions of operators like *, +.)\n",
      "', relevances=[2625, 2651, 1861, 2632, 2317, 2126, 1693, 3031, 2265, 2939, 2941, 2558]}\n",
      "--------------------\n",
      "Query {id=40, txt='List all articles dealing with data types in the following languages:\n",
      "Pascal, CLU, Alphard, Russell, Ada, ALGOL 68, EL1.  List any other languages\n",
      "that are referenced frequently in papers on the above languages (e.g. catch\n",
      "any languages with interesting type structures that I might have missed).\n",
      "', relevances=[2939, 2148, 1614, 2958, 2265, 2956, 2651, 2940, 2941, 2126]}\n",
      "--------------------\n",
      "Query {id=41, txt='Theory of distributed systems and databases.  Subtopics of special\n",
      "interest include reliability and fault-tolerance in distributed systems,\n",
      "atomicity, distributed transactions, synchronization algorithms, \n",
      "resource allocation; lower bounds and models for asynchronous parallel\n",
      "systems.  Also theory of communicating processes and protocols.   \n",
      "', relevances=[963]}\n",
      "--------------------\n",
      "Query {id=42, txt='Computer performance evaluation techniques using pattern recognition\n",
      "and clustering.\n",
      "', relevances=[3072, 1827, 1572, 2085, 2022, 2151, 2344, 2247, 3048, 1805, 1518, 1069, 2984, 2318, 2951, 1653, 2542, 2522, 1884, 2749]}\n",
      "--------------------\n",
      "Query {id=43, txt='Analysis and perception of shape by humans and computers.  Shape\n",
      "descriptions, shape recognition by computer.  Two-dimensional shapes.\n",
      "Measures of circularity.  Shape matching.\n",
      "', relevances=[3172, 2754, 2883, 2811, 3116, 266, 2827, 2828, 2829, 462, 3149, 2514, 2195, 2004, 2382, 1686, 1113, 2201, 2523, 1554, 2910, 2655, 2400, 1697, 2211, 2788, 3047, 297, 2924, 1325, 2994, 2771, 2421, 3062, 1528, 122, 2751, 2841, 2826, 2913, 2687]}\n",
      "--------------------\n",
      "Query {id=44, txt='Texture analysis by computer.\tDigitized texture analysis.  Texture\n",
      "synthesis. Perception of texture.\n",
      "', relevances=[2913, 1891, 3013, 3047, 2924, 2827, 1804, 2829, 2382, 2547, 2514, 2771, 2004, 2523, 2751, 2910, 2687]}\n",
      "--------------------\n",
      "Query {id=45, txt='The use of operations research models to optimize information system\n",
      "performance.  This includes fine tuning decisions such as secondary index\n",
      "selection, file reorganization, and distributed databases.\n",
      "', relevances=[2816, 3137, 2882, 268, 2765, 1935, 3152, 2257, 2452, 2965, 3129, 2969, 2716, 2360, 3168, 2964, 1831, 2140, 2669, 3058, 2359, 2680, 2900, 3002, 2493, 2878]}\n",
      "--------------------\n",
      "Query {id=46, txt='The application of fuzzy subset theory to clustering and information\n",
      "retrieval problems.  This includes performance evaluation and automatic\n",
      "indexing considerations.\n",
      "', relevances=[149]}\n",
      "--------------------\n",
      "Query: Query {id=47, txt='The use of Bayesian decision models to optimize information retrieval\n",
      "system performance.  This includes stopping rules to determine when a\n",
      "user should cease scanning the output of a retrieval search.\n",
      "', relevances=[1353]}\n",
      "\n",
      "Scores: [('2848', 0.27220982747353611), ('3113', 0.26976254681529005), ('1032', 0.25322567212975972), ('2726', 0.25124200897786231), ('2318', 0.24987247685818487), ('3033', 0.24528615896364173), ('2598', 0.24156803462444984), ('1699', 0.23871370704681791), ('2885', 0.23675480460378243), ('2856', 0.22906386669666842)]\n"
     ]
    }
   ],
   "source": [
    "print(\"\\n###### Testing QueryParserCACM: ###### \")\n",
    "qp = QueryParserCACM(cacm_qry, cacm_rel)\n",
    "query = qp.nextQuery()\n",
    "print(\"Searching for query #%d:\" % queryId)\n",
    "while query is not None and query.getID() != str(queryId):\n",
    "    print(query)\n",
    "    print(20*'-')\n",
    "    query = qp.nextQuery()\n",
    "    \n",
    "print(\"Query:\", query)\n",
    "queryTxt = stemmer.getTextRepresentation(query.getText())\n",
    "scores = vect.getRanking(queryTxt)\n",
    "print(\"\\nScores:\", scores[:10])\n"
   ]
  },
  {
   "cell_type": "markdown",
   "metadata": {},
   "source": [
    "## Testing measures:"
   ]
  },
  {
   "cell_type": "code",
   "execution_count": 7,
   "metadata": {
    "collapsed": false,
    "scrolled": false
   },
   "outputs": [
    {
     "name": "stdout",
     "output_type": "stream",
     "text": [
      "\n",
      "###### Testing evaluation.PrecisionRecallMeasure: ###### \n",
      "Searching for query # [42 46 31 17 15]\n",
      "Query: Query {id=15, txt='Find all discussions of horizontal microcode optimization with special\n",
      "emphasis on optimization of loops and global optimization.\n",
      "', relevances=[2701, 2880, 2685, 2495, 2598, 2263, 1947, 1613, 1231, 1551]}\n"
     ]
    },
    {
     "data": {
      "image/png": "[encoded data removed]",
      "text/plain": [
       "<matplotlib.figure.Figure at 0x7f4abd482da0>"
      ]
     },
     "metadata": {},
     "output_type": "display_data"
    },
    {
     "name": "stdout",
     "output_type": "stream",
     "text": [
      "Query: Query {id=17, txt='Optimization of intermediate and machine code\n",
      "', relevances=[2579, 1947, 1223, 1231, 2923, 2495, 1613, 1934, 1807, 1134, 2290, 115, 405, 2586, 1551, 1535]}\n"
     ]
    },
    {
     "data": {
      "image/png": "[encoded data removed]",
      "text/plain": [
       "<matplotlib.figure.Figure at 0x7f4abd482400>"
      ]
     },
     "metadata": {},
     "output_type": "display_data"
    },
    {
     "name": "stdout",
     "output_type": "stream",
     "text": [
      "Query: Query {id=31, txt='I'd like to find articles describing the use of singular value decomposition\n",
      "in digital image processing.  Applications include finding approximations\n",
      "to the original image and restoring images that are subject to noise. An\n",
      "article on the subject is H.C. Andrews and C.L. Patterson \"Outer product\n",
      "expansions and their uses in digital image processing\", American Mathematical\n",
      "Monthly, vol. 82.\n",
      "', relevances=[2125, 3047]}\n"
     ]
    },
    {
     "data": {
      "image/png": "[encoded data removed]",
      "text/plain": [
       "<matplotlib.figure.Figure at 0x7f4abd473208>"
      ]
     },
     "metadata": {},
     "output_type": "display_data"
    },
    {
     "name": "stdout",
     "output_type": "stream",
     "text": [
      "Query: Query {id=42, txt='Computer performance evaluation techniques using pattern recognition\n",
      "and clustering.\n",
      "', relevances=[3072, 1827, 1572, 2085, 2022, 2151, 2344, 2247, 3048, 1805, 1518, 1069, 2984, 2318, 2951, 1653, 2542, 2522, 1884, 2749]}\n"
     ]
    },
    {
     "data": {
      "image/png": "[encoded data removed]",
      "text/plain": [
       "<matplotlib.figure.Figure at 0x7f4ae4784c88>"
      ]
     },
     "metadata": {},
     "output_type": "display_data"
    },
    {
     "name": "stdout",
     "output_type": "stream",
     "text": [
      "Query: Query {id=46, txt='The application of fuzzy subset theory to clustering and information\n",
      "retrieval problems.  This includes performance evaluation and automatic\n",
      "indexing considerations.\n",
      "', relevances=[149]}\n"
     ]
    },
    {
     "data": {
      "image/png": "[encoded data removed]",
      "text/plain": [
       "<matplotlib.figure.Figure at 0x7f4ae47829e8>"
      ]
     },
     "metadata": {},
     "output_type": "display_data"
    }
   ],
   "source": [
    "print(\"\\n###### Testing evaluation.PrecisionRecallMeasure: ###### \")\n",
    "queryChosen = np.random.randint(1, 50, size=5)\n",
    "qp = QueryParserCACM(cacm_qry, cacm_rel)\n",
    "query = qp.nextQuery()\n",
    "print(\"Searching for query #\",queryChosen)\n",
    "while query is not None :\n",
    "    if int(query.getID()) in queryChosen:\n",
    "        print(\"Query:\", query)\n",
    "        queryTxt = stemmer.getTextRepresentation(query.getText())\n",
    "        scores = vect.getRanking(queryTxt)\n",
    "        irlist = evaluation.IRList(query, scores)\n",
    "        precisRecall = evaluation.PrecisionRecallMeasure(irlist)\n",
    "        pr = precisRecall.eval()\n",
    "        plt.scatter(*zip(*pr))\n",
    "        plt.title(\"Precision-Recall for query #\"+query.getID())\n",
    "        plt.show()\n",
    " \n",
    "        \n",
    "    query = qp.nextQuery()\n",
    "    "
   ]
  },
  {
   "cell_type": "code",
   "execution_count": null,
   "metadata": {
    "collapsed": true
   },
   "outputs": [],
   "source": []
  }
 ],
 "metadata": {
  "kernelspec": {
   "display_name": "Python 3",
   "language": "python",
   "name": "python3"
  },
  "language_info": {
   "codemirror_mode": {
    "name": "ipython",
    "version": 3
   },
   "file_extension": ".py",
   "mimetype": "text/x-python",
   "name": "python",
   "nbconvert_exporter": "python",
   "pygments_lexer": "ipython3",
   "version": "3.5.2"
  }
 },
 "nbformat": 4,
 "nbformat_minor": 2
}
